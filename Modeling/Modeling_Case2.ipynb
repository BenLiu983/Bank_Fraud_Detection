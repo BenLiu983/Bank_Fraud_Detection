{
  "nbformat": 4,
  "nbformat_minor": 0,
  "metadata": {
    "colab": {
      "name": "Modeling_Case2.ipynb",
      "provenance": [],
      "collapsed_sections": []
    },
    "kernelspec": {
      "display_name": "Python 3",
      "name": "python3"
    }
  },
  "cells": [
    {
      "cell_type": "markdown",
      "metadata": {
        "id": "hcy7u7msC7_P"
      },
      "source": [
        "# Fraud detection using credit card transaction data"
      ]
    },
    {
      "cell_type": "markdown",
      "metadata": {
        "id": "5PF6i3VYYtGv"
      },
      "source": [
        "## 1. Load the data\n",
        "\n"
      ]
    },
    {
      "cell_type": "code",
      "metadata": {
        "id": "QcR1N7GUDKom"
      },
      "source": [
        "import pandas as pd\n",
        "import numpy as np\n",
        "import seaborn as sns\n",
        "from sklearn.neighbors import KNeighborsClassifier\n",
        "from sklearn.ensemble import RandomForestClassifier\n",
        "from sklearn.linear_model import LogisticRegression\n",
        "from sklearn.ensemble import BaggingClassifier\n",
        "from sklearn.tree import DecisionTreeClassifier\n",
        "from sklearn.ensemble import GradientBoostingClassifier\n",
        "from sklearn.model_selection import cross_validate\n",
        "from sklearn.model_selection import cross_val_score\n",
        "from sklearn.model_selection import RandomizedSearchCV\n",
        "from sklearn.metrics import roc_curve, roc_auc_score\n",
        "from sklearn.preprocessing import MinMaxScaler\n",
        "from xgboost import XGBClassifier\n",
        "from lightgbm import LGBMClassifier\n",
        "from lightgbm import plot_importance\n",
        "from sklearn.svm import SVC\n",
        "from sklearn.model_selection import train_test_split\n",
        "from sklearn import metrics\n",
        "import matplotlib.pyplot as plt\n",
        "sns.set(rc={'figure.figsize':(10,6)})"
      ],
      "execution_count": 1,
      "outputs": []
    },
    {
      "cell_type": "code",
      "metadata": {
        "id": "hImq9AU8DA05"
      },
      "source": [
        "df = pd.read_csv('/content/drive/MyDrive/Colab Notebooks/creditcard.csv')"
      ],
      "execution_count": 2,
      "outputs": []
    },
    {
      "cell_type": "markdown",
      "metadata": {
        "id": "YEViIHMgs0L_"
      },
      "source": [
        "## 2 EDA (preivous file)"
      ]
    },
    {
      "cell_type": "markdown",
      "metadata": {
        "id": "YTKtIcUQi1Lc"
      },
      "source": [
        "## 3. Feature Engineering (Case 2)\r\n",
        "\r\n"
      ]
    },
    {
      "cell_type": "code",
      "metadata": {
        "colab": {
          "base_uri": "https://localhost:8080/",
          "height": 241
        },
        "id": "pBX9Dp-cxXJ6",
        "outputId": "e67a9ee3-162e-450d-d551-afd09435f99f"
      },
      "source": [
        "# 3.1 posEntryMode\r\n",
        "df['posEM_new'] = np.where(df['posEntryMode'] == '', '999',df['posEntryMode'])\r\n",
        "\r\n",
        "# 3.2 transactionAmount and creditLimit\r\n",
        "df['amountOver'] = np.where(df['transactionAmount'] > df['creditLimit'], 1, 0)\r\n",
        "\r\n",
        "# 3.3 cardCVV and enteredCVV\r\n",
        "df['cvvNotSame'] =  np.where(df['cardCVV'] != df['enteredCVV'], 1, 0)\r\n",
        "\r\n",
        "# 3.4 DateTime\r\n",
        "df['transactionDateTime'] = pd.to_datetime(df['transactionDateTime'])\r\n",
        "df['hour'] = df['transactionDateTime'].dt.hour\r\n",
        "\r\n",
        "# 3.5 Create a new dataframe\r\n",
        "df1 = df[['isFraud','cvvNotSame','amountOver', 'posEM_new', 'hour', 'transactionAmount', 'availableMoney', 'cardPresent', 'merchantCategoryCode']]\r\n",
        "df1 = pd.get_dummies(columns=['posEM_new'], data = df1)\r\n",
        "df1 = pd.get_dummies(columns=['merchantCategoryCode'], data = df1)\r\n",
        "df_final = df1.dropna()\r\n",
        "df_final.head()"
      ],
      "execution_count": 3,
      "outputs": [
        {
          "output_type": "execute_result",
          "data": {
            "text/html": [
              "<div>\n",
              "<style scoped>\n",
              "    .dataframe tbody tr th:only-of-type {\n",
              "        vertical-align: middle;\n",
              "    }\n",
              "\n",
              "    .dataframe tbody tr th {\n",
              "        vertical-align: top;\n",
              "    }\n",
              "\n",
              "    .dataframe thead th {\n",
              "        text-align: right;\n",
              "    }\n",
              "</style>\n",
              "<table border=\"1\" class=\"dataframe\">\n",
              "  <thead>\n",
              "    <tr style=\"text-align: right;\">\n",
              "      <th></th>\n",
              "      <th>isFraud</th>\n",
              "      <th>cvvNotSame</th>\n",
              "      <th>amountOver</th>\n",
              "      <th>hour</th>\n",
              "      <th>transactionAmount</th>\n",
              "      <th>availableMoney</th>\n",
              "      <th>cardPresent</th>\n",
              "      <th>posEM_new_2.0</th>\n",
              "      <th>posEM_new_5.0</th>\n",
              "      <th>posEM_new_80.0</th>\n",
              "      <th>posEM_new_9.0</th>\n",
              "      <th>posEM_new_90.0</th>\n",
              "      <th>posEM_new_nan</th>\n",
              "      <th>merchantCategoryCode_airline</th>\n",
              "      <th>merchantCategoryCode_auto</th>\n",
              "      <th>merchantCategoryCode_cable/phone</th>\n",
              "      <th>merchantCategoryCode_entertainment</th>\n",
              "      <th>merchantCategoryCode_fastfood</th>\n",
              "      <th>merchantCategoryCode_food</th>\n",
              "      <th>merchantCategoryCode_food_delivery</th>\n",
              "      <th>merchantCategoryCode_fuel</th>\n",
              "      <th>merchantCategoryCode_furniture</th>\n",
              "      <th>merchantCategoryCode_gym</th>\n",
              "      <th>merchantCategoryCode_health</th>\n",
              "      <th>merchantCategoryCode_hotels</th>\n",
              "      <th>merchantCategoryCode_mobileapps</th>\n",
              "      <th>merchantCategoryCode_online_gifts</th>\n",
              "      <th>merchantCategoryCode_online_retail</th>\n",
              "      <th>merchantCategoryCode_online_subscriptions</th>\n",
              "      <th>merchantCategoryCode_personal care</th>\n",
              "      <th>merchantCategoryCode_rideshare</th>\n",
              "      <th>merchantCategoryCode_subscriptions</th>\n",
              "    </tr>\n",
              "  </thead>\n",
              "  <tbody>\n",
              "    <tr>\n",
              "      <th>0</th>\n",
              "      <td>False</td>\n",
              "      <td>0</td>\n",
              "      <td>0</td>\n",
              "      <td>14</td>\n",
              "      <td>98.55</td>\n",
              "      <td>5000.0</td>\n",
              "      <td>False</td>\n",
              "      <td>1</td>\n",
              "      <td>0</td>\n",
              "      <td>0</td>\n",
              "      <td>0</td>\n",
              "      <td>0</td>\n",
              "      <td>0</td>\n",
              "      <td>0</td>\n",
              "      <td>0</td>\n",
              "      <td>0</td>\n",
              "      <td>0</td>\n",
              "      <td>0</td>\n",
              "      <td>0</td>\n",
              "      <td>0</td>\n",
              "      <td>0</td>\n",
              "      <td>0</td>\n",
              "      <td>0</td>\n",
              "      <td>0</td>\n",
              "      <td>0</td>\n",
              "      <td>0</td>\n",
              "      <td>0</td>\n",
              "      <td>0</td>\n",
              "      <td>0</td>\n",
              "      <td>0</td>\n",
              "      <td>1</td>\n",
              "      <td>0</td>\n",
              "    </tr>\n",
              "    <tr>\n",
              "      <th>1</th>\n",
              "      <td>False</td>\n",
              "      <td>0</td>\n",
              "      <td>0</td>\n",
              "      <td>5</td>\n",
              "      <td>74.51</td>\n",
              "      <td>5000.0</td>\n",
              "      <td>True</td>\n",
              "      <td>0</td>\n",
              "      <td>0</td>\n",
              "      <td>0</td>\n",
              "      <td>1</td>\n",
              "      <td>0</td>\n",
              "      <td>0</td>\n",
              "      <td>0</td>\n",
              "      <td>0</td>\n",
              "      <td>0</td>\n",
              "      <td>1</td>\n",
              "      <td>0</td>\n",
              "      <td>0</td>\n",
              "      <td>0</td>\n",
              "      <td>0</td>\n",
              "      <td>0</td>\n",
              "      <td>0</td>\n",
              "      <td>0</td>\n",
              "      <td>0</td>\n",
              "      <td>0</td>\n",
              "      <td>0</td>\n",
              "      <td>0</td>\n",
              "      <td>0</td>\n",
              "      <td>0</td>\n",
              "      <td>0</td>\n",
              "      <td>0</td>\n",
              "    </tr>\n",
              "    <tr>\n",
              "      <th>2</th>\n",
              "      <td>False</td>\n",
              "      <td>0</td>\n",
              "      <td>0</td>\n",
              "      <td>9</td>\n",
              "      <td>7.47</td>\n",
              "      <td>5000.0</td>\n",
              "      <td>False</td>\n",
              "      <td>0</td>\n",
              "      <td>0</td>\n",
              "      <td>0</td>\n",
              "      <td>1</td>\n",
              "      <td>0</td>\n",
              "      <td>0</td>\n",
              "      <td>0</td>\n",
              "      <td>0</td>\n",
              "      <td>0</td>\n",
              "      <td>0</td>\n",
              "      <td>0</td>\n",
              "      <td>0</td>\n",
              "      <td>0</td>\n",
              "      <td>0</td>\n",
              "      <td>0</td>\n",
              "      <td>0</td>\n",
              "      <td>0</td>\n",
              "      <td>0</td>\n",
              "      <td>1</td>\n",
              "      <td>0</td>\n",
              "      <td>0</td>\n",
              "      <td>0</td>\n",
              "      <td>0</td>\n",
              "      <td>0</td>\n",
              "      <td>0</td>\n",
              "    </tr>\n",
              "    <tr>\n",
              "      <th>3</th>\n",
              "      <td>False</td>\n",
              "      <td>0</td>\n",
              "      <td>0</td>\n",
              "      <td>2</td>\n",
              "      <td>7.47</td>\n",
              "      <td>5000.0</td>\n",
              "      <td>False</td>\n",
              "      <td>0</td>\n",
              "      <td>0</td>\n",
              "      <td>0</td>\n",
              "      <td>1</td>\n",
              "      <td>0</td>\n",
              "      <td>0</td>\n",
              "      <td>0</td>\n",
              "      <td>0</td>\n",
              "      <td>0</td>\n",
              "      <td>0</td>\n",
              "      <td>0</td>\n",
              "      <td>0</td>\n",
              "      <td>0</td>\n",
              "      <td>0</td>\n",
              "      <td>0</td>\n",
              "      <td>0</td>\n",
              "      <td>0</td>\n",
              "      <td>0</td>\n",
              "      <td>1</td>\n",
              "      <td>0</td>\n",
              "      <td>0</td>\n",
              "      <td>0</td>\n",
              "      <td>0</td>\n",
              "      <td>0</td>\n",
              "      <td>0</td>\n",
              "    </tr>\n",
              "    <tr>\n",
              "      <th>4</th>\n",
              "      <td>False</td>\n",
              "      <td>0</td>\n",
              "      <td>0</td>\n",
              "      <td>21</td>\n",
              "      <td>71.18</td>\n",
              "      <td>5000.0</td>\n",
              "      <td>True</td>\n",
              "      <td>1</td>\n",
              "      <td>0</td>\n",
              "      <td>0</td>\n",
              "      <td>0</td>\n",
              "      <td>0</td>\n",
              "      <td>0</td>\n",
              "      <td>0</td>\n",
              "      <td>0</td>\n",
              "      <td>0</td>\n",
              "      <td>0</td>\n",
              "      <td>1</td>\n",
              "      <td>0</td>\n",
              "      <td>0</td>\n",
              "      <td>0</td>\n",
              "      <td>0</td>\n",
              "      <td>0</td>\n",
              "      <td>0</td>\n",
              "      <td>0</td>\n",
              "      <td>0</td>\n",
              "      <td>0</td>\n",
              "      <td>0</td>\n",
              "      <td>0</td>\n",
              "      <td>0</td>\n",
              "      <td>0</td>\n",
              "      <td>0</td>\n",
              "    </tr>\n",
              "  </tbody>\n",
              "</table>\n",
              "</div>"
            ],
            "text/plain": [
              "   isFraud  ...  merchantCategoryCode_subscriptions\n",
              "0    False  ...                                   0\n",
              "1    False  ...                                   0\n",
              "2    False  ...                                   0\n",
              "3    False  ...                                   0\n",
              "4    False  ...                                   0\n",
              "\n",
              "[5 rows x 32 columns]"
            ]
          },
          "metadata": {
            "tags": []
          },
          "execution_count": 3
        }
      ]
    },
    {
      "cell_type": "markdown",
      "metadata": {
        "id": "X4cX_5tAxwWY"
      },
      "source": [
        "## 4 Modeling"
      ]
    },
    {
      "cell_type": "markdown",
      "metadata": {
        "id": "dJDpKajGE6tX"
      },
      "source": [
        "For this fraud detection task, I will use ROC_AUC as the primary metric."
      ]
    },
    {
      "cell_type": "markdown",
      "metadata": {
        "id": "8-TppK4YyeYD"
      },
      "source": [
        "## 4.1 Train-test split"
      ]
    },
    {
      "cell_type": "code",
      "metadata": {
        "id": "WgeP55czUXQk"
      },
      "source": [
        "X_train, X_test, y_train, y_test = train_test_split(df_final.drop('isFraud', axis = 1),\n",
        "                                                    df_final['isFraud'],\n",
        "                                                    stratify = df_final['isFraud'],\n",
        "                                                    test_size = 0.2,\n",
        "                                                    random_state = 123)"
      ],
      "execution_count": 4,
      "outputs": []
    },
    {
      "cell_type": "code",
      "metadata": {
        "colab": {
          "base_uri": "https://localhost:8080/"
        },
        "id": "jSgmnlhpU-JW",
        "outputId": "c4951d60-adbe-4d7c-a95b-5957f9896272"
      },
      "source": [
        "print(X_train.shape)\r\n",
        "print(X_test.shape)"
      ],
      "execution_count": 5,
      "outputs": [
        {
          "output_type": "stream",
          "text": [
            "(629090, 31)\n",
            "(157273, 31)\n"
          ],
          "name": "stdout"
        }
      ]
    },
    {
      "cell_type": "code",
      "metadata": {
        "colab": {
          "base_uri": "https://localhost:8080/"
        },
        "id": "uxqw40SzVFtm",
        "outputId": "008a9015-c105-4165-e5f6-fb15bc1f546e"
      },
      "source": [
        "print(y_train.mean())\r\n",
        "print(y_test.mean())"
      ],
      "execution_count": 6,
      "outputs": [
        {
          "output_type": "stream",
          "text": [
            "0.015791063281883354\n",
            "0.015787833893929664\n"
          ],
          "name": "stdout"
        }
      ]
    },
    {
      "cell_type": "markdown",
      "metadata": {
        "id": "oi55EhEXx0BN"
      },
      "source": [
        "## 4.2 Model1 - Logistic regression"
      ]
    },
    {
      "cell_type": "code",
      "metadata": {
        "colab": {
          "base_uri": "https://localhost:8080/"
        },
        "id": "jCPmPNJXVVs2",
        "outputId": "40fa2e6d-f394-461d-e146-f8a40bcda04c"
      },
      "source": [
        "clf_lr = LogisticRegression(max_iter=500)\n",
        "clf_lr.fit(X_train, y_train)"
      ],
      "execution_count": 7,
      "outputs": [
        {
          "output_type": "execute_result",
          "data": {
            "text/plain": [
              "LogisticRegression(C=1.0, class_weight=None, dual=False, fit_intercept=True,\n",
              "                   intercept_scaling=1, l1_ratio=None, max_iter=500,\n",
              "                   multi_class='auto', n_jobs=None, penalty='l2',\n",
              "                   random_state=None, solver='lbfgs', tol=0.0001, verbose=0,\n",
              "                   warm_start=False)"
            ]
          },
          "metadata": {
            "tags": []
          },
          "execution_count": 7
        }
      ]
    },
    {
      "cell_type": "code",
      "metadata": {
        "colab": {
          "base_uri": "https://localhost:8080/"
        },
        "id": "CTBnZyX4jGHA",
        "outputId": "efad682b-5e4f-446f-b917-9a863c1251cc"
      },
      "source": [
        "# 5-fold cross validation\r\n",
        "cross_val_score(clf_lr, X_train, y_train, scoring = \"roc_auc\", cv = 5)"
      ],
      "execution_count": 8,
      "outputs": [
        {
          "output_type": "execute_result",
          "data": {
            "text/plain": [
              "array([0.68765045, 0.67950224, 0.68652855, 0.7165334 , 0.72937044])"
            ]
          },
          "metadata": {
            "tags": []
          },
          "execution_count": 8
        }
      ]
    },
    {
      "cell_type": "code",
      "metadata": {
        "id": "1nWs3mRrY7MH",
        "colab": {
          "base_uri": "https://localhost:8080/"
        },
        "outputId": "12ec154e-bcf0-4041-e452-1cd2e70d1302"
      },
      "source": [
        "# Other metrics\r\n",
        "y_pred_lr = clf_lr.predict(X_test)\r\n",
        "print(\"accuracy: \",metrics.accuracy_score(y_true = y_test, y_pred = y_pred_lr))\r\n",
        "print(\"precision: \",metrics.precision_score(y_true = y_test, y_pred = y_pred_lr))\r\n",
        "print(\"recall: \",metrics.recall_score(y_true = y_test, y_pred = y_pred_lr))\r\n",
        "print(\"confusion matrix: \",metrics.confusion_matrix(y_test, y_pred_lr))"
      ],
      "execution_count": 9,
      "outputs": [
        {
          "output_type": "stream",
          "text": [
            "accuracy:  0.9842058077355935\n",
            "precision:  0.0\n",
            "recall:  0.0\n",
            "confusion matrix:  [[154789      1]\n",
            " [  2483      0]]\n"
          ],
          "name": "stdout"
        }
      ]
    },
    {
      "cell_type": "code",
      "metadata": {
        "id": "5eJGjIsiZqcb",
        "colab": {
          "base_uri": "https://localhost:8080/"
        },
        "outputId": "54015cc5-f27c-4dc3-834b-79d67e44519f"
      },
      "source": [
        "y_pred_p = clf_lr.predict_proba(X_test)\r\n",
        "y_pred_p[0:10]"
      ],
      "execution_count": 10,
      "outputs": [
        {
          "output_type": "execute_result",
          "data": {
            "text/plain": [
              "array([[0.99564459, 0.00435541],\n",
              "       [0.99525762, 0.00474238],\n",
              "       [0.991611  , 0.008389  ],\n",
              "       [0.96961496, 0.03038504],\n",
              "       [0.99726379, 0.00273621],\n",
              "       [0.99784173, 0.00215827],\n",
              "       [0.99058973, 0.00941027],\n",
              "       [0.99482893, 0.00517107],\n",
              "       [0.98719402, 0.01280598],\n",
              "       [0.99492859, 0.00507141]])"
            ]
          },
          "metadata": {
            "tags": []
          },
          "execution_count": 10
        }
      ]
    },
    {
      "cell_type": "code",
      "metadata": {
        "id": "AoAVOFXdaSAA",
        "colab": {
          "base_uri": "https://localhost:8080/"
        },
        "outputId": "1a49c5bf-0236-4cdf-abbb-4993b7155182"
      },
      "source": [
        "# Replace the threshold with the percentage of the fraud transactions in the dataset.\r\n",
        "y_pred_lr = np.where(y_pred_p[:,1]> 0.016, 1,0)\r\n",
        "print(\"accuracy: \",metrics.accuracy_score(y_true = y_test, y_pred = y_pred_lr))\r\n",
        "print(\"precision: \",metrics.precision_score(y_true = y_test, y_pred = y_pred_lr))\r\n",
        "print(\"recall: \",metrics.recall_score(y_true = y_test, y_pred = y_pred_lr))\r\n",
        "print(\"confusion matrix: \",metrics.confusion_matrix(y_test, y_pred_lr))"
      ],
      "execution_count": 11,
      "outputs": [
        {
          "output_type": "stream",
          "text": [
            "accuracy:  0.6210220444704431\n",
            "precision:  0.027230590961761298\n",
            "recall:  0.662505034232783\n",
            "confusion matrix:  [[96025 58765]\n",
            " [  838  1645]]\n"
          ],
          "name": "stdout"
        }
      ]
    },
    {
      "cell_type": "code",
      "metadata": {
        "colab": {
          "base_uri": "https://localhost:8080/",
          "height": 285
        },
        "id": "LIusAL7NbBYG",
        "outputId": "436ece4d-78ab-4513-e619-6a177a5124a7"
      },
      "source": [
        "# Plot roc\n",
        "metrics.plot_roc_curve(clf_lr, X_test, y_test)  \n",
        "plt.show()  "
      ],
      "execution_count": 12,
      "outputs": [
        {
          "output_type": "display_data",
          "data": {
            "image/png": "[encoded data removed]",
            "text/plain": [
              "<Figure size 432x288 with 1 Axes>"
            ]
          },
          "metadata": {
            "tags": [],
            "needs_background": "light"
          }
        }
      ]
    },
    {
      "cell_type": "markdown",
      "metadata": {
        "id": "hmXsGHVYN4Bg"
      },
      "source": [
        "I will use 0.69 as the base."
      ]
    },
    {
      "cell_type": "markdown",
      "metadata": {
        "id": "Q_zNhLNHd2hY"
      },
      "source": [
        "## 4.2.1  Model1 - Logistic regression (scaling)"
      ]
    },
    {
      "cell_type": "code",
      "metadata": {
        "colab": {
          "base_uri": "https://localhost:8080/",
          "height": 241
        },
        "id": "9sUiDAeBWe4q",
        "outputId": "f5ff88fd-7377-4fb2-e84e-55e912db63de"
      },
      "source": [
        "# Scale the dataframe\r\n",
        "min_max_scaler = MinMaxScaler()\r\n",
        "df_final_scaled = min_max_scaler.fit_transform(df_final.values)\r\n",
        "df_final2 = pd.DataFrame(df_final_scaled)\r\n",
        "df_final2.columns = df_final.columns\r\n",
        "df_final2.head()"
      ],
      "execution_count": 13,
      "outputs": [
        {
          "output_type": "execute_result",
          "data": {
            "text/html": [
              "<div>\n",
              "<style scoped>\n",
              "    .dataframe tbody tr th:only-of-type {\n",
              "        vertical-align: middle;\n",
              "    }\n",
              "\n",
              "    .dataframe tbody tr th {\n",
              "        vertical-align: top;\n",
              "    }\n",
              "\n",
              "    .dataframe thead th {\n",
              "        text-align: right;\n",
              "    }\n",
              "</style>\n",
              "<table border=\"1\" class=\"dataframe\">\n",
              "  <thead>\n",
              "    <tr style=\"text-align: right;\">\n",
              "      <th></th>\n",
              "      <th>isFraud</th>\n",
              "      <th>cvvNotSame</th>\n",
              "      <th>amountOver</th>\n",
              "      <th>hour</th>\n",
              "      <th>transactionAmount</th>\n",
              "      <th>availableMoney</th>\n",
              "      <th>cardPresent</th>\n",
              "      <th>posEM_new_2.0</th>\n",
              "      <th>posEM_new_5.0</th>\n",
              "      <th>posEM_new_80.0</th>\n",
              "      <th>posEM_new_9.0</th>\n",
              "      <th>posEM_new_90.0</th>\n",
              "      <th>posEM_new_nan</th>\n",
              "      <th>merchantCategoryCode_airline</th>\n",
              "      <th>merchantCategoryCode_auto</th>\n",
              "      <th>merchantCategoryCode_cable/phone</th>\n",
              "      <th>merchantCategoryCode_entertainment</th>\n",
              "      <th>merchantCategoryCode_fastfood</th>\n",
              "      <th>merchantCategoryCode_food</th>\n",
              "      <th>merchantCategoryCode_food_delivery</th>\n",
              "      <th>merchantCategoryCode_fuel</th>\n",
              "      <th>merchantCategoryCode_furniture</th>\n",
              "      <th>merchantCategoryCode_gym</th>\n",
              "      <th>merchantCategoryCode_health</th>\n",
              "      <th>merchantCategoryCode_hotels</th>\n",
              "      <th>merchantCategoryCode_mobileapps</th>\n",
              "      <th>merchantCategoryCode_online_gifts</th>\n",
              "      <th>merchantCategoryCode_online_retail</th>\n",
              "      <th>merchantCategoryCode_online_subscriptions</th>\n",
              "      <th>merchantCategoryCode_personal care</th>\n",
              "      <th>merchantCategoryCode_rideshare</th>\n",
              "      <th>merchantCategoryCode_subscriptions</th>\n",
              "    </tr>\n",
              "  </thead>\n",
              "  <tbody>\n",
              "    <tr>\n",
              "      <th>0</th>\n",
              "      <td>0.0</td>\n",
              "      <td>0.0</td>\n",
              "      <td>0.0</td>\n",
              "      <td>0.608696</td>\n",
              "      <td>0.048992</td>\n",
              "      <td>0.117744</td>\n",
              "      <td>0.0</td>\n",
              "      <td>1.0</td>\n",
              "      <td>0.0</td>\n",
              "      <td>0.0</td>\n",
              "      <td>0.0</td>\n",
              "      <td>0.0</td>\n",
              "      <td>0.0</td>\n",
              "      <td>0.0</td>\n",
              "      <td>0.0</td>\n",
              "      <td>0.0</td>\n",
              "      <td>0.0</td>\n",
              "      <td>0.0</td>\n",
              "      <td>0.0</td>\n",
              "      <td>0.0</td>\n",
              "      <td>0.0</td>\n",
              "      <td>0.0</td>\n",
              "      <td>0.0</td>\n",
              "      <td>0.0</td>\n",
              "      <td>0.0</td>\n",
              "      <td>0.0</td>\n",
              "      <td>0.0</td>\n",
              "      <td>0.0</td>\n",
              "      <td>0.0</td>\n",
              "      <td>0.0</td>\n",
              "      <td>1.0</td>\n",
              "      <td>0.0</td>\n",
              "    </tr>\n",
              "    <tr>\n",
              "      <th>1</th>\n",
              "      <td>0.0</td>\n",
              "      <td>0.0</td>\n",
              "      <td>0.0</td>\n",
              "      <td>0.217391</td>\n",
              "      <td>0.037041</td>\n",
              "      <td>0.117744</td>\n",
              "      <td>1.0</td>\n",
              "      <td>0.0</td>\n",
              "      <td>0.0</td>\n",
              "      <td>0.0</td>\n",
              "      <td>1.0</td>\n",
              "      <td>0.0</td>\n",
              "      <td>0.0</td>\n",
              "      <td>0.0</td>\n",
              "      <td>0.0</td>\n",
              "      <td>0.0</td>\n",
              "      <td>1.0</td>\n",
              "      <td>0.0</td>\n",
              "      <td>0.0</td>\n",
              "      <td>0.0</td>\n",
              "      <td>0.0</td>\n",
              "      <td>0.0</td>\n",
              "      <td>0.0</td>\n",
              "      <td>0.0</td>\n",
              "      <td>0.0</td>\n",
              "      <td>0.0</td>\n",
              "      <td>0.0</td>\n",
              "      <td>0.0</td>\n",
              "      <td>0.0</td>\n",
              "      <td>0.0</td>\n",
              "      <td>0.0</td>\n",
              "      <td>0.0</td>\n",
              "    </tr>\n",
              "    <tr>\n",
              "      <th>2</th>\n",
              "      <td>0.0</td>\n",
              "      <td>0.0</td>\n",
              "      <td>0.0</td>\n",
              "      <td>0.391304</td>\n",
              "      <td>0.003714</td>\n",
              "      <td>0.117744</td>\n",
              "      <td>0.0</td>\n",
              "      <td>0.0</td>\n",
              "      <td>0.0</td>\n",
              "      <td>0.0</td>\n",
              "      <td>1.0</td>\n",
              "      <td>0.0</td>\n",
              "      <td>0.0</td>\n",
              "      <td>0.0</td>\n",
              "      <td>0.0</td>\n",
              "      <td>0.0</td>\n",
              "      <td>0.0</td>\n",
              "      <td>0.0</td>\n",
              "      <td>0.0</td>\n",
              "      <td>0.0</td>\n",
              "      <td>0.0</td>\n",
              "      <td>0.0</td>\n",
              "      <td>0.0</td>\n",
              "      <td>0.0</td>\n",
              "      <td>0.0</td>\n",
              "      <td>1.0</td>\n",
              "      <td>0.0</td>\n",
              "      <td>0.0</td>\n",
              "      <td>0.0</td>\n",
              "      <td>0.0</td>\n",
              "      <td>0.0</td>\n",
              "      <td>0.0</td>\n",
              "    </tr>\n",
              "    <tr>\n",
              "      <th>3</th>\n",
              "      <td>0.0</td>\n",
              "      <td>0.0</td>\n",
              "      <td>0.0</td>\n",
              "      <td>0.086957</td>\n",
              "      <td>0.003714</td>\n",
              "      <td>0.117744</td>\n",
              "      <td>0.0</td>\n",
              "      <td>0.0</td>\n",
              "      <td>0.0</td>\n",
              "      <td>0.0</td>\n",
              "      <td>1.0</td>\n",
              "      <td>0.0</td>\n",
              "      <td>0.0</td>\n",
              "      <td>0.0</td>\n",
              "      <td>0.0</td>\n",
              "      <td>0.0</td>\n",
              "      <td>0.0</td>\n",
              "      <td>0.0</td>\n",
              "      <td>0.0</td>\n",
              "      <td>0.0</td>\n",
              "      <td>0.0</td>\n",
              "      <td>0.0</td>\n",
              "      <td>0.0</td>\n",
              "      <td>0.0</td>\n",
              "      <td>0.0</td>\n",
              "      <td>1.0</td>\n",
              "      <td>0.0</td>\n",
              "      <td>0.0</td>\n",
              "      <td>0.0</td>\n",
              "      <td>0.0</td>\n",
              "      <td>0.0</td>\n",
              "      <td>0.0</td>\n",
              "    </tr>\n",
              "    <tr>\n",
              "      <th>4</th>\n",
              "      <td>0.0</td>\n",
              "      <td>0.0</td>\n",
              "      <td>0.0</td>\n",
              "      <td>0.913043</td>\n",
              "      <td>0.035386</td>\n",
              "      <td>0.117744</td>\n",
              "      <td>1.0</td>\n",
              "      <td>1.0</td>\n",
              "      <td>0.0</td>\n",
              "      <td>0.0</td>\n",
              "      <td>0.0</td>\n",
              "      <td>0.0</td>\n",
              "      <td>0.0</td>\n",
              "      <td>0.0</td>\n",
              "      <td>0.0</td>\n",
              "      <td>0.0</td>\n",
              "      <td>0.0</td>\n",
              "      <td>1.0</td>\n",
              "      <td>0.0</td>\n",
              "      <td>0.0</td>\n",
              "      <td>0.0</td>\n",
              "      <td>0.0</td>\n",
              "      <td>0.0</td>\n",
              "      <td>0.0</td>\n",
              "      <td>0.0</td>\n",
              "      <td>0.0</td>\n",
              "      <td>0.0</td>\n",
              "      <td>0.0</td>\n",
              "      <td>0.0</td>\n",
              "      <td>0.0</td>\n",
              "      <td>0.0</td>\n",
              "      <td>0.0</td>\n",
              "    </tr>\n",
              "  </tbody>\n",
              "</table>\n",
              "</div>"
            ],
            "text/plain": [
              "   isFraud  ...  merchantCategoryCode_subscriptions\n",
              "0      0.0  ...                                 0.0\n",
              "1      0.0  ...                                 0.0\n",
              "2      0.0  ...                                 0.0\n",
              "3      0.0  ...                                 0.0\n",
              "4      0.0  ...                                 0.0\n",
              "\n",
              "[5 rows x 32 columns]"
            ]
          },
          "metadata": {
            "tags": []
          },
          "execution_count": 13
        }
      ]
    },
    {
      "cell_type": "code",
      "metadata": {
        "id": "vKa191T0dvwp"
      },
      "source": [
        "# train-test split\r\n",
        "X_train, X_test, y_train, y_test = train_test_split(df_final2.drop('isFraud', axis = 1),\r\n",
        "                                                    df_final2['isFraud'],\r\n",
        "                                                    stratify = df_final2['isFraud'],\r\n",
        "                                                    test_size = 0.2,\r\n",
        "                                                    random_state = 123)"
      ],
      "execution_count": 14,
      "outputs": []
    },
    {
      "cell_type": "code",
      "metadata": {
        "colab": {
          "base_uri": "https://localhost:8080/"
        },
        "id": "uMDtyMz1giWC",
        "outputId": "f1607650-3d9d-415d-e422-d02441244d39"
      },
      "source": [
        "# Apply the logistic model\r\n",
        "clf_lr = LogisticRegression(max_iter=500)\r\n",
        "clf_lr.fit(X_train, y_train)"
      ],
      "execution_count": 15,
      "outputs": [
        {
          "output_type": "execute_result",
          "data": {
            "text/plain": [
              "LogisticRegression(C=1.0, class_weight=None, dual=False, fit_intercept=True,\n",
              "                   intercept_scaling=1, l1_ratio=None, max_iter=500,\n",
              "                   multi_class='auto', n_jobs=None, penalty='l2',\n",
              "                   random_state=None, solver='lbfgs', tol=0.0001, verbose=0,\n",
              "                   warm_start=False)"
            ]
          },
          "metadata": {
            "tags": []
          },
          "execution_count": 15
        }
      ]
    },
    {
      "cell_type": "code",
      "metadata": {
        "id": "2mqMxyXEgiHy"
      },
      "source": [
        "# Replace the threshold\r\n",
        "y_pred_p = clf_lr.predict_proba(X_test)\r\n",
        "y_pred_lr = np.where(y_pred_p[:,1]> 0.016, 1,0)\r\n"
      ],
      "execution_count": 16,
      "outputs": []
    },
    {
      "cell_type": "code",
      "metadata": {
        "colab": {
          "base_uri": "https://localhost:8080/"
        },
        "id": "OaHBZcM7iiyS",
        "outputId": "8d084c92-b65e-42dc-ba22-ff2f92bd0945"
      },
      "source": [
        "# Other metrics\r\n",
        "print(\"accuracy: \",metrics.accuracy_score(y_true = y_test, y_pred = y_pred_lr))\r\n",
        "print(\"precision: \",metrics.precision_score(y_true = y_test, y_pred = y_pred_lr))\r\n",
        "print(\"recall: \",metrics.recall_score(y_true = y_test, y_pred = y_pred_lr))\r\n",
        "print(\"confusion matrix: \",metrics.confusion_matrix(y_test, y_pred_lr))"
      ],
      "execution_count": 17,
      "outputs": [
        {
          "output_type": "stream",
          "text": [
            "accuracy:  0.6544988650308698\n",
            "precision:  0.03174947174513735\n",
            "recall:  0.7080144985904149\n",
            "confusion matrix:  [[101177  53613]\n",
            " [   725   1758]]\n"
          ],
          "name": "stdout"
        }
      ]
    },
    {
      "cell_type": "code",
      "metadata": {
        "colab": {
          "base_uri": "https://localhost:8080/",
          "height": 285
        },
        "id": "k7vEkWXtg4D3",
        "outputId": "fd9f9052-90df-448a-a502-1d3b73fd9e41"
      },
      "source": [
        "# Plot roc_auc\r\n",
        "metrics.plot_roc_curve(clf_lr, X_test, y_test)  \r\n",
        "plt.show()  "
      ],
      "execution_count": 18,
      "outputs": [
        {
          "output_type": "display_data",
          "data": {
            "image/png": "[encoded data removed]",
            "text/plain": [
              "<Figure size 432x288 with 1 Axes>"
            ]
          },
          "metadata": {
            "tags": [],
            "needs_background": "light"
          }
        }
      ]
    },
    {
      "cell_type": "markdown",
      "metadata": {
        "id": "k-gk4DqGhLxx"
      },
      "source": [
        "Compare 2 roc_auc results before and after scaling the dataframe, it can be concluded that scaling the dataframe increases the value of the metric. Therefore, I will use the scaling dataframe in the following modeling experiments."
      ]
    },
    {
      "cell_type": "markdown",
      "metadata": {
        "id": "-RDAk5HVzPqh"
      },
      "source": [
        "# 4.3 XGBoost"
      ]
    },
    {
      "cell_type": "code",
      "metadata": {
        "colab": {
          "base_uri": "https://localhost:8080/"
        },
        "id": "G_8Wa35IeUD8",
        "outputId": "e3408201-b90c-4ad1-e643-c4b6cee366db"
      },
      "source": [
        "# Fit the model\n",
        "xgb_clf = XGBClassifier(n_estimators=200, \n",
        "                        learning_rate=0.1\n",
        "                        )\n",
        "xgb_clf.fit(X_train, y_train)"
      ],
      "execution_count": 19,
      "outputs": [
        {
          "output_type": "execute_result",
          "data": {
            "text/plain": [
              "XGBClassifier(base_score=0.5, booster='gbtree', colsample_bylevel=1,\n",
              "              colsample_bynode=1, colsample_bytree=1, gamma=0,\n",
              "              learning_rate=0.1, max_delta_step=0, max_depth=3,\n",
              "              min_child_weight=1, missing=None, n_estimators=200, n_jobs=1,\n",
              "              nthread=None, objective='binary:logistic', random_state=0,\n",
              "              reg_alpha=0, reg_lambda=1, scale_pos_weight=1, seed=None,\n",
              "              silent=None, subsample=1, verbosity=1)"
            ]
          },
          "metadata": {
            "tags": []
          },
          "execution_count": 19
        }
      ]
    },
    {
      "cell_type": "code",
      "metadata": {
        "id": "kVYT3vdofela"
      },
      "source": [
        "# Replace the metric\n",
        "y_pred_xgb = xgb_clf.predict_proba(X_test)\n",
        "y_pred_xgb = np.where(y_pred_xgb[:,1]> 0.016, 1,0)"
      ],
      "execution_count": 20,
      "outputs": []
    },
    {
      "cell_type": "code",
      "metadata": {
        "colab": {
          "base_uri": "https://localhost:8080/"
        },
        "id": "RcGh3NY1isDf",
        "outputId": "ed736e10-d882-4621-f53c-71bd4db53c1a"
      },
      "source": [
        "# Other metrics\r\n",
        "print(\"accuracy: \",metrics.accuracy_score(y_true = y_test, y_pred = y_pred_xgb))\r\n",
        "print(\"precision: \",metrics.precision_score(y_true = y_test, y_pred = y_pred_xgb))\r\n",
        "print(\"recall: \",metrics.recall_score(y_true = y_test, y_pred = y_pred_xgb))\r\n",
        "print(\"confusion matrix: \",metrics.confusion_matrix(y_test, y_pred_xgb))"
      ],
      "execution_count": 21,
      "outputs": [
        {
          "output_type": "stream",
          "text": [
            "accuracy:  0.7191253425572094\n",
            "precision:  0.03718833951288826\n",
            "recall:  0.6745871929118002\n",
            "confusion matrix:  [[111424  43366]\n",
            " [   808   1675]]\n"
          ],
          "name": "stdout"
        }
      ]
    },
    {
      "cell_type": "code",
      "metadata": {
        "colab": {
          "base_uri": "https://localhost:8080/",
          "height": 285
        },
        "id": "2nTq2eBNerPK",
        "outputId": "1cee6ea6-0c68-4ba0-9d46-922b0cd8c0bd"
      },
      "source": [
        "# Plot roc_auc\n",
        "metrics.plot_roc_curve(xgb_clf, X_test, y_test)  \n",
        "plt.show()  "
      ],
      "execution_count": 22,
      "outputs": [
        {
          "output_type": "display_data",
          "data": {
            "image/png": "[encoded data removed]",
            "text/plain": [
              "<Figure size 432x288 with 1 Axes>"
            ]
          },
          "metadata": {
            "tags": [],
            "needs_background": "light"
          }
        }
      ]
    },
    {
      "cell_type": "code",
      "metadata": {
        "id": "DKle3IG2UGzT",
        "colab": {
          "base_uri": "https://localhost:8080/"
        },
        "outputId": "e02fb5cb-3c4f-4786-b1ee-9fe8c2a89809"
      },
      "source": [
        "# Grid search\r\n",
        "xgb_clf = XGBClassifier()\r\n",
        "\r\n",
        "xgb_param_grid = {'learning_rate': np.arange(0.05, 0.15, 0.05),\r\n",
        "                  'n_estimators': np.arange(200, 400, 100),\r\n",
        "                  }\r\n",
        "\r\n",
        "random_xgb = RandomizedSearchCV(estimator=xgb_clf, \r\n",
        "                                    param_distributions=xgb_param_grid,\r\n",
        "                                    n_iter=100, \r\n",
        "                                    scoring='roc_auc', \r\n",
        "                                    cv=2,\r\n",
        "                                    verbose=1,\r\n",
        "                                    n_jobs=-1\r\n",
        "                                    )\r\n",
        "random_xgb.fit(X_train, y_train)\r\n",
        "print(\"Best parameters found: \",random_xgb.best_params_)"
      ],
      "execution_count": 23,
      "outputs": [
        {
          "output_type": "stream",
          "text": [
            "Fitting 2 folds for each of 4 candidates, totalling 8 fits\n"
          ],
          "name": "stdout"
        },
        {
          "output_type": "stream",
          "text": [
            "/usr/local/lib/python3.6/dist-packages/sklearn/model_selection/_search.py:281: UserWarning: The total space of parameters 4 is smaller than n_iter=100. Running 4 iterations. For exhaustive searches, use GridSearchCV.\n",
            "  % (grid_size, self.n_iter, grid_size), UserWarning)\n",
            "[Parallel(n_jobs=-1)]: Using backend LokyBackend with 2 concurrent workers.\n",
            "[Parallel(n_jobs=-1)]: Done   8 out of   8 | elapsed:  8.4min finished\n"
          ],
          "name": "stderr"
        },
        {
          "output_type": "stream",
          "text": [
            "Best parameters found:  {'n_estimators': 300, 'learning_rate': 0.1}\n"
          ],
          "name": "stdout"
        }
      ]
    },
    {
      "cell_type": "code",
      "metadata": {
        "colab": {
          "base_uri": "https://localhost:8080/",
          "height": 285
        },
        "id": "7PHA5EFdYbJp",
        "outputId": "977ed3ef-b00a-4ac5-ceef-b49ca40d2d89"
      },
      "source": [
        "# Use the best parameter to calculate roc_auc\n",
        "xgb_clf = XGBClassifier(n_estimators=300, \n",
        "                        learning_rate=0.1\n",
        "                        )\n",
        "xgb_clf.fit(X_train, y_train)\n",
        "\n",
        "# Plot roc_auc\n",
        "metrics.plot_roc_curve(xgb_clf, X_test, y_test)  \n",
        "plt.show()  "
      ],
      "execution_count": 24,
      "outputs": [
        {
          "output_type": "display_data",
          "data": {
            "image/png": "[encoded data removed]",
            "text/plain": [
              "<Figure size 432x288 with 1 Axes>"
            ]
          },
          "metadata": {
            "tags": [],
            "needs_background": "light"
          }
        }
      ]
    },
    {
      "cell_type": "markdown",
      "metadata": {
        "id": "4W8lMxFL2bNO"
      },
      "source": [
        "## 4.4 LightGBM"
      ]
    },
    {
      "cell_type": "code",
      "metadata": {
        "colab": {
          "base_uri": "https://localhost:8080/"
        },
        "id": "GCa-dQ56fuRY",
        "outputId": "408efe1c-bc48-4f56-a0e8-a0ad2f4a7cb3"
      },
      "source": [
        "# Fit the model\n",
        "lgb_clf = LGBMClassifier(n_estimators = 200, \n",
        "                         max_depth=10,\n",
        "                         learning_rate = 0.1\n",
        "                         )\n",
        "lgb_clf.fit(X_train, y_train)"
      ],
      "execution_count": 25,
      "outputs": [
        {
          "output_type": "execute_result",
          "data": {
            "text/plain": [
              "LGBMClassifier(boosting_type='gbdt', class_weight=None, colsample_bytree=1.0,\n",
              "               importance_type='split', learning_rate=0.1, max_depth=10,\n",
              "               min_child_samples=20, min_child_weight=0.001, min_split_gain=0.0,\n",
              "               n_estimators=200, n_jobs=-1, num_leaves=31, objective=None,\n",
              "               random_state=None, reg_alpha=0.0, reg_lambda=0.0, silent=True,\n",
              "               subsample=1.0, subsample_for_bin=200000, subsample_freq=0)"
            ]
          },
          "metadata": {
            "tags": []
          },
          "execution_count": 25
        }
      ]
    },
    {
      "cell_type": "code",
      "metadata": {
        "id": "5gOPI-xf1YgT"
      },
      "source": [
        "# Replace the threshold\r\n",
        "y_pred_lgb = lgb_clf.predict_proba(X_test)\r\n",
        "y_pred_lgb = np.where(y_pred_lgb[:,1]> 0.016, 1,0)"
      ],
      "execution_count": 26,
      "outputs": []
    },
    {
      "cell_type": "code",
      "metadata": {
        "colab": {
          "base_uri": "https://localhost:8080/"
        },
        "id": "v3Ug8x5ejGNn",
        "outputId": "3885cb89-deaf-4a23-d8e4-f2cb03795a49"
      },
      "source": [
        "# Other metrics\r\n",
        "print(\"accuracy: \",metrics.accuracy_score(y_true = y_test, y_pred = y_pred_lgb))\r\n",
        "print(\"precision: \",metrics.precision_score(y_true = y_test, y_pred = y_pred_lgb))\r\n",
        "print(\"recall: \",metrics.recall_score(y_true = y_test, y_pred = y_pred_lgb))\r\n",
        "print(\"confusion matrix: \",metrics.confusion_matrix(y_test, y_pred_lgb))"
      ],
      "execution_count": 27,
      "outputs": [
        {
          "output_type": "stream",
          "text": [
            "accuracy:  0.7096513705467563\n",
            "precision:  0.03625663165581975\n",
            "recall:  0.679822795006041\n",
            "confusion matrix:  [[109921  44869]\n",
            " [   795   1688]]\n"
          ],
          "name": "stdout"
        }
      ]
    },
    {
      "cell_type": "code",
      "metadata": {
        "colab": {
          "base_uri": "https://localhost:8080/",
          "height": 285
        },
        "id": "85Tmrx2sgM3a",
        "outputId": "1a2b93c9-7d79-41f5-c2de-b68378111414"
      },
      "source": [
        "# Plot roc_auc\n",
        "metrics.plot_roc_curve(lgb_clf, X_test, y_test)  \n",
        "plt.show()  "
      ],
      "execution_count": 28,
      "outputs": [
        {
          "output_type": "display_data",
          "data": {
            "image/png": "[encoded data removed]",
            "text/plain": [
              "<Figure size 432x288 with 1 Axes>"
            ]
          },
          "metadata": {
            "tags": [],
            "needs_background": "light"
          }
        }
      ]
    },
    {
      "cell_type": "code",
      "metadata": {
        "colab": {
          "base_uri": "https://localhost:8080/"
        },
        "id": "s-D_IG-kTJWI",
        "outputId": "76df6e8d-eb4d-4538-d8d5-0dfaffe7654b"
      },
      "source": [
        "# Grid search\r\n",
        "lgb_clf = LGBMClassifier()\r\n",
        "\r\n",
        "lgb_param_grid = {'learning_rate': np.arange(0.05, 0.15, 0.05),\r\n",
        "                  'n_estimators': np.arange(200, 600, 200),\r\n",
        "                  'max_depth': [5,10]\r\n",
        "                  }\r\n",
        "\r\n",
        "random_lgb = RandomizedSearchCV(estimator=lgb_clf, \r\n",
        "                                    param_distributions=lgb_param_grid,\r\n",
        "                                    n_iter=100, \r\n",
        "                                    scoring='roc_auc', \r\n",
        "                                    cv=2, \r\n",
        "                                    verbose=1,\r\n",
        "                                    n_jobs=-1\r\n",
        "                                    )\r\n",
        "random_lgb.fit(X_train, y_train)\r\n",
        "print(\"Best parameters found: \",random_lgb.best_params_)"
      ],
      "execution_count": 29,
      "outputs": [
        {
          "output_type": "stream",
          "text": [
            "Fitting 2 folds for each of 8 candidates, totalling 16 fits\n"
          ],
          "name": "stdout"
        },
        {
          "output_type": "stream",
          "text": [
            "/usr/local/lib/python3.6/dist-packages/sklearn/model_selection/_search.py:281: UserWarning: The total space of parameters 8 is smaller than n_iter=100. Running 8 iterations. For exhaustive searches, use GridSearchCV.\n",
            "  % (grid_size, self.n_iter, grid_size), UserWarning)\n",
            "[Parallel(n_jobs=-1)]: Using backend LokyBackend with 2 concurrent workers.\n",
            "[Parallel(n_jobs=-1)]: Done  16 out of  16 | elapsed:  2.6min finished\n"
          ],
          "name": "stderr"
        },
        {
          "output_type": "stream",
          "text": [
            "Best parameters found:  {'n_estimators': 200, 'max_depth': 5, 'learning_rate': 0.05}\n"
          ],
          "name": "stdout"
        }
      ]
    },
    {
      "cell_type": "code",
      "metadata": {
        "colab": {
          "base_uri": "https://localhost:8080/",
          "height": 285
        },
        "id": "HXJj4HKra-zP",
        "outputId": "7942ba3e-9e89-461b-df32-4a6f53b6cc41"
      },
      "source": [
        "# Use the best parameter to caculate roc_auc\r\n",
        "lgb_clf = LGBMClassifier(n_estimators = 200, \r\n",
        "                         max_depth=5,\r\n",
        "                         learning_rate = 0.05\r\n",
        "                         )\r\n",
        "lgb_clf.fit(X_train, y_train)\r\n",
        "\r\n",
        "# Plot roc\r\n",
        "metrics.plot_roc_curve(lgb_clf, X_test, y_test)  \r\n",
        "plt.show()  "
      ],
      "execution_count": 30,
      "outputs": [
        {
          "output_type": "display_data",
          "data": {
            "image/png": "[encoded data removed]",
            "text/plain": [
              "<Figure size 432x288 with 1 Axes>"
            ]
          },
          "metadata": {
            "tags": [],
            "needs_background": "light"
          }
        }
      ]
    },
    {
      "cell_type": "code",
      "metadata": {
        "colab": {
          "base_uri": "https://localhost:8080/",
          "height": 535
        },
        "id": "kKL__QyZhpzl",
        "outputId": "056319a1-cf7a-482c-9671-5548b4a94983"
      },
      "source": [
        "sns.set(rc={'figure.figsize':(12,8)})\r\n",
        "plot_importance(lgb_clf)"
      ],
      "execution_count": 31,
      "outputs": [
        {
          "output_type": "execute_result",
          "data": {
            "text/plain": [
              "<matplotlib.axes._subplots.AxesSubplot at 0x7f5f13c569b0>"
            ]
          },
          "metadata": {
            "tags": []
          },
          "execution_count": 31
        },
        {
          "output_type": "display_data",
          "data": {
            "image/png": "[encoded data removed]",
            "text/plain": [
              "<Figure size 864x576 with 1 Axes>"
            ]
          },
          "metadata": {
            "tags": []
          }
        }
      ]
    },
    {
      "cell_type": "markdown",
      "metadata": {
        "id": "FRBXgHOvlE2D"
      },
      "source": [
        "For this feature combination, XGBoost and LightGBM both achieved 0.76 for the roc_auc, outperforming Logistic regression. Additionally, LightGBM was computationally faster than XGBoost.\r\n"
      ]
    }
  ]
}
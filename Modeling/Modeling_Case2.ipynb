{
  "nbformat": 4,
  "nbformat_minor": 0,
  "metadata": {
    "colab": {
      "name": "Bank_Project_Ben_modeling2_scale.ipynb",
      "provenance": [],
      "collapsed_sections": [
        "YEViIHMgs0L_"
      ]
    },
    "kernelspec": {
      "display_name": "Python 3",
      "name": "python3"
    }
  },
  "cells": [
    {
      "cell_type": "markdown",
      "metadata": {
        "id": "hcy7u7msC7_P"
      },
      "source": [
        "# Fraud detection using credit card transcation data"
      ]
    },
    {
      "cell_type": "markdown",
      "metadata": {
        "id": "5PF6i3VYYtGv"
      },
      "source": [
        "## 1. Load the data\n",
        "\n"
      ]
    },
    {
      "cell_type": "code",
      "metadata": {
        "id": "QcR1N7GUDKom"
      },
      "source": [
        "import pandas as pd\n",
        "import numpy as np\n",
        "import seaborn as sns\n",
        "from sklearn.neighbors import KNeighborsClassifier\n",
        "from sklearn.ensemble import RandomForestClassifier\n",
        "from sklearn.linear_model import LogisticRegression\n",
        "from sklearn.ensemble import BaggingClassifier\n",
        "from sklearn.tree import DecisionTreeClassifier\n",
        "from sklearn.ensemble import GradientBoostingClassifier\n",
        "from sklearn.model_selection import cross_validate\n",
        "from sklearn.model_selection import cross_val_score\n",
        "from sklearn.model_selection import RandomizedSearchCV\n",
        "from sklearn.metrics import roc_curve, roc_auc_score\n",
        "from sklearn.preprocessing import MinMaxScaler\n",
        "from xgboost import XGBClassifier\n",
        "from lightgbm import LGBMClassifier\n",
        "from lightgbm import plot_importance\n",
        "from sklearn.svm import SVC\n",
        "from sklearn.model_selection import train_test_split\n",
        "from sklearn import metrics\n",
        "import matplotlib.pyplot as plt\n",
        "sns.set(rc={'figure.figsize':(10,6)})"
      ],
      "execution_count": 1,
      "outputs": []
    },
    {
      "cell_type": "code",
      "metadata": {
        "id": "hImq9AU8DA05"
      },
      "source": [
        "df = pd.read_csv('/content/drive/MyDrive/Colab Notebooks/creditcard.csv')"
      ],
      "execution_count": 2,
      "outputs": []
    },
    {
      "cell_type": "markdown",
      "metadata": {
        "id": "YEViIHMgs0L_"
      },
      "source": [
        "## 2 EDA (preivous file)"
      ]
    },
    {
      "cell_type": "markdown",
      "metadata": {
        "id": "YTKtIcUQi1Lc"
      },
      "source": [
        "## 3. Feature Engineering (Case 2)\r\n",
        "\r\n"
      ]
    },
    {
      "cell_type": "code",
      "metadata": {
        "colab": {
          "base_uri": "https://localhost:8080/",
          "height": 241
        },
        "id": "pBX9Dp-cxXJ6",
        "outputId": "090a07da-a437-4c0f-fc9d-2507af173973"
      },
      "source": [
        "## 3.1 posEntryMode\r\n",
        "df['posEM_new'] = np.where(df['posEntryMode'] == '', '999',df['posEntryMode'])\r\n",
        "\r\n",
        "## 3.2 transactionAmount and creditLimit\r\n",
        "df['amountOver'] = np.where(df['transactionAmount'] > df['creditLimit'], 1, 0)\r\n",
        "\r\n",
        "## 3.3 cardCVV and enteredCVV\r\n",
        "df['cvvNotSame'] =  np.where(df['cardCVV'] != df['enteredCVV'], 1, 0)\r\n",
        "\r\n",
        "## 3.4 DateTime\r\n",
        "df['transactionDateTime'] = pd.to_datetime(df['transactionDateTime'])\r\n",
        "df['hour'] = df['transactionDateTime'].dt.hour\r\n",
        "\r\n",
        "## 3.5 Create a new dataframe\r\n",
        "df1 = df[['isFraud','cvvNotSame','amountOver', 'posEM_new', 'hour', 'transactionAmount', 'availableMoney', 'cardPresent', 'merchantCategoryCode']]\r\n",
        "df1 = pd.get_dummies(columns=['posEM_new'], data = df1)\r\n",
        "df1 = pd.get_dummies(columns=['merchantCategoryCode'], data = df1)\r\n",
        "df_final = df1.dropna()\r\n",
        "df_final.head()"
      ],
      "execution_count": 3,
      "outputs": [
        {
          "output_type": "execute_result",
          "data": {
            "text/html": [
              "<div>\n",
              "<style scoped>\n",
              "    .dataframe tbody tr th:only-of-type {\n",
              "        vertical-align: middle;\n",
              "    }\n",
              "\n",
              "    .dataframe tbody tr th {\n",
              "        vertical-align: top;\n",
              "    }\n",
              "\n",
              "    .dataframe thead th {\n",
              "        text-align: right;\n",
              "    }\n",
              "</style>\n",
              "<table border=\"1\" class=\"dataframe\">\n",
              "  <thead>\n",
              "    <tr style=\"text-align: right;\">\n",
              "      <th></th>\n",
              "      <th>isFraud</th>\n",
              "      <th>cvvNotSame</th>\n",
              "      <th>amountOver</th>\n",
              "      <th>hour</th>\n",
              "      <th>transactionAmount</th>\n",
              "      <th>availableMoney</th>\n",
              "      <th>cardPresent</th>\n",
              "      <th>posEM_new_2.0</th>\n",
              "      <th>posEM_new_5.0</th>\n",
              "      <th>posEM_new_80.0</th>\n",
              "      <th>posEM_new_9.0</th>\n",
              "      <th>posEM_new_90.0</th>\n",
              "      <th>posEM_new_nan</th>\n",
              "      <th>merchantCategoryCode_airline</th>\n",
              "      <th>merchantCategoryCode_auto</th>\n",
              "      <th>merchantCategoryCode_cable/phone</th>\n",
              "      <th>merchantCategoryCode_entertainment</th>\n",
              "      <th>merchantCategoryCode_fastfood</th>\n",
              "      <th>merchantCategoryCode_food</th>\n",
              "      <th>merchantCategoryCode_food_delivery</th>\n",
              "      <th>merchantCategoryCode_fuel</th>\n",
              "      <th>merchantCategoryCode_furniture</th>\n",
              "      <th>merchantCategoryCode_gym</th>\n",
              "      <th>merchantCategoryCode_health</th>\n",
              "      <th>merchantCategoryCode_hotels</th>\n",
              "      <th>merchantCategoryCode_mobileapps</th>\n",
              "      <th>merchantCategoryCode_online_gifts</th>\n",
              "      <th>merchantCategoryCode_online_retail</th>\n",
              "      <th>merchantCategoryCode_online_subscriptions</th>\n",
              "      <th>merchantCategoryCode_personal care</th>\n",
              "      <th>merchantCategoryCode_rideshare</th>\n",
              "      <th>merchantCategoryCode_subscriptions</th>\n",
              "    </tr>\n",
              "  </thead>\n",
              "  <tbody>\n",
              "    <tr>\n",
              "      <th>0</th>\n",
              "      <td>False</td>\n",
              "      <td>0</td>\n",
              "      <td>0</td>\n",
              "      <td>14</td>\n",
              "      <td>98.55</td>\n",
              "      <td>5000.0</td>\n",
              "      <td>False</td>\n",
              "      <td>1</td>\n",
              "      <td>0</td>\n",
              "      <td>0</td>\n",
              "      <td>0</td>\n",
              "      <td>0</td>\n",
              "      <td>0</td>\n",
              "      <td>0</td>\n",
              "      <td>0</td>\n",
              "      <td>0</td>\n",
              "      <td>0</td>\n",
              "      <td>0</td>\n",
              "      <td>0</td>\n",
              "      <td>0</td>\n",
              "      <td>0</td>\n",
              "      <td>0</td>\n",
              "      <td>0</td>\n",
              "      <td>0</td>\n",
              "      <td>0</td>\n",
              "      <td>0</td>\n",
              "      <td>0</td>\n",
              "      <td>0</td>\n",
              "      <td>0</td>\n",
              "      <td>0</td>\n",
              "      <td>1</td>\n",
              "      <td>0</td>\n",
              "    </tr>\n",
              "    <tr>\n",
              "      <th>1</th>\n",
              "      <td>False</td>\n",
              "      <td>0</td>\n",
              "      <td>0</td>\n",
              "      <td>5</td>\n",
              "      <td>74.51</td>\n",
              "      <td>5000.0</td>\n",
              "      <td>True</td>\n",
              "      <td>0</td>\n",
              "      <td>0</td>\n",
              "      <td>0</td>\n",
              "      <td>1</td>\n",
              "      <td>0</td>\n",
              "      <td>0</td>\n",
              "      <td>0</td>\n",
              "      <td>0</td>\n",
              "      <td>0</td>\n",
              "      <td>1</td>\n",
              "      <td>0</td>\n",
              "      <td>0</td>\n",
              "      <td>0</td>\n",
              "      <td>0</td>\n",
              "      <td>0</td>\n",
              "      <td>0</td>\n",
              "      <td>0</td>\n",
              "      <td>0</td>\n",
              "      <td>0</td>\n",
              "      <td>0</td>\n",
              "      <td>0</td>\n",
              "      <td>0</td>\n",
              "      <td>0</td>\n",
              "      <td>0</td>\n",
              "      <td>0</td>\n",
              "    </tr>\n",
              "    <tr>\n",
              "      <th>2</th>\n",
              "      <td>False</td>\n",
              "      <td>0</td>\n",
              "      <td>0</td>\n",
              "      <td>9</td>\n",
              "      <td>7.47</td>\n",
              "      <td>5000.0</td>\n",
              "      <td>False</td>\n",
              "      <td>0</td>\n",
              "      <td>0</td>\n",
              "      <td>0</td>\n",
              "      <td>1</td>\n",
              "      <td>0</td>\n",
              "      <td>0</td>\n",
              "      <td>0</td>\n",
              "      <td>0</td>\n",
              "      <td>0</td>\n",
              "      <td>0</td>\n",
              "      <td>0</td>\n",
              "      <td>0</td>\n",
              "      <td>0</td>\n",
              "      <td>0</td>\n",
              "      <td>0</td>\n",
              "      <td>0</td>\n",
              "      <td>0</td>\n",
              "      <td>0</td>\n",
              "      <td>1</td>\n",
              "      <td>0</td>\n",
              "      <td>0</td>\n",
              "      <td>0</td>\n",
              "      <td>0</td>\n",
              "      <td>0</td>\n",
              "      <td>0</td>\n",
              "    </tr>\n",
              "    <tr>\n",
              "      <th>3</th>\n",
              "      <td>False</td>\n",
              "      <td>0</td>\n",
              "      <td>0</td>\n",
              "      <td>2</td>\n",
              "      <td>7.47</td>\n",
              "      <td>5000.0</td>\n",
              "      <td>False</td>\n",
              "      <td>0</td>\n",
              "      <td>0</td>\n",
              "      <td>0</td>\n",
              "      <td>1</td>\n",
              "      <td>0</td>\n",
              "      <td>0</td>\n",
              "      <td>0</td>\n",
              "      <td>0</td>\n",
              "      <td>0</td>\n",
              "      <td>0</td>\n",
              "      <td>0</td>\n",
              "      <td>0</td>\n",
              "      <td>0</td>\n",
              "      <td>0</td>\n",
              "      <td>0</td>\n",
              "      <td>0</td>\n",
              "      <td>0</td>\n",
              "      <td>0</td>\n",
              "      <td>1</td>\n",
              "      <td>0</td>\n",
              "      <td>0</td>\n",
              "      <td>0</td>\n",
              "      <td>0</td>\n",
              "      <td>0</td>\n",
              "      <td>0</td>\n",
              "    </tr>\n",
              "    <tr>\n",
              "      <th>4</th>\n",
              "      <td>False</td>\n",
              "      <td>0</td>\n",
              "      <td>0</td>\n",
              "      <td>21</td>\n",
              "      <td>71.18</td>\n",
              "      <td>5000.0</td>\n",
              "      <td>True</td>\n",
              "      <td>1</td>\n",
              "      <td>0</td>\n",
              "      <td>0</td>\n",
              "      <td>0</td>\n",
              "      <td>0</td>\n",
              "      <td>0</td>\n",
              "      <td>0</td>\n",
              "      <td>0</td>\n",
              "      <td>0</td>\n",
              "      <td>0</td>\n",
              "      <td>1</td>\n",
              "      <td>0</td>\n",
              "      <td>0</td>\n",
              "      <td>0</td>\n",
              "      <td>0</td>\n",
              "      <td>0</td>\n",
              "      <td>0</td>\n",
              "      <td>0</td>\n",
              "      <td>0</td>\n",
              "      <td>0</td>\n",
              "      <td>0</td>\n",
              "      <td>0</td>\n",
              "      <td>0</td>\n",
              "      <td>0</td>\n",
              "      <td>0</td>\n",
              "    </tr>\n",
              "  </tbody>\n",
              "</table>\n",
              "</div>"
            ],
            "text/plain": [
              "   isFraud  ...  merchantCategoryCode_subscriptions\n",
              "0    False  ...                                   0\n",
              "1    False  ...                                   0\n",
              "2    False  ...                                   0\n",
              "3    False  ...                                   0\n",
              "4    False  ...                                   0\n",
              "\n",
              "[5 rows x 32 columns]"
            ]
          },
          "metadata": {
            "tags": []
          },
          "execution_count": 3
        }
      ]
    },
    {
      "cell_type": "markdown",
      "metadata": {
        "id": "X4cX_5tAxwWY"
      },
      "source": [
        "## 4 Modeling"
      ]
    },
    {
      "cell_type": "markdown",
      "metadata": {
        "id": "dJDpKajGE6tX"
      },
      "source": [
        "For this fraud detection task, I will use ROC_AUC as the primary metric."
      ]
    },
    {
      "cell_type": "markdown",
      "metadata": {
        "id": "8-TppK4YyeYD"
      },
      "source": [
        "## 4.1 Train-Test split"
      ]
    },
    {
      "cell_type": "code",
      "metadata": {
        "id": "WgeP55czUXQk"
      },
      "source": [
        "X_train, X_test, y_train, y_test = train_test_split(df_final.drop('isFraud', axis = 1),\n",
        "                                                    df_final['isFraud'],\n",
        "                                                    stratify = df_final['isFraud'],\n",
        "                                                    test_size = 0.2,\n",
        "                                                    random_state = 123)"
      ],
      "execution_count": 4,
      "outputs": []
    },
    {
      "cell_type": "code",
      "metadata": {
        "colab": {
          "base_uri": "https://localhost:8080/"
        },
        "id": "jSgmnlhpU-JW",
        "outputId": "1f642375-353e-4b4b-afdf-de51be356dc5"
      },
      "source": [
        "print(X_train.shape)\r\n",
        "print(X_test.shape)"
      ],
      "execution_count": 5,
      "outputs": [
        {
          "output_type": "stream",
          "text": [
            "(629090, 31)\n",
            "(157273, 31)\n"
          ],
          "name": "stdout"
        }
      ]
    },
    {
      "cell_type": "code",
      "metadata": {
        "colab": {
          "base_uri": "https://localhost:8080/"
        },
        "id": "uxqw40SzVFtm",
        "outputId": "5e6fef0f-62b2-4a5f-a6f5-cbe50f6d6897"
      },
      "source": [
        "print(y_train.mean())\r\n",
        "print(y_test.mean())"
      ],
      "execution_count": 6,
      "outputs": [
        {
          "output_type": "stream",
          "text": [
            "0.015791063281883354\n",
            "0.015787833893929664\n"
          ],
          "name": "stdout"
        }
      ]
    },
    {
      "cell_type": "markdown",
      "metadata": {
        "id": "oi55EhEXx0BN"
      },
      "source": [
        "## 4.2 Model1 - Logistics regression"
      ]
    },
    {
      "cell_type": "code",
      "metadata": {
        "colab": {
          "base_uri": "https://localhost:8080/"
        },
        "id": "jCPmPNJXVVs2",
        "outputId": "00edcf2f-b911-43ae-f635-66d8b94a5976"
      },
      "source": [
        "clf_lr = LogisticRegression(max_iter=500)\n",
        "clf_lr.fit(X_train, y_train)"
      ],
      "execution_count": 7,
      "outputs": [
        {
          "output_type": "execute_result",
          "data": {
            "text/plain": [
              "LogisticRegression(C=1.0, class_weight=None, dual=False, fit_intercept=True,\n",
              "                   intercept_scaling=1, l1_ratio=None, max_iter=500,\n",
              "                   multi_class='auto', n_jobs=None, penalty='l2',\n",
              "                   random_state=None, solver='lbfgs', tol=0.0001, verbose=0,\n",
              "                   warm_start=False)"
            ]
          },
          "metadata": {
            "tags": []
          },
          "execution_count": 7
        }
      ]
    },
    {
      "cell_type": "code",
      "metadata": {
        "colab": {
          "base_uri": "https://localhost:8080/"
        },
        "id": "CTBnZyX4jGHA",
        "outputId": "3b3ec772-b41b-4ae1-baab-5fcf24398b56"
      },
      "source": [
        "# 5-fold cross validation\r\n",
        "cross_val_score(clf_lr, X_train, y_train, scoring = \"roc_auc\", cv = 5)"
      ],
      "execution_count": 8,
      "outputs": [
        {
          "output_type": "execute_result",
          "data": {
            "text/plain": [
              "array([0.68765045, 0.67950224, 0.68652855, 0.7165334 , 0.72937044])"
            ]
          },
          "metadata": {
            "tags": []
          },
          "execution_count": 8
        }
      ]
    },
    {
      "cell_type": "code",
      "metadata": {
        "id": "1nWs3mRrY7MH",
        "colab": {
          "base_uri": "https://localhost:8080/"
        },
        "outputId": "fb9e79ac-2e40-4a3f-cd61-5d46067ec75d"
      },
      "source": [
        "# Other metrics\r\n",
        "y_pred_lr = clf_lr.predict(X_test)\r\n",
        "print(\"accuracy: \",metrics.accuracy_score(y_true = y_test, y_pred = y_pred_lr))\r\n",
        "print(\"precision: \",metrics.precision_score(y_true = y_test, y_pred = y_pred_lr))\r\n",
        "print(\"recall: \",metrics.recall_score(y_true = y_test, y_pred = y_pred_lr))\r\n",
        "print(\"confusion matrix: \",metrics.confusion_matrix(y_test, y_pred_lr))"
      ],
      "execution_count": 9,
      "outputs": [
        {
          "output_type": "stream",
          "text": [
            "accuracy:  0.9842058077355935\n",
            "precision:  0.0\n",
            "recall:  0.0\n",
            "confusion matrix:  [[154789      1]\n",
            " [  2483      0]]\n"
          ],
          "name": "stdout"
        }
      ]
    },
    {
      "cell_type": "code",
      "metadata": {
        "id": "5eJGjIsiZqcb",
        "colab": {
          "base_uri": "https://localhost:8080/"
        },
        "outputId": "da862679-1f73-46de-d705-a82b001eda84"
      },
      "source": [
        "y_pred_p = clf_lr.predict_proba(X_test)\r\n",
        "y_pred_p[0:10]"
      ],
      "execution_count": 10,
      "outputs": [
        {
          "output_type": "execute_result",
          "data": {
            "text/plain": [
              "array([[0.99564459, 0.00435541],\n",
              "       [0.99525762, 0.00474238],\n",
              "       [0.991611  , 0.008389  ],\n",
              "       [0.96961496, 0.03038504],\n",
              "       [0.99726379, 0.00273621],\n",
              "       [0.99784173, 0.00215827],\n",
              "       [0.99058973, 0.00941027],\n",
              "       [0.99482893, 0.00517107],\n",
              "       [0.98719402, 0.01280598],\n",
              "       [0.99492859, 0.00507141]])"
            ]
          },
          "metadata": {
            "tags": []
          },
          "execution_count": 10
        }
      ]
    },
    {
      "cell_type": "code",
      "metadata": {
        "id": "AoAVOFXdaSAA",
        "colab": {
          "base_uri": "https://localhost:8080/"
        },
        "outputId": "535a19e0-955f-42aa-eb1a-22a862f9125f"
      },
      "source": [
        "# Replace the threshold, with the percentage of the fraud transactions in the dataset.\r\n",
        "y_pred_lr = np.where(y_pred_p[:,1]> 0.016, 1,0)\r\n",
        "print(\"accuracy: \",metrics.accuracy_score(y_true = y_test, y_pred = y_pred_lr))\r\n",
        "print(\"precision: \",metrics.precision_score(y_true = y_test, y_pred = y_pred_lr))\r\n",
        "print(\"recall: \",metrics.recall_score(y_true = y_test, y_pred = y_pred_lr))\r\n",
        "print(\"confusion matrix: \",metrics.confusion_matrix(y_test, y_pred_lr))"
      ],
      "execution_count": 11,
      "outputs": [
        {
          "output_type": "stream",
          "text": [
            "accuracy:  0.6210220444704431\n",
            "precision:  0.027230590961761298\n",
            "recall:  0.662505034232783\n",
            "confusion matrix:  [[96025 58765]\n",
            " [  838  1645]]\n"
          ],
          "name": "stdout"
        }
      ]
    },
    {
      "cell_type": "code",
      "metadata": {
        "colab": {
          "base_uri": "https://localhost:8080/",
          "height": 302
        },
        "id": "LIusAL7NbBYG",
        "outputId": "fd7b4fa2-9c6b-41ee-fd0b-38bace6f54f1"
      },
      "source": [
        "# Plot roc_auc\n",
        "lr_probs = clf_lr.predict_proba(X_test)\n",
        " \n",
        "# Keep probabilities for the positive outcome only\n",
        "lr_probs = lr_probs[:, 1]\n",
        " \n",
        "# Calculate scores area under curve\n",
        "lr_auc = roc_auc_score(y_test,lr_probs)\n",
        " \n",
        "# summarize scores\n",
        "print('Logistic: ROC AUC=%.3f' % (lr_auc))\n",
        " \n",
        "# calculate the roc curve\n",
        "fpr, tpr, thresholds = roc_curve(y_test,lr_probs)\n",
        " \n",
        "# plot the roc curve for the model\n",
        "plt.plot([0, 1], [0, 1], 'k--',label='Random Predictor')  # draw diag\n",
        "plt.plot(fpr, tpr, marker='.', color='darkorange',label='Logistic') # draw ROC\n",
        "# axis labels\n",
        "plt.xlabel('False Positive Rate')\n",
        "plt.ylabel('True Positive Rate')\n",
        "# show the legend\n",
        "plt.legend()\n",
        "# show the plot\n",
        "plt.show()"
      ],
      "execution_count": 12,
      "outputs": [
        {
          "output_type": "stream",
          "text": [
            "Logistic: ROC AUC=0.688\n"
          ],
          "name": "stdout"
        },
        {
          "output_type": "display_data",
          "data": {
            "image/png": "[encoded data removed]",
            "text/plain": [
              "<Figure size 432x288 with 1 Axes>"
            ]
          },
          "metadata": {
            "tags": [],
            "needs_background": "light"
          }
        }
      ]
    },
    {
      "cell_type": "markdown",
      "metadata": {
        "id": "hmXsGHVYN4Bg"
      },
      "source": [
        "I will use 0.688 as the base."
      ]
    },
    {
      "cell_type": "markdown",
      "metadata": {
        "id": "Q_zNhLNHd2hY"
      },
      "source": [
        "## 4.2.1  Model1 - Logistics regression (scaling)"
      ]
    },
    {
      "cell_type": "code",
      "metadata": {
        "colab": {
          "base_uri": "https://localhost:8080/",
          "height": 241
        },
        "id": "9sUiDAeBWe4q",
        "outputId": "347cd6dc-a97d-4020-c0a2-737034e0244b"
      },
      "source": [
        "# Scale the dataframe\r\n",
        "min_max_scaler = MinMaxScaler()\r\n",
        "df_final_scaled = min_max_scaler.fit_transform(df_final.values)\r\n",
        "df_final2 = pd.DataFrame(df_final_scaled)\r\n",
        "df_final2.columns = df_final.columns\r\n",
        "df_final2.head()"
      ],
      "execution_count": 13,
      "outputs": [
        {
          "output_type": "execute_result",
          "data": {
            "text/html": [
              "<div>\n",
              "<style scoped>\n",
              "    .dataframe tbody tr th:only-of-type {\n",
              "        vertical-align: middle;\n",
              "    }\n",
              "\n",
              "    .dataframe tbody tr th {\n",
              "        vertical-align: top;\n",
              "    }\n",
              "\n",
              "    .dataframe thead th {\n",
              "        text-align: right;\n",
              "    }\n",
              "</style>\n",
              "<table border=\"1\" class=\"dataframe\">\n",
              "  <thead>\n",
              "    <tr style=\"text-align: right;\">\n",
              "      <th></th>\n",
              "      <th>isFraud</th>\n",
              "      <th>cvvNotSame</th>\n",
              "      <th>amountOver</th>\n",
              "      <th>hour</th>\n",
              "      <th>transactionAmount</th>\n",
              "      <th>availableMoney</th>\n",
              "      <th>cardPresent</th>\n",
              "      <th>posEM_new_2.0</th>\n",
              "      <th>posEM_new_5.0</th>\n",
              "      <th>posEM_new_80.0</th>\n",
              "      <th>posEM_new_9.0</th>\n",
              "      <th>posEM_new_90.0</th>\n",
              "      <th>posEM_new_nan</th>\n",
              "      <th>merchantCategoryCode_airline</th>\n",
              "      <th>merchantCategoryCode_auto</th>\n",
              "      <th>merchantCategoryCode_cable/phone</th>\n",
              "      <th>merchantCategoryCode_entertainment</th>\n",
              "      <th>merchantCategoryCode_fastfood</th>\n",
              "      <th>merchantCategoryCode_food</th>\n",
              "      <th>merchantCategoryCode_food_delivery</th>\n",
              "      <th>merchantCategoryCode_fuel</th>\n",
              "      <th>merchantCategoryCode_furniture</th>\n",
              "      <th>merchantCategoryCode_gym</th>\n",
              "      <th>merchantCategoryCode_health</th>\n",
              "      <th>merchantCategoryCode_hotels</th>\n",
              "      <th>merchantCategoryCode_mobileapps</th>\n",
              "      <th>merchantCategoryCode_online_gifts</th>\n",
              "      <th>merchantCategoryCode_online_retail</th>\n",
              "      <th>merchantCategoryCode_online_subscriptions</th>\n",
              "      <th>merchantCategoryCode_personal care</th>\n",
              "      <th>merchantCategoryCode_rideshare</th>\n",
              "      <th>merchantCategoryCode_subscriptions</th>\n",
              "    </tr>\n",
              "  </thead>\n",
              "  <tbody>\n",
              "    <tr>\n",
              "      <th>0</th>\n",
              "      <td>0.0</td>\n",
              "      <td>0.0</td>\n",
              "      <td>0.0</td>\n",
              "      <td>0.608696</td>\n",
              "      <td>0.048992</td>\n",
              "      <td>0.117744</td>\n",
              "      <td>0.0</td>\n",
              "      <td>1.0</td>\n",
              "      <td>0.0</td>\n",
              "      <td>0.0</td>\n",
              "      <td>0.0</td>\n",
              "      <td>0.0</td>\n",
              "      <td>0.0</td>\n",
              "      <td>0.0</td>\n",
              "      <td>0.0</td>\n",
              "      <td>0.0</td>\n",
              "      <td>0.0</td>\n",
              "      <td>0.0</td>\n",
              "      <td>0.0</td>\n",
              "      <td>0.0</td>\n",
              "      <td>0.0</td>\n",
              "      <td>0.0</td>\n",
              "      <td>0.0</td>\n",
              "      <td>0.0</td>\n",
              "      <td>0.0</td>\n",
              "      <td>0.0</td>\n",
              "      <td>0.0</td>\n",
              "      <td>0.0</td>\n",
              "      <td>0.0</td>\n",
              "      <td>0.0</td>\n",
              "      <td>1.0</td>\n",
              "      <td>0.0</td>\n",
              "    </tr>\n",
              "    <tr>\n",
              "      <th>1</th>\n",
              "      <td>0.0</td>\n",
              "      <td>0.0</td>\n",
              "      <td>0.0</td>\n",
              "      <td>0.217391</td>\n",
              "      <td>0.037041</td>\n",
              "      <td>0.117744</td>\n",
              "      <td>1.0</td>\n",
              "      <td>0.0</td>\n",
              "      <td>0.0</td>\n",
              "      <td>0.0</td>\n",
              "      <td>1.0</td>\n",
              "      <td>0.0</td>\n",
              "      <td>0.0</td>\n",
              "      <td>0.0</td>\n",
              "      <td>0.0</td>\n",
              "      <td>0.0</td>\n",
              "      <td>1.0</td>\n",
              "      <td>0.0</td>\n",
              "      <td>0.0</td>\n",
              "      <td>0.0</td>\n",
              "      <td>0.0</td>\n",
              "      <td>0.0</td>\n",
              "      <td>0.0</td>\n",
              "      <td>0.0</td>\n",
              "      <td>0.0</td>\n",
              "      <td>0.0</td>\n",
              "      <td>0.0</td>\n",
              "      <td>0.0</td>\n",
              "      <td>0.0</td>\n",
              "      <td>0.0</td>\n",
              "      <td>0.0</td>\n",
              "      <td>0.0</td>\n",
              "    </tr>\n",
              "    <tr>\n",
              "      <th>2</th>\n",
              "      <td>0.0</td>\n",
              "      <td>0.0</td>\n",
              "      <td>0.0</td>\n",
              "      <td>0.391304</td>\n",
              "      <td>0.003714</td>\n",
              "      <td>0.117744</td>\n",
              "      <td>0.0</td>\n",
              "      <td>0.0</td>\n",
              "      <td>0.0</td>\n",
              "      <td>0.0</td>\n",
              "      <td>1.0</td>\n",
              "      <td>0.0</td>\n",
              "      <td>0.0</td>\n",
              "      <td>0.0</td>\n",
              "      <td>0.0</td>\n",
              "      <td>0.0</td>\n",
              "      <td>0.0</td>\n",
              "      <td>0.0</td>\n",
              "      <td>0.0</td>\n",
              "      <td>0.0</td>\n",
              "      <td>0.0</td>\n",
              "      <td>0.0</td>\n",
              "      <td>0.0</td>\n",
              "      <td>0.0</td>\n",
              "      <td>0.0</td>\n",
              "      <td>1.0</td>\n",
              "      <td>0.0</td>\n",
              "      <td>0.0</td>\n",
              "      <td>0.0</td>\n",
              "      <td>0.0</td>\n",
              "      <td>0.0</td>\n",
              "      <td>0.0</td>\n",
              "    </tr>\n",
              "    <tr>\n",
              "      <th>3</th>\n",
              "      <td>0.0</td>\n",
              "      <td>0.0</td>\n",
              "      <td>0.0</td>\n",
              "      <td>0.086957</td>\n",
              "      <td>0.003714</td>\n",
              "      <td>0.117744</td>\n",
              "      <td>0.0</td>\n",
              "      <td>0.0</td>\n",
              "      <td>0.0</td>\n",
              "      <td>0.0</td>\n",
              "      <td>1.0</td>\n",
              "      <td>0.0</td>\n",
              "      <td>0.0</td>\n",
              "      <td>0.0</td>\n",
              "      <td>0.0</td>\n",
              "      <td>0.0</td>\n",
              "      <td>0.0</td>\n",
              "      <td>0.0</td>\n",
              "      <td>0.0</td>\n",
              "      <td>0.0</td>\n",
              "      <td>0.0</td>\n",
              "      <td>0.0</td>\n",
              "      <td>0.0</td>\n",
              "      <td>0.0</td>\n",
              "      <td>0.0</td>\n",
              "      <td>1.0</td>\n",
              "      <td>0.0</td>\n",
              "      <td>0.0</td>\n",
              "      <td>0.0</td>\n",
              "      <td>0.0</td>\n",
              "      <td>0.0</td>\n",
              "      <td>0.0</td>\n",
              "    </tr>\n",
              "    <tr>\n",
              "      <th>4</th>\n",
              "      <td>0.0</td>\n",
              "      <td>0.0</td>\n",
              "      <td>0.0</td>\n",
              "      <td>0.913043</td>\n",
              "      <td>0.035386</td>\n",
              "      <td>0.117744</td>\n",
              "      <td>1.0</td>\n",
              "      <td>1.0</td>\n",
              "      <td>0.0</td>\n",
              "      <td>0.0</td>\n",
              "      <td>0.0</td>\n",
              "      <td>0.0</td>\n",
              "      <td>0.0</td>\n",
              "      <td>0.0</td>\n",
              "      <td>0.0</td>\n",
              "      <td>0.0</td>\n",
              "      <td>0.0</td>\n",
              "      <td>1.0</td>\n",
              "      <td>0.0</td>\n",
              "      <td>0.0</td>\n",
              "      <td>0.0</td>\n",
              "      <td>0.0</td>\n",
              "      <td>0.0</td>\n",
              "      <td>0.0</td>\n",
              "      <td>0.0</td>\n",
              "      <td>0.0</td>\n",
              "      <td>0.0</td>\n",
              "      <td>0.0</td>\n",
              "      <td>0.0</td>\n",
              "      <td>0.0</td>\n",
              "      <td>0.0</td>\n",
              "      <td>0.0</td>\n",
              "    </tr>\n",
              "  </tbody>\n",
              "</table>\n",
              "</div>"
            ],
            "text/plain": [
              "   isFraud  ...  merchantCategoryCode_subscriptions\n",
              "0      0.0  ...                                 0.0\n",
              "1      0.0  ...                                 0.0\n",
              "2      0.0  ...                                 0.0\n",
              "3      0.0  ...                                 0.0\n",
              "4      0.0  ...                                 0.0\n",
              "\n",
              "[5 rows x 32 columns]"
            ]
          },
          "metadata": {
            "tags": []
          },
          "execution_count": 13
        }
      ]
    },
    {
      "cell_type": "code",
      "metadata": {
        "id": "vKa191T0dvwp"
      },
      "source": [
        "# train-test split\r\n",
        "X_train, X_test, y_train, y_test = train_test_split(df_final2.drop('isFraud', axis = 1),\r\n",
        "                                                    df_final2['isFraud'],\r\n",
        "                                                    stratify = df_final2['isFraud'],\r\n",
        "                                                    test_size = 0.2,\r\n",
        "                                                    random_state = 123)"
      ],
      "execution_count": 14,
      "outputs": []
    },
    {
      "cell_type": "code",
      "metadata": {
        "colab": {
          "base_uri": "https://localhost:8080/"
        },
        "id": "uMDtyMz1giWC",
        "outputId": "e4508c2a-2e26-4399-da13-9826e0a0bb12"
      },
      "source": [
        "# Apply the logistic model\r\n",
        "clf_lr = LogisticRegression(max_iter=500)\r\n",
        "clf_lr.fit(X_train, y_train)"
      ],
      "execution_count": 15,
      "outputs": [
        {
          "output_type": "execute_result",
          "data": {
            "text/plain": [
              "LogisticRegression(C=1.0, class_weight=None, dual=False, fit_intercept=True,\n",
              "                   intercept_scaling=1, l1_ratio=None, max_iter=500,\n",
              "                   multi_class='auto', n_jobs=None, penalty='l2',\n",
              "                   random_state=None, solver='lbfgs', tol=0.0001, verbose=0,\n",
              "                   warm_start=False)"
            ]
          },
          "metadata": {
            "tags": []
          },
          "execution_count": 15
        }
      ]
    },
    {
      "cell_type": "code",
      "metadata": {
        "id": "2mqMxyXEgiHy"
      },
      "source": [
        "# Replace the threshold\r\n",
        "y_pred_p = clf_lr.predict_proba(X_test)\r\n",
        "y_pred_lr = np.where(y_pred_p[:,1]> 0.016, 1,0)\r\n"
      ],
      "execution_count": 16,
      "outputs": []
    },
    {
      "cell_type": "code",
      "metadata": {
        "colab": {
          "base_uri": "https://localhost:8080/"
        },
        "id": "OaHBZcM7iiyS",
        "outputId": "04fd27ba-2a29-4464-c357-43e08ad4e7ca"
      },
      "source": [
        "# Other metrics\r\n",
        "print(\"accuracy: \",metrics.accuracy_score(y_true = y_test, y_pred = y_pred_lr))\r\n",
        "print(\"precision: \",metrics.precision_score(y_true = y_test, y_pred = y_pred_lr))\r\n",
        "print(\"recall: \",metrics.recall_score(y_true = y_test, y_pred = y_pred_lr))\r\n",
        "print(\"confusion matrix: \",metrics.confusion_matrix(y_test, y_pred_lr))"
      ],
      "execution_count": 17,
      "outputs": [
        {
          "output_type": "stream",
          "text": [
            "accuracy:  0.6544988650308698\n",
            "precision:  0.03174947174513735\n",
            "recall:  0.7080144985904149\n",
            "confusion matrix:  [[101177  53613]\n",
            " [   725   1758]]\n"
          ],
          "name": "stdout"
        }
      ]
    },
    {
      "cell_type": "code",
      "metadata": {
        "colab": {
          "base_uri": "https://localhost:8080/",
          "height": 302
        },
        "id": "k7vEkWXtg4D3",
        "outputId": "0e6df4dd-373d-4114-b6ba-15b590bcf743"
      },
      "source": [
        "# Plot roc_auc\r\n",
        "lr_probs = clf_lr.predict_proba(X_test)\r\n",
        " \r\n",
        "# keep probabilities for the positive outcome only\r\n",
        "lr_probs = lr_probs[:, 1]\r\n",
        "\r\n",
        "# calculate scores  Area Under Cruve\r\n",
        "lr_auc = roc_auc_score(y_test,lr_probs)\r\n",
        " \r\n",
        "# summarize scores\r\n",
        "print('Logistic: ROC AUC=%.3f' % (lr_auc))\r\n",
        " \r\n",
        "# calculate the roc curve\r\n",
        "fpr, tpr, thresholds = roc_curve(y_test,lr_probs)\r\n",
        " \r\n",
        "# plot the roc curve for the model\r\n",
        "plt.plot([0, 1], [0, 1], 'k--',label='Random Predictor')  # draw diag\r\n",
        "plt.plot(fpr, tpr, marker='.', color='darkorange',label='Logistic') # draw ROC\r\n",
        "# axis labels\r\n",
        "plt.xlabel('False Positive Rate')\r\n",
        "plt.ylabel('True Positive Rate')\r\n",
        "# show the legend\r\n",
        "plt.legend()\r\n",
        "# show the plot\r\n",
        "plt.show()"
      ],
      "execution_count": 18,
      "outputs": [
        {
          "output_type": "stream",
          "text": [
            "Logistic: ROC AUC=0.750\n"
          ],
          "name": "stdout"
        },
        {
          "output_type": "display_data",
          "data": {
            "image/png": "[encoded data removed]",
            "text/plain": [
              "<Figure size 432x288 with 1 Axes>"
            ]
          },
          "metadata": {
            "tags": [],
            "needs_background": "light"
          }
        }
      ]
    },
    {
      "cell_type": "markdown",
      "metadata": {
        "id": "k-gk4DqGhLxx"
      },
      "source": [
        "Compare the 2 roc_auc results before and after scaling the dataframe, it can be concluded that scaling the dataframe increases the value of the metric. There I will use the scaling dataframe in the following modeling experiments."
      ]
    },
    {
      "cell_type": "markdown",
      "metadata": {
        "id": "-RDAk5HVzPqh"
      },
      "source": [
        "# 4.3 XGBoost"
      ]
    },
    {
      "cell_type": "code",
      "metadata": {
        "colab": {
          "base_uri": "https://localhost:8080/"
        },
        "id": "G_8Wa35IeUD8",
        "outputId": "b37c6141-9550-42f0-efe0-c9139f6ec2c0"
      },
      "source": [
        "# Fit the model\n",
        "xgb_clf = XGBClassifier(n_estimators=200, \n",
        "                        learning_rate=0.1\n",
        "                        )\n",
        "xgb_clf.fit(X_train, y_train)"
      ],
      "execution_count": 19,
      "outputs": [
        {
          "output_type": "execute_result",
          "data": {
            "text/plain": [
              "XGBClassifier(base_score=0.5, booster='gbtree', colsample_bylevel=1,\n",
              "              colsample_bynode=1, colsample_bytree=1, gamma=0,\n",
              "              learning_rate=0.1, max_delta_step=0, max_depth=3,\n",
              "              min_child_weight=1, missing=None, n_estimators=200, n_jobs=1,\n",
              "              nthread=None, objective='binary:logistic', random_state=0,\n",
              "              reg_alpha=0, reg_lambda=1, scale_pos_weight=1, seed=None,\n",
              "              silent=None, subsample=1, verbosity=1)"
            ]
          },
          "metadata": {
            "tags": []
          },
          "execution_count": 19
        }
      ]
    },
    {
      "cell_type": "code",
      "metadata": {
        "id": "kVYT3vdofela"
      },
      "source": [
        "# Replace the metric\n",
        "y_pred_xgb = xgb_clf.predict_proba(X_test)\n",
        "y_pred_xgb = np.where(y_pred_xgb[:,1]> 0.016, 1,0)"
      ],
      "execution_count": 20,
      "outputs": []
    },
    {
      "cell_type": "code",
      "metadata": {
        "colab": {
          "base_uri": "https://localhost:8080/"
        },
        "id": "RcGh3NY1isDf",
        "outputId": "45da1986-51eb-4008-9236-5c515a196dba"
      },
      "source": [
        "# Other metrics\r\n",
        "print(\"accuracy: \",metrics.accuracy_score(y_true = y_test, y_pred = y_pred_xgb))\r\n",
        "print(\"precision: \",metrics.precision_score(y_true = y_test, y_pred = y_pred_xgb))\r\n",
        "print(\"recall: \",metrics.recall_score(y_true = y_test, y_pred = y_pred_xgb))\r\n",
        "print(\"confusion matrix: \",metrics.confusion_matrix(y_test, y_pred_xgb))"
      ],
      "execution_count": 21,
      "outputs": [
        {
          "output_type": "stream",
          "text": [
            "accuracy:  0.7191253425572094\n",
            "precision:  0.03718833951288826\n",
            "recall:  0.6745871929118002\n",
            "confusion matrix:  [[111424  43366]\n",
            " [   808   1675]]\n"
          ],
          "name": "stdout"
        }
      ]
    },
    {
      "cell_type": "code",
      "metadata": {
        "colab": {
          "base_uri": "https://localhost:8080/",
          "height": 302
        },
        "id": "2nTq2eBNerPK",
        "outputId": "b3922bdb-8cae-4031-f5fc-a63e49a29720"
      },
      "source": [
        "# Plot roc_auc\n",
        "lr_probs = xgb_clf.predict_proba(X_test)\n",
        " \n",
        "# keep probabilities for the positive outcome only\n",
        "lr_probs = lr_probs[:, 1]\n",
        "\n",
        "# calculate scores  Area Under Cruve\n",
        "lr_auc = roc_auc_score(y_test,lr_probs)\n",
        " \n",
        "# summarize scores\n",
        "print('Logistic: ROC AUC=%.3f' % (lr_auc))\n",
        " \n",
        "# calculate roc curves\n",
        "fpr, tpr, thresholds = roc_curve(y_test,lr_probs)\n",
        " \n",
        "# plot the roc curve for the model\n",
        "plt.plot([0, 1], [0, 1], 'k--',label='Random Predictor')  # draw diag\n",
        "plt.plot(fpr, tpr, marker='.', color='darkorange',label='Logistic') # draw ROC\n",
        "# axis labels\n",
        "plt.xlabel('False Positive Rate')\n",
        "plt.ylabel('True Positive Rate')\n",
        "# show the legend\n",
        "plt.legend()\n",
        "# show the plot\n",
        "plt.show()"
      ],
      "execution_count": 22,
      "outputs": [
        {
          "output_type": "stream",
          "text": [
            "Logistic: ROC AUC=0.760\n"
          ],
          "name": "stdout"
        },
        {
          "output_type": "display_data",
          "data": {
            "image/png": "[encoded data removed]",
            "text/plain": [
              "<Figure size 432x288 with 1 Axes>"
            ]
          },
          "metadata": {
            "tags": [],
            "needs_background": "light"
          }
        }
      ]
    },
    {
      "cell_type": "code",
      "metadata": {
        "id": "DKle3IG2UGzT",
        "colab": {
          "base_uri": "https://localhost:8080/"
        },
        "outputId": "c5a9fb6a-9379-4232-b03a-20bc6f701dc3"
      },
      "source": [
        "# Grid search\r\n",
        "xgb_clf = XGBClassifier()\r\n",
        "\r\n",
        "xgb_param_grid = {'learning_rate': np.arange(0.05, 0.15, 0.05),\r\n",
        "                  'n_estimators': np.arange(200, 400, 100),\r\n",
        "                  }\r\n",
        "\r\n",
        "random_xgb = RandomizedSearchCV(estimator=xgb_clf, \r\n",
        "                                    param_distributions=xgb_param_grid,\r\n",
        "                                    n_iter=100, \r\n",
        "                                    scoring='roc_auc', \r\n",
        "                                    cv=2,\r\n",
        "                                    verbose=1,\r\n",
        "                                    n_jobs=-1\r\n",
        "                                    )\r\n",
        "random_xgb.fit(X_train, y_train)\r\n",
        "print(\"Best parameters found: \",random_xgb.best_params_)"
      ],
      "execution_count": 23,
      "outputs": [
        {
          "output_type": "stream",
          "text": [
            "Fitting 2 folds for each of 4 candidates, totalling 8 fits\n"
          ],
          "name": "stdout"
        },
        {
          "output_type": "stream",
          "text": [
            "/usr/local/lib/python3.6/dist-packages/sklearn/model_selection/_search.py:281: UserWarning: The total space of parameters 4 is smaller than n_iter=100. Running 4 iterations. For exhaustive searches, use GridSearchCV.\n",
            "  % (grid_size, self.n_iter, grid_size), UserWarning)\n",
            "[Parallel(n_jobs=-1)]: Using backend LokyBackend with 2 concurrent workers.\n",
            "[Parallel(n_jobs=-1)]: Done   8 out of   8 | elapsed:  9.5min finished\n"
          ],
          "name": "stderr"
        },
        {
          "output_type": "stream",
          "text": [
            "Best parameters found:  {'n_estimators': 300, 'learning_rate': 0.1}\n"
          ],
          "name": "stdout"
        }
      ]
    },
    {
      "cell_type": "code",
      "metadata": {
        "colab": {
          "base_uri": "https://localhost:8080/",
          "height": 302
        },
        "id": "7PHA5EFdYbJp",
        "outputId": "778b07bd-6e60-42b7-f1ef-9624a9495745"
      },
      "source": [
        "# Use the best parameter to calculate roc_auc\n",
        "xgb_clf = XGBClassifier(n_estimators=300, \n",
        "                        learning_rate=0.1\n",
        "                        )\n",
        "xgb_clf.fit(X_train, y_train)\n",
        "\n",
        "lr_probs = xgb_clf.predict_proba(X_test)\n",
        " \n",
        "# keep probabilities for the positive outcome only\n",
        "lr_probs = lr_probs[:, 1]\n",
        " \n",
        "# calculate scores area Under Cruve\n",
        "lr_auc = roc_auc_score(y_test,lr_probs)\n",
        " \n",
        "# summarize scores\n",
        "print('Logistic: ROC AUC=%.3f' % (lr_auc))\n",
        " \n",
        "# calculate roc curves\n",
        "fpr, tpr, thresholds = roc_curve(y_test,lr_probs)\n",
        " \n",
        "# plot the roc curve for the model\n",
        "plt.plot([0, 1], [0, 1], 'k--',label='Random Predictor')  # draw diag\n",
        "plt.plot(fpr, tpr, marker='.', color='darkorange',label='Logistic') # draw ROC\n",
        "# axis labels\n",
        "plt.xlabel('False Positive Rate')\n",
        "plt.ylabel('True Positive Rate')\n",
        "# show the legend\n",
        "plt.legend()\n",
        "# show the plot\n",
        "plt.show()"
      ],
      "execution_count": 24,
      "outputs": [
        {
          "output_type": "stream",
          "text": [
            "Logistic: ROC AUC=0.761\n"
          ],
          "name": "stdout"
        },
        {
          "output_type": "display_data",
          "data": {
            "image/png": "[encoded data removed]",
            "text/plain": [
              "<Figure size 432x288 with 1 Axes>"
            ]
          },
          "metadata": {
            "tags": [],
            "needs_background": "light"
          }
        }
      ]
    },
    {
      "cell_type": "markdown",
      "metadata": {
        "id": "4W8lMxFL2bNO"
      },
      "source": [
        "## 4.4 LightGBM"
      ]
    },
    {
      "cell_type": "code",
      "metadata": {
        "colab": {
          "base_uri": "https://localhost:8080/"
        },
        "id": "GCa-dQ56fuRY",
        "outputId": "d29c21d4-2a52-41a3-825f-ae8c080eece6"
      },
      "source": [
        "# Fit the model\n",
        "lgb_clf = LGBMClassifier(n_estimators = 200, \n",
        "                         max_depth=10,\n",
        "                         learning_rate = 0.1\n",
        "                         )\n",
        "lgb_clf.fit(X_train, y_train)"
      ],
      "execution_count": 25,
      "outputs": [
        {
          "output_type": "execute_result",
          "data": {
            "text/plain": [
              "LGBMClassifier(boosting_type='gbdt', class_weight=None, colsample_bytree=1.0,\n",
              "               importance_type='split', learning_rate=0.1, max_depth=10,\n",
              "               min_child_samples=20, min_child_weight=0.001, min_split_gain=0.0,\n",
              "               n_estimators=200, n_jobs=-1, num_leaves=31, objective=None,\n",
              "               random_state=None, reg_alpha=0.0, reg_lambda=0.0, silent=True,\n",
              "               subsample=1.0, subsample_for_bin=200000, subsample_freq=0)"
            ]
          },
          "metadata": {
            "tags": []
          },
          "execution_count": 25
        }
      ]
    },
    {
      "cell_type": "code",
      "metadata": {
        "id": "5gOPI-xf1YgT"
      },
      "source": [
        "# Replace the threshold\r\n",
        "y_pred_lgb = lgb_clf.predict_proba(X_test)\r\n",
        "y_pred_lgb = np.where(y_pred_lgb[:,1]> 0.016, 1,0)"
      ],
      "execution_count": 26,
      "outputs": []
    },
    {
      "cell_type": "code",
      "metadata": {
        "colab": {
          "base_uri": "https://localhost:8080/"
        },
        "id": "v3Ug8x5ejGNn",
        "outputId": "22c58865-3d78-45c7-c03d-93c501972ab5"
      },
      "source": [
        "# Other metrics\r\n",
        "print(\"accuracy: \",metrics.accuracy_score(y_true = y_test, y_pred = y_pred_lgb))\r\n",
        "print(\"precision: \",metrics.precision_score(y_true = y_test, y_pred = y_pred_lgb))\r\n",
        "print(\"recall: \",metrics.recall_score(y_true = y_test, y_pred = y_pred_lgb))\r\n",
        "print(\"confusion matrix: \",metrics.confusion_matrix(y_test, y_pred_lgb))"
      ],
      "execution_count": 27,
      "outputs": [
        {
          "output_type": "stream",
          "text": [
            "accuracy:  0.7096513705467563\n",
            "precision:  0.03625663165581975\n",
            "recall:  0.679822795006041\n",
            "confusion matrix:  [[109921  44869]\n",
            " [   795   1688]]\n"
          ],
          "name": "stdout"
        }
      ]
    },
    {
      "cell_type": "code",
      "metadata": {
        "colab": {
          "base_uri": "https://localhost:8080/",
          "height": 302
        },
        "id": "85Tmrx2sgM3a",
        "outputId": "960bae09-9db9-46e3-af08-6075ecaf6784"
      },
      "source": [
        "# Plot roc_auc\n",
        "lr_probs = lgb_clf.predict_proba(X_test)\n",
        " \n",
        "# keep probabilities for the positive outcome only\n",
        "lr_probs = lr_probs[:, 1]\n",
        " \n",
        "# calculate scores area under curve\n",
        "lr_auc = roc_auc_score(y_test,lr_probs)\n",
        " \n",
        "# summarize scores\n",
        "print('Logistic: ROC AUC=%.3f' % (lr_auc))\n",
        " \n",
        "# calculate roc curves\n",
        "fpr, tpr, thresholds = roc_curve(y_test,lr_probs)\n",
        " \n",
        "# plot the roc curve for the model\n",
        "plt.plot([0, 1], [0, 1], 'k--',label='Random Predictor')  # draw diag\n",
        "plt.plot(fpr, tpr, marker='.', color='darkorange',label='Logistic') # draw ROC\n",
        "# axis labels\n",
        "plt.xlabel('False Positive Rate')\n",
        "plt.ylabel('True Positive Rate')\n",
        "# show the legend\n",
        "plt.legend()\n",
        "# show the plot\n",
        "plt.show()"
      ],
      "execution_count": 28,
      "outputs": [
        {
          "output_type": "stream",
          "text": [
            "Logistic: ROC AUC=0.761\n"
          ],
          "name": "stdout"
        },
        {
          "output_type": "display_data",
          "data": {
            "image/png": "[encoded data removed]",
            "text/plain": [
              "<Figure size 432x288 with 1 Axes>"
            ]
          },
          "metadata": {
            "tags": [],
            "needs_background": "light"
          }
        }
      ]
    },
    {
      "cell_type": "code",
      "metadata": {
        "colab": {
          "base_uri": "https://localhost:8080/"
        },
        "id": "s-D_IG-kTJWI",
        "outputId": "c0ef8149-afd8-45ec-c989-587be9c9fdd2"
      },
      "source": [
        "# Grid search\r\n",
        "lgb_clf = LGBMClassifier()\r\n",
        "\r\n",
        "lgb_param_grid = {'learning_rate': np.arange(0.05, 0.15, 0.05),\r\n",
        "                  'n_estimators': np.arange(200, 600, 200),\r\n",
        "                  'max_depth': [5,10]\r\n",
        "                  }\r\n",
        "\r\n",
        "random_lgb = RandomizedSearchCV(estimator=lgb_clf, \r\n",
        "                                    param_distributions=lgb_param_grid,\r\n",
        "                                    n_iter=100, \r\n",
        "                                    scoring='roc_auc', \r\n",
        "                                    cv=2, \r\n",
        "                                    verbose=1,\r\n",
        "                                    n_jobs=-1\r\n",
        "                                    )\r\n",
        "random_lgb.fit(X_train, y_train)\r\n",
        "print(\"Best parameters found: \",random_lgb.best_params_)"
      ],
      "execution_count": 29,
      "outputs": [
        {
          "output_type": "stream",
          "text": [
            "Fitting 2 folds for each of 8 candidates, totalling 16 fits\n"
          ],
          "name": "stdout"
        },
        {
          "output_type": "stream",
          "text": [
            "/usr/local/lib/python3.6/dist-packages/sklearn/model_selection/_search.py:281: UserWarning: The total space of parameters 8 is smaller than n_iter=100. Running 8 iterations. For exhaustive searches, use GridSearchCV.\n",
            "  % (grid_size, self.n_iter, grid_size), UserWarning)\n",
            "[Parallel(n_jobs=-1)]: Using backend LokyBackend with 2 concurrent workers.\n",
            "[Parallel(n_jobs=-1)]: Done  16 out of  16 | elapsed:  2.7min finished\n"
          ],
          "name": "stderr"
        },
        {
          "output_type": "stream",
          "text": [
            "Best parameters found:  {'n_estimators': 200, 'max_depth': 5, 'learning_rate': 0.05}\n"
          ],
          "name": "stdout"
        }
      ]
    },
    {
      "cell_type": "code",
      "metadata": {
        "colab": {
          "base_uri": "https://localhost:8080/",
          "height": 302
        },
        "id": "HXJj4HKra-zP",
        "outputId": "5b2325ae-ebb9-414a-c7e4-d301c19ef5c6"
      },
      "source": [
        "# Use the best parameter to caculate roc_auc\r\n",
        "lgb_clf = LGBMClassifier(n_estimators = 200, \r\n",
        "                         max_depth=5,\r\n",
        "                         learning_rate = 0.05\r\n",
        "                         )\r\n",
        "lgb_clf.fit(X_train, y_train)\r\n",
        "\r\n",
        "lr_probs = lgb_clf.predict_proba(X_test)\r\n",
        " \r\n",
        "# keep probabilities for the positive outcome only\r\n",
        "lr_probs = lr_probs[:, 1]\r\n",
        " \r\n",
        "# calculate scores area under curve\r\n",
        "lr_auc = roc_auc_score(y_test,lr_probs)\r\n",
        " \r\n",
        "# summarize scores\r\n",
        "print('Logistic: ROC AUC=%.3f' % (lr_auc))\r\n",
        " \r\n",
        "# calculate roc curves\r\n",
        "fpr, tpr, thresholds = roc_curve(y_test,lr_probs)\r\n",
        " \r\n",
        "# plot the roc curve for the model\r\n",
        "plt.plot([0, 1], [0, 1], 'k--',label='Random Predictor')  # draw diag\r\n",
        "plt.plot(fpr, tpr, marker='.', color='darkorange',label='Logistic') # draw ROC\r\n",
        "# axis labels\r\n",
        "plt.xlabel('False Positive Rate')\r\n",
        "plt.ylabel('True Positive Rate')\r\n",
        "# show the legend\r\n",
        "plt.legend()\r\n",
        "# show the plot\r\n",
        "plt.show()"
      ],
      "execution_count": 30,
      "outputs": [
        {
          "output_type": "stream",
          "text": [
            "Logistic: ROC AUC=0.762\n"
          ],
          "name": "stdout"
        },
        {
          "output_type": "display_data",
          "data": {
            "image/png": "[encoded data removed]",
            "text/plain": [
              "<Figure size 432x288 with 1 Axes>"
            ]
          },
          "metadata": {
            "tags": [],
            "needs_background": "light"
          }
        }
      ]
    },
    {
      "cell_type": "code",
      "metadata": {
        "colab": {
          "base_uri": "https://localhost:8080/",
          "height": 535
        },
        "id": "kKL__QyZhpzl",
        "outputId": "2211f83d-74a1-4c09-8d55-4c03ef5dc8df"
      },
      "source": [
        "sns.set(rc={'figure.figsize':(12,8)})\r\n",
        "plot_importance(lgb_clf)"
      ],
      "execution_count": 31,
      "outputs": [
        {
          "output_type": "execute_result",
          "data": {
            "text/plain": [
              "<matplotlib.axes._subplots.AxesSubplot at 0x7fa5fbcd0160>"
            ]
          },
          "metadata": {
            "tags": []
          },
          "execution_count": 31
        },
        {
          "output_type": "display_data",
          "data": {
            "image/png": "[encoded data removed]",
            "text/plain": [
              "<Figure size 864x576 with 1 Axes>"
            ]
          },
          "metadata": {
            "tags": []
          }
        }
      ]
    },
    {
      "cell_type": "markdown",
      "metadata": {
        "id": "FRBXgHOvlE2D"
      },
      "source": [
        "In this feature combination, LightGBM achieves 0.762 for the roc_auc, outperforming logistics regression and XGBoost and increasing the base value by 7.4%."
      ]
    }
  ]
}
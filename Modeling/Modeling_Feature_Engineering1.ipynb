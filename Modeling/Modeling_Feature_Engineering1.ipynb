{
  "nbformat": 4,
  "nbformat_minor": 0,
  "metadata": {
    "colab": {
      "name": "Modeling_Case1.ipynb",
      "provenance": [],
      "collapsed_sections": [
        "YEViIHMgs0L_",
        "YTKtIcUQi1Lc"
      ]
    },
    "kernelspec": {
      "display_name": "Python 3",
      "name": "python3"
    }
  },
  "cells": [
    {
      "cell_type": "markdown",
      "metadata": {
        "id": "hcy7u7msC7_P"
      },
      "source": [
        "# Fraud detection using credit card transaction data"
      ]
    },
    {
      "cell_type": "markdown",
      "metadata": {
        "id": "5PF6i3VYYtGv"
      },
      "source": [
        "## 1. Load the data\n",
        "\n"
      ]
    },
    {
      "cell_type": "code",
      "metadata": {
        "id": "QcR1N7GUDKom"
      },
      "source": [
        "import pandas as pd\n",
        "import numpy as np\n",
        "import seaborn as sns\n",
        "from sklearn.neighbors import KNeighborsClassifier\n",
        "from sklearn.ensemble import RandomForestClassifier\n",
        "from sklearn.linear_model import LogisticRegression\n",
        "from sklearn.ensemble import BaggingClassifier\n",
        "from sklearn.tree import DecisionTreeClassifier\n",
        "from sklearn.ensemble import GradientBoostingClassifier\n",
        "from sklearn.model_selection import cross_validate\n",
        "from sklearn.model_selection import cross_val_score\n",
        "from sklearn.model_selection import RandomizedSearchCV\n",
        "from sklearn.metrics import roc_curve, roc_auc_score\n",
        "from sklearn.preprocessing import MinMaxScaler\n",
        "from xgboost import XGBClassifier\n",
        "from lightgbm import LGBMClassifier\n",
        "from lightgbm import plot_importance\n",
        "from sklearn.svm import SVC\n",
        "from sklearn.model_selection import train_test_split\n",
        "from sklearn import metrics\n",
        "import matplotlib.pyplot as plt\n",
        "sns.set(rc={'figure.figsize':(10,6)})"
      ],
      "execution_count": 1,
      "outputs": []
    },
    {
      "cell_type": "code",
      "metadata": {
        "id": "hImq9AU8DA05"
      },
      "source": [
        "df = pd.read_csv('/content/drive/MyDrive/Colab Notebooks/creditcard.csv')"
      ],
      "execution_count": 2,
      "outputs": []
    },
    {
      "cell_type": "markdown",
      "metadata": {
        "id": "YEViIHMgs0L_"
      },
      "source": [
        "## 2 EDA (preivous file)"
      ]
    },
    {
      "cell_type": "markdown",
      "metadata": {
        "id": "YTKtIcUQi1Lc"
      },
      "source": [
        "## 3. Feature Engineering (Case 1)\r\n",
        "\r\n"
      ]
    },
    {
      "cell_type": "markdown",
      "metadata": {
        "id": "Krl52oqbtU1e"
      },
      "source": [
        "##3.1 posEntryMode"
      ]
    },
    {
      "cell_type": "code",
      "metadata": {
        "colab": {
          "base_uri": "https://localhost:8080/"
        },
        "id": "x7XoxhKcti1Z",
        "outputId": "d5b9e7b2-0c63-465a-b093-4f436b0b0f31"
      },
      "source": [
        "df['posEntryMode'].value_counts()"
      ],
      "execution_count": 3,
      "outputs": [
        {
          "output_type": "execute_result",
          "data": {
            "text/plain": [
              "5.0     315035\n",
              "9.0     236481\n",
              "2.0     195934\n",
              "90.0     19576\n",
              "80.0     15283\n",
              "Name: posEntryMode, dtype: int64"
            ]
          },
          "metadata": {
            "tags": []
          },
          "execution_count": 3
        }
      ]
    },
    {
      "cell_type": "code",
      "metadata": {
        "id": "D4j51e9uTx70"
      },
      "source": [
        "# Deal with missing values\r\n",
        "df['posEM_new'] = np.where(df['posEntryMode'] == '', '999',df['posEntryMode'])"
      ],
      "execution_count": 4,
      "outputs": []
    },
    {
      "cell_type": "code",
      "metadata": {
        "colab": {
          "base_uri": "https://localhost:8080/"
        },
        "id": "TcRmqgqpTx4r",
        "outputId": "404e3f35-5e7a-43c3-fad0-0d97ab173b7a"
      },
      "source": [
        "df['posEM_new'].value_counts()"
      ],
      "execution_count": 5,
      "outputs": [
        {
          "output_type": "execute_result",
          "data": {
            "text/plain": [
              "5.0     315035\n",
              "9.0     236481\n",
              "2.0     195934\n",
              "90.0     19576\n",
              "80.0     15283\n",
              "nan       4054\n",
              "Name: posEM_new, dtype: int64"
            ]
          },
          "metadata": {
            "tags": []
          },
          "execution_count": 5
        }
      ]
    },
    {
      "cell_type": "markdown",
      "metadata": {
        "id": "dD47rBPftvV3"
      },
      "source": [
        "## 3.2 transactionAmount and creditLimit"
      ]
    },
    {
      "cell_type": "code",
      "metadata": {
        "id": "ohQXhkWOTxyG"
      },
      "source": [
        " # Create a new feature to detect if transactionAmount exceeds creditLimit\r\n",
        " df['amountOver'] = np.where(df['transactionAmount'] > df['creditLimit'], 1, 0)"
      ],
      "execution_count": 6,
      "outputs": []
    },
    {
      "cell_type": "markdown",
      "metadata": {
        "id": "-rdsUYLaYLEY"
      },
      "source": [
        "## 3.3 cardCVV and enteredCVV"
      ]
    },
    {
      "cell_type": "code",
      "metadata": {
        "id": "aOfNWsQSUH0G"
      },
      "source": [
        "# Create a new feature to compare the actual cardCVV and the enteredCVV\r\n",
        "df['cvvNotSame'] =  np.where(df['cardCVV'] != df['enteredCVV'], 1, 0)"
      ],
      "execution_count": 7,
      "outputs": []
    },
    {
      "cell_type": "markdown",
      "metadata": {
        "id": "ACyDneCfuxs2"
      },
      "source": [
        "## 3.4 transactionDateTime"
      ]
    },
    {
      "cell_type": "code",
      "metadata": {
        "id": "ifQcnJKwUZ5S"
      },
      "source": [
        "# Transform the data type of transactionDateTime\r\n",
        "df['transactionDateTime'] = pd.to_datetime(df['transactionDateTime'])\r\n",
        "df['hour'] = df['transactionDateTime'].dt.hour"
      ],
      "execution_count": 8,
      "outputs": []
    },
    {
      "cell_type": "markdown",
      "metadata": {
        "id": "z_aOLuFDUmZt"
      },
      "source": [
        "##3.5 Create a new dataframe"
      ]
    },
    {
      "cell_type": "code",
      "metadata": {
        "id": "digSSIzGRyHR",
        "colab": {
          "base_uri": "https://localhost:8080/",
          "height": 224
        },
        "outputId": "b46cf59b-9b95-4701-bd32-4651e1cf04ee"
      },
      "source": [
        "df1 = df[['isFraud','cvvNotSame','amountOver', 'posEM_new', 'hour', 'transactionAmount', 'availableMoney', 'cardPresent']]\r\n",
        "df1 = pd.get_dummies(columns=['posEM_new'], data = df1)\r\n",
        "df_final = df1.dropna()\r\n",
        "df_final.head()"
      ],
      "execution_count": 9,
      "outputs": [
        {
          "output_type": "execute_result",
          "data": {
            "text/html": [
              "<div>\n",
              "<style scoped>\n",
              "    .dataframe tbody tr th:only-of-type {\n",
              "        vertical-align: middle;\n",
              "    }\n",
              "\n",
              "    .dataframe tbody tr th {\n",
              "        vertical-align: top;\n",
              "    }\n",
              "\n",
              "    .dataframe thead th {\n",
              "        text-align: right;\n",
              "    }\n",
              "</style>\n",
              "<table border=\"1\" class=\"dataframe\">\n",
              "  <thead>\n",
              "    <tr style=\"text-align: right;\">\n",
              "      <th></th>\n",
              "      <th>isFraud</th>\n",
              "      <th>cvvNotSame</th>\n",
              "      <th>amountOver</th>\n",
              "      <th>hour</th>\n",
              "      <th>transactionAmount</th>\n",
              "      <th>availableMoney</th>\n",
              "      <th>cardPresent</th>\n",
              "      <th>posEM_new_2.0</th>\n",
              "      <th>posEM_new_5.0</th>\n",
              "      <th>posEM_new_80.0</th>\n",
              "      <th>posEM_new_9.0</th>\n",
              "      <th>posEM_new_90.0</th>\n",
              "      <th>posEM_new_nan</th>\n",
              "    </tr>\n",
              "  </thead>\n",
              "  <tbody>\n",
              "    <tr>\n",
              "      <th>0</th>\n",
              "      <td>False</td>\n",
              "      <td>0</td>\n",
              "      <td>0</td>\n",
              "      <td>14</td>\n",
              "      <td>98.55</td>\n",
              "      <td>5000.0</td>\n",
              "      <td>False</td>\n",
              "      <td>1</td>\n",
              "      <td>0</td>\n",
              "      <td>0</td>\n",
              "      <td>0</td>\n",
              "      <td>0</td>\n",
              "      <td>0</td>\n",
              "    </tr>\n",
              "    <tr>\n",
              "      <th>1</th>\n",
              "      <td>False</td>\n",
              "      <td>0</td>\n",
              "      <td>0</td>\n",
              "      <td>5</td>\n",
              "      <td>74.51</td>\n",
              "      <td>5000.0</td>\n",
              "      <td>True</td>\n",
              "      <td>0</td>\n",
              "      <td>0</td>\n",
              "      <td>0</td>\n",
              "      <td>1</td>\n",
              "      <td>0</td>\n",
              "      <td>0</td>\n",
              "    </tr>\n",
              "    <tr>\n",
              "      <th>2</th>\n",
              "      <td>False</td>\n",
              "      <td>0</td>\n",
              "      <td>0</td>\n",
              "      <td>9</td>\n",
              "      <td>7.47</td>\n",
              "      <td>5000.0</td>\n",
              "      <td>False</td>\n",
              "      <td>0</td>\n",
              "      <td>0</td>\n",
              "      <td>0</td>\n",
              "      <td>1</td>\n",
              "      <td>0</td>\n",
              "      <td>0</td>\n",
              "    </tr>\n",
              "    <tr>\n",
              "      <th>3</th>\n",
              "      <td>False</td>\n",
              "      <td>0</td>\n",
              "      <td>0</td>\n",
              "      <td>2</td>\n",
              "      <td>7.47</td>\n",
              "      <td>5000.0</td>\n",
              "      <td>False</td>\n",
              "      <td>0</td>\n",
              "      <td>0</td>\n",
              "      <td>0</td>\n",
              "      <td>1</td>\n",
              "      <td>0</td>\n",
              "      <td>0</td>\n",
              "    </tr>\n",
              "    <tr>\n",
              "      <th>4</th>\n",
              "      <td>False</td>\n",
              "      <td>0</td>\n",
              "      <td>0</td>\n",
              "      <td>21</td>\n",
              "      <td>71.18</td>\n",
              "      <td>5000.0</td>\n",
              "      <td>True</td>\n",
              "      <td>1</td>\n",
              "      <td>0</td>\n",
              "      <td>0</td>\n",
              "      <td>0</td>\n",
              "      <td>0</td>\n",
              "      <td>0</td>\n",
              "    </tr>\n",
              "  </tbody>\n",
              "</table>\n",
              "</div>"
            ],
            "text/plain": [
              "   isFraud  cvvNotSame  ...  posEM_new_90.0  posEM_new_nan\n",
              "0    False           0  ...               0              0\n",
              "1    False           0  ...               0              0\n",
              "2    False           0  ...               0              0\n",
              "3    False           0  ...               0              0\n",
              "4    False           0  ...               0              0\n",
              "\n",
              "[5 rows x 13 columns]"
            ]
          },
          "metadata": {
            "tags": []
          },
          "execution_count": 9
        }
      ]
    },
    {
      "cell_type": "markdown",
      "metadata": {
        "id": "X4cX_5tAxwWY"
      },
      "source": [
        "## 4 Modeling"
      ]
    },
    {
      "cell_type": "markdown",
      "metadata": {
        "id": "dJDpKajGE6tX"
      },
      "source": [
        "For this fraud detection task, I will use ROC_AUC as the primary metric."
      ]
    },
    {
      "cell_type": "markdown",
      "metadata": {
        "id": "8-TppK4YyeYD"
      },
      "source": [
        "## 4.1 Train-test split"
      ]
    },
    {
      "cell_type": "code",
      "metadata": {
        "id": "WgeP55czUXQk"
      },
      "source": [
        "X_train, X_test, y_train, y_test = train_test_split(df_final.drop('isFraud', axis = 1),\n",
        "                                                    df_final['isFraud'],\n",
        "                                                    stratify = df_final['isFraud'],\n",
        "                                                    test_size = 0.2,\n",
        "                                                    random_state = 123)"
      ],
      "execution_count": 10,
      "outputs": []
    },
    {
      "cell_type": "code",
      "metadata": {
        "colab": {
          "base_uri": "https://localhost:8080/"
        },
        "id": "jSgmnlhpU-JW",
        "outputId": "33d7186f-2051-465f-aefb-b2303afd7843"
      },
      "source": [
        "print(X_train.shape)\r\n",
        "print(X_test.shape)"
      ],
      "execution_count": 11,
      "outputs": [
        {
          "output_type": "stream",
          "text": [
            "(629090, 12)\n",
            "(157273, 12)\n"
          ],
          "name": "stdout"
        }
      ]
    },
    {
      "cell_type": "code",
      "metadata": {
        "colab": {
          "base_uri": "https://localhost:8080/"
        },
        "id": "uxqw40SzVFtm",
        "outputId": "216e7ecf-3f2a-4194-b32a-9f7799ca87e8"
      },
      "source": [
        "print(y_train.mean())\r\n",
        "print(y_test.mean())"
      ],
      "execution_count": 12,
      "outputs": [
        {
          "output_type": "stream",
          "text": [
            "0.015791063281883354\n",
            "0.015787833893929664\n"
          ],
          "name": "stdout"
        }
      ]
    },
    {
      "cell_type": "markdown",
      "metadata": {
        "id": "oi55EhEXx0BN"
      },
      "source": [
        "## 4.2 Model1 - Logistic regression"
      ]
    },
    {
      "cell_type": "code",
      "metadata": {
        "colab": {
          "base_uri": "https://localhost:8080/"
        },
        "id": "jCPmPNJXVVs2",
        "outputId": "df7b721b-d1cb-49b0-8571-d5f9c5249be8"
      },
      "source": [
        "clf_lr = LogisticRegression(max_iter=500)\n",
        "clf_lr.fit(X_train, y_train)"
      ],
      "execution_count": 13,
      "outputs": [
        {
          "output_type": "execute_result",
          "data": {
            "text/plain": [
              "LogisticRegression(C=1.0, class_weight=None, dual=False, fit_intercept=True,\n",
              "                   intercept_scaling=1, l1_ratio=None, max_iter=500,\n",
              "                   multi_class='auto', n_jobs=None, penalty='l2',\n",
              "                   random_state=None, solver='lbfgs', tol=0.0001, verbose=0,\n",
              "                   warm_start=False)"
            ]
          },
          "metadata": {
            "tags": []
          },
          "execution_count": 13
        }
      ]
    },
    {
      "cell_type": "code",
      "metadata": {
        "colab": {
          "base_uri": "https://localhost:8080/"
        },
        "id": "CTBnZyX4jGHA",
        "outputId": "a8bd262b-d939-4841-813c-635066030a56"
      },
      "source": [
        "# 5-fold cross validation\r\n",
        "cross_val_score(clf_lr, X_train, y_train, scoring = \"roc_auc\", cv = 5)"
      ],
      "execution_count": 14,
      "outputs": [
        {
          "output_type": "execute_result",
          "data": {
            "text/plain": [
              "array([0.69715492, 0.69087279, 0.70438834, 0.71829543, 0.72213528])"
            ]
          },
          "metadata": {
            "tags": []
          },
          "execution_count": 14
        }
      ]
    },
    {
      "cell_type": "code",
      "metadata": {
        "id": "1nWs3mRrY7MH",
        "colab": {
          "base_uri": "https://localhost:8080/"
        },
        "outputId": "844d17d7-f580-4162-a08c-516c8aed8e91"
      },
      "source": [
        "# Other metrics\r\n",
        "y_pred_lr = clf_lr.predict(X_test)\r\n",
        "print(\"accuracy: \",metrics.accuracy_score(y_true = y_test, y_pred = y_pred_lr))\r\n",
        "print(\"precision: \",metrics.precision_score(y_true = y_test, y_pred = y_pred_lr))\r\n",
        "print(\"recall: \",metrics.recall_score(y_true = y_test, y_pred = y_pred_lr))\r\n",
        "print(\"confusion matrix: \",metrics.confusion_matrix(y_test, y_pred_lr))"
      ],
      "execution_count": 15,
      "outputs": [
        {
          "output_type": "stream",
          "text": [
            "accuracy:  0.9842058077355935\n",
            "precision:  0.0\n",
            "recall:  0.0\n",
            "confusion matrix:  [[154789      1]\n",
            " [  2483      0]]\n"
          ],
          "name": "stdout"
        }
      ]
    },
    {
      "cell_type": "code",
      "metadata": {
        "id": "5eJGjIsiZqcb",
        "colab": {
          "base_uri": "https://localhost:8080/"
        },
        "outputId": "ba1ff6ab-ba8e-4d4f-87a8-b50fada90436"
      },
      "source": [
        "y_pred_p = clf_lr.predict_proba(X_test)\r\n",
        "y_pred_p[0:10]"
      ],
      "execution_count": 16,
      "outputs": [
        {
          "output_type": "execute_result",
          "data": {
            "text/plain": [
              "array([[0.99506906, 0.00493094],\n",
              "       [0.99540518, 0.00459482],\n",
              "       [0.99038993, 0.00961007],\n",
              "       [0.97286327, 0.02713673],\n",
              "       [0.99707235, 0.00292765],\n",
              "       [0.99807381, 0.00192619],\n",
              "       [0.98920724, 0.01079276],\n",
              "       [0.99498907, 0.00501093],\n",
              "       [0.98922034, 0.01077966],\n",
              "       [0.99429533, 0.00570467]])"
            ]
          },
          "metadata": {
            "tags": []
          },
          "execution_count": 16
        }
      ]
    },
    {
      "cell_type": "code",
      "metadata": {
        "id": "AoAVOFXdaSAA",
        "colab": {
          "base_uri": "https://localhost:8080/"
        },
        "outputId": "677c1a06-198d-4f58-a3ee-cfaed30148cf"
      },
      "source": [
        "# Replace the threshold with the percentage of the fraud transactions in the dataset.\r\n",
        "y_pred_lr = np.where(y_pred_p[:,1]> 0.016, 1,0)\r\n",
        "print(\"accuracy: \",metrics.accuracy_score(y_true = y_test, y_pred = y_pred_lr))\r\n",
        "print(\"precision: \",metrics.precision_score(y_true = y_test, y_pred = y_pred_lr))\r\n",
        "print(\"recall: \",metrics.recall_score(y_true = y_test, y_pred = y_pred_lr))\r\n",
        "print(\"confusion matrix: \",metrics.confusion_matrix(y_test, y_pred_lr))"
      ],
      "execution_count": 17,
      "outputs": [
        {
          "output_type": "stream",
          "text": [
            "accuracy:  0.6229104805020569\n",
            "precision:  0.027333677153171736\n",
            "recall:  0.6616995569875151\n",
            "confusion matrix:  [[96324 58466]\n",
            " [  840  1643]]\n"
          ],
          "name": "stdout"
        }
      ]
    },
    {
      "cell_type": "code",
      "metadata": {
        "colab": {
          "base_uri": "https://localhost:8080/",
          "height": 285
        },
        "id": "5ZmSEI-qNvKX",
        "outputId": "95d927e8-f9dc-44fe-8a88-aac15a3c67e1"
      },
      "source": [
        "# Plot roc\r\n",
        "metrics.plot_roc_curve(clf_lr, X_test, y_test)  \r\n",
        "plt.show()  "
      ],
      "execution_count": 18,
      "outputs": [
        {
          "output_type": "display_data",
          "data": {
            "image/png": "[encoded data removed]",
            "text/plain": [
              "<Figure size 432x288 with 1 Axes>"
            ]
          },
          "metadata": {
            "tags": [],
            "needs_background": "light"
          }
        }
      ]
    },
    {
      "cell_type": "markdown",
      "metadata": {
        "id": "hmXsGHVYN4Bg"
      },
      "source": [
        "I will use 0.70 as the base."
      ]
    },
    {
      "cell_type": "markdown",
      "metadata": {
        "id": "Q_zNhLNHd2hY"
      },
      "source": [
        "## 4.2.1  Model1 - Logistic regression (scaling)"
      ]
    },
    {
      "cell_type": "code",
      "metadata": {
        "colab": {
          "base_uri": "https://localhost:8080/",
          "height": 224
        },
        "id": "9sUiDAeBWe4q",
        "outputId": "ede8354d-d61d-4a25-abc1-9a0d726a09bd"
      },
      "source": [
        "# Scale the dataframe\r\n",
        "min_max_scaler = MinMaxScaler()\r\n",
        "df_final_scaled = min_max_scaler.fit_transform(df_final.values)\r\n",
        "df_final2 = pd.DataFrame(df_final_scaled)\r\n",
        "df_final2.columns = df_final.columns\r\n",
        "df_final2.head()"
      ],
      "execution_count": 19,
      "outputs": [
        {
          "output_type": "execute_result",
          "data": {
            "text/html": [
              "<div>\n",
              "<style scoped>\n",
              "    .dataframe tbody tr th:only-of-type {\n",
              "        vertical-align: middle;\n",
              "    }\n",
              "\n",
              "    .dataframe tbody tr th {\n",
              "        vertical-align: top;\n",
              "    }\n",
              "\n",
              "    .dataframe thead th {\n",
              "        text-align: right;\n",
              "    }\n",
              "</style>\n",
              "<table border=\"1\" class=\"dataframe\">\n",
              "  <thead>\n",
              "    <tr style=\"text-align: right;\">\n",
              "      <th></th>\n",
              "      <th>isFraud</th>\n",
              "      <th>cvvNotSame</th>\n",
              "      <th>amountOver</th>\n",
              "      <th>hour</th>\n",
              "      <th>transactionAmount</th>\n",
              "      <th>availableMoney</th>\n",
              "      <th>cardPresent</th>\n",
              "      <th>posEM_new_2.0</th>\n",
              "      <th>posEM_new_5.0</th>\n",
              "      <th>posEM_new_80.0</th>\n",
              "      <th>posEM_new_9.0</th>\n",
              "      <th>posEM_new_90.0</th>\n",
              "      <th>posEM_new_nan</th>\n",
              "    </tr>\n",
              "  </thead>\n",
              "  <tbody>\n",
              "    <tr>\n",
              "      <th>0</th>\n",
              "      <td>0.0</td>\n",
              "      <td>0.0</td>\n",
              "      <td>0.0</td>\n",
              "      <td>0.608696</td>\n",
              "      <td>0.048992</td>\n",
              "      <td>0.117744</td>\n",
              "      <td>0.0</td>\n",
              "      <td>1.0</td>\n",
              "      <td>0.0</td>\n",
              "      <td>0.0</td>\n",
              "      <td>0.0</td>\n",
              "      <td>0.0</td>\n",
              "      <td>0.0</td>\n",
              "    </tr>\n",
              "    <tr>\n",
              "      <th>1</th>\n",
              "      <td>0.0</td>\n",
              "      <td>0.0</td>\n",
              "      <td>0.0</td>\n",
              "      <td>0.217391</td>\n",
              "      <td>0.037041</td>\n",
              "      <td>0.117744</td>\n",
              "      <td>1.0</td>\n",
              "      <td>0.0</td>\n",
              "      <td>0.0</td>\n",
              "      <td>0.0</td>\n",
              "      <td>1.0</td>\n",
              "      <td>0.0</td>\n",
              "      <td>0.0</td>\n",
              "    </tr>\n",
              "    <tr>\n",
              "      <th>2</th>\n",
              "      <td>0.0</td>\n",
              "      <td>0.0</td>\n",
              "      <td>0.0</td>\n",
              "      <td>0.391304</td>\n",
              "      <td>0.003714</td>\n",
              "      <td>0.117744</td>\n",
              "      <td>0.0</td>\n",
              "      <td>0.0</td>\n",
              "      <td>0.0</td>\n",
              "      <td>0.0</td>\n",
              "      <td>1.0</td>\n",
              "      <td>0.0</td>\n",
              "      <td>0.0</td>\n",
              "    </tr>\n",
              "    <tr>\n",
              "      <th>3</th>\n",
              "      <td>0.0</td>\n",
              "      <td>0.0</td>\n",
              "      <td>0.0</td>\n",
              "      <td>0.086957</td>\n",
              "      <td>0.003714</td>\n",
              "      <td>0.117744</td>\n",
              "      <td>0.0</td>\n",
              "      <td>0.0</td>\n",
              "      <td>0.0</td>\n",
              "      <td>0.0</td>\n",
              "      <td>1.0</td>\n",
              "      <td>0.0</td>\n",
              "      <td>0.0</td>\n",
              "    </tr>\n",
              "    <tr>\n",
              "      <th>4</th>\n",
              "      <td>0.0</td>\n",
              "      <td>0.0</td>\n",
              "      <td>0.0</td>\n",
              "      <td>0.913043</td>\n",
              "      <td>0.035386</td>\n",
              "      <td>0.117744</td>\n",
              "      <td>1.0</td>\n",
              "      <td>1.0</td>\n",
              "      <td>0.0</td>\n",
              "      <td>0.0</td>\n",
              "      <td>0.0</td>\n",
              "      <td>0.0</td>\n",
              "      <td>0.0</td>\n",
              "    </tr>\n",
              "  </tbody>\n",
              "</table>\n",
              "</div>"
            ],
            "text/plain": [
              "   isFraud  cvvNotSame  ...  posEM_new_90.0  posEM_new_nan\n",
              "0      0.0         0.0  ...             0.0            0.0\n",
              "1      0.0         0.0  ...             0.0            0.0\n",
              "2      0.0         0.0  ...             0.0            0.0\n",
              "3      0.0         0.0  ...             0.0            0.0\n",
              "4      0.0         0.0  ...             0.0            0.0\n",
              "\n",
              "[5 rows x 13 columns]"
            ]
          },
          "metadata": {
            "tags": []
          },
          "execution_count": 19
        }
      ]
    },
    {
      "cell_type": "code",
      "metadata": {
        "id": "vKa191T0dvwp"
      },
      "source": [
        "# train-test split\r\n",
        "X_train, X_test, y_train, y_test = train_test_split(df_final2.drop('isFraud', axis = 1),\r\n",
        "                                                    df_final2['isFraud'],\r\n",
        "                                                    stratify = df_final2['isFraud'],\r\n",
        "                                                    test_size = 0.2,\r\n",
        "                                                    random_state = 123)"
      ],
      "execution_count": 20,
      "outputs": []
    },
    {
      "cell_type": "code",
      "metadata": {
        "colab": {
          "base_uri": "https://localhost:8080/"
        },
        "id": "uMDtyMz1giWC",
        "outputId": "2b123ef7-c05a-4672-b479-730419988b31"
      },
      "source": [
        "# Apply the logistic model\r\n",
        "clf_lr = LogisticRegression(max_iter=500)\r\n",
        "clf_lr.fit(X_train, y_train)"
      ],
      "execution_count": 21,
      "outputs": [
        {
          "output_type": "execute_result",
          "data": {
            "text/plain": [
              "LogisticRegression(C=1.0, class_weight=None, dual=False, fit_intercept=True,\n",
              "                   intercept_scaling=1, l1_ratio=None, max_iter=500,\n",
              "                   multi_class='auto', n_jobs=None, penalty='l2',\n",
              "                   random_state=None, solver='lbfgs', tol=0.0001, verbose=0,\n",
              "                   warm_start=False)"
            ]
          },
          "metadata": {
            "tags": []
          },
          "execution_count": 21
        }
      ]
    },
    {
      "cell_type": "code",
      "metadata": {
        "id": "2mqMxyXEgiHy"
      },
      "source": [
        "# Replace the threshold\r\n",
        "y_pred_p = clf_lr.predict_proba(X_test)\r\n",
        "y_pred_lr = np.where(y_pred_p[:,1]> 0.016, 1,0)\r\n"
      ],
      "execution_count": 22,
      "outputs": []
    },
    {
      "cell_type": "code",
      "metadata": {
        "colab": {
          "base_uri": "https://localhost:8080/"
        },
        "id": "OaHBZcM7iiyS",
        "outputId": "ab18b8d2-c30a-4952-c6d6-011bb016b211"
      },
      "source": [
        "# Other metrics\r\n",
        "print(\"accuracy: \",metrics.accuracy_score(y_true = y_test, y_pred = y_pred_lr))\r\n",
        "print(\"precision: \",metrics.precision_score(y_true = y_test, y_pred = y_pred_lr))\r\n",
        "print(\"recall: \",metrics.recall_score(y_true = y_test, y_pred = y_pred_lr))\r\n",
        "print(\"confusion matrix: \",metrics.confusion_matrix(y_test, y_pred_lr))"
      ],
      "execution_count": 23,
      "outputs": [
        {
          "output_type": "stream",
          "text": [
            "accuracy:  0.6478289344006918\n",
            "precision:  0.030643386919337094\n",
            "recall:  0.6955296012887636\n",
            "confusion matrix:  [[100159  54631]\n",
            " [   756   1727]]\n"
          ],
          "name": "stdout"
        }
      ]
    },
    {
      "cell_type": "code",
      "metadata": {
        "colab": {
          "base_uri": "https://localhost:8080/",
          "height": 285
        },
        "id": "hsiHhCL1OGB_",
        "outputId": "317c1338-6ff2-45bd-84b4-73e96465ebae"
      },
      "source": [
        "# Plot roc\r\n",
        "metrics.plot_roc_curve(clf_lr, X_test, y_test)  \r\n",
        "plt.show()  "
      ],
      "execution_count": 24,
      "outputs": [
        {
          "output_type": "display_data",
          "data": {
            "image/png": "[encoded data removed]",
            "text/plain": [
              "<Figure size 432x288 with 1 Axes>"
            ]
          },
          "metadata": {
            "tags": [],
            "needs_background": "light"
          }
        }
      ]
    },
    {
      "cell_type": "markdown",
      "metadata": {
        "id": "k-gk4DqGhLxx"
      },
      "source": [
        "Compare 2 roc_auc results before and after scaling the dataframe, it can be concluded that scaling the dataframe increases the value of the metric. Therefore, I will use the scaling dataframe in the following modeling experiments."
      ]
    },
    {
      "cell_type": "markdown",
      "metadata": {
        "id": "-RDAk5HVzPqh"
      },
      "source": [
        "# 4.3 XGBoost"
      ]
    },
    {
      "cell_type": "code",
      "metadata": {
        "colab": {
          "base_uri": "https://localhost:8080/"
        },
        "id": "G_8Wa35IeUD8",
        "outputId": "c142baf9-a14f-4a27-f0cd-381a86199d76"
      },
      "source": [
        "# Fit the model\n",
        "xgb_clf = XGBClassifier(n_estimators=200, \n",
        "                        learning_rate=0.1,\n",
        "                        )\n",
        "xgb_clf.fit(X_train, y_train)"
      ],
      "execution_count": 25,
      "outputs": [
        {
          "output_type": "execute_result",
          "data": {
            "text/plain": [
              "XGBClassifier(base_score=0.5, booster='gbtree', colsample_bylevel=1,\n",
              "              colsample_bynode=1, colsample_bytree=1, gamma=0,\n",
              "              learning_rate=0.1, max_delta_step=0, max_depth=3,\n",
              "              min_child_weight=1, missing=None, n_estimators=200, n_jobs=1,\n",
              "              nthread=None, objective='binary:logistic', random_state=0,\n",
              "              reg_alpha=0, reg_lambda=1, scale_pos_weight=1, seed=None,\n",
              "              silent=None, subsample=1, verbosity=1)"
            ]
          },
          "metadata": {
            "tags": []
          },
          "execution_count": 25
        }
      ]
    },
    {
      "cell_type": "code",
      "metadata": {
        "id": "kVYT3vdofela"
      },
      "source": [
        "# Replace the threshold\n",
        "y_pred_xgb = xgb_clf.predict_proba(X_test)\n",
        "y_pred_xgb = np.where(y_pred_xgb[:,1]> 0.016, 1,0)"
      ],
      "execution_count": 26,
      "outputs": []
    },
    {
      "cell_type": "code",
      "metadata": {
        "colab": {
          "base_uri": "https://localhost:8080/"
        },
        "id": "RcGh3NY1isDf",
        "outputId": "9cc28b17-9ead-45b8-f6b5-8f4a627863bf"
      },
      "source": [
        "# Other metrics\r\n",
        "print(\"accuracy: \",metrics.accuracy_score(y_true = y_test, y_pred = y_pred_xgb))\r\n",
        "print(\"precision: \",metrics.precision_score(y_true = y_test, y_pred = y_pred_xgb))\r\n",
        "print(\"recall: \",metrics.recall_score(y_true = y_test, y_pred = y_pred_xgb))\r\n",
        "print(\"confusion matrix: \",metrics.confusion_matrix(y_test, y_pred_xgb))"
      ],
      "execution_count": 27,
      "outputs": [
        {
          "output_type": "stream",
          "text": [
            "accuracy:  0.7354663546826219\n",
            "precision:  0.03752216574063128\n",
            "recall:  0.6391461941200162\n",
            "confusion matrix:  [[114082  40708]\n",
            " [   896   1587]]\n"
          ],
          "name": "stdout"
        }
      ]
    },
    {
      "cell_type": "code",
      "metadata": {
        "colab": {
          "base_uri": "https://localhost:8080/",
          "height": 285
        },
        "id": "2nTq2eBNerPK",
        "outputId": "76ace92c-ccba-485d-870e-4ce1c8f415f8"
      },
      "source": [
        "# Plot roc\n",
        "metrics.plot_roc_curve(xgb_clf, X_test, y_test)  \n",
        "plt.show()  "
      ],
      "execution_count": 28,
      "outputs": [
        {
          "output_type": "display_data",
          "data": {
            "image/png": "[encoded data removed]",
            "text/plain": [
              "<Figure size 432x288 with 1 Axes>"
            ]
          },
          "metadata": {
            "tags": [],
            "needs_background": "light"
          }
        }
      ]
    },
    {
      "cell_type": "code",
      "metadata": {
        "id": "DKle3IG2UGzT",
        "colab": {
          "base_uri": "https://localhost:8080/"
        },
        "outputId": "51fd69f1-31ca-45cc-8fa5-1066abc23c45"
      },
      "source": [
        "# Grid search\r\n",
        "xgb_clf = XGBClassifier()\r\n",
        "\r\n",
        "xgb_param_grid = {'learning_rate': np.arange(0.05, 0.15, 0.05),\r\n",
        "                  'n_estimators': np.arange(200, 400, 100),\r\n",
        "                  }\r\n",
        "\r\n",
        "random_xgb = RandomizedSearchCV(estimator=xgb_clf, \r\n",
        "                                    param_distributions=xgb_param_grid,\r\n",
        "                                    n_iter=100, \r\n",
        "                                    scoring='roc_auc', \r\n",
        "                                    cv=2,\r\n",
        "                                    verbose=1,\r\n",
        "                                    n_jobs=-1\r\n",
        "                                    )\r\n",
        "random_xgb.fit(X_train, y_train)\r\n",
        "print(\"Best parameters found: \",random_xgb.best_params_)"
      ],
      "execution_count": 29,
      "outputs": [
        {
          "output_type": "stream",
          "text": [
            "Fitting 2 folds for each of 4 candidates, totalling 8 fits\n"
          ],
          "name": "stdout"
        },
        {
          "output_type": "stream",
          "text": [
            "/usr/local/lib/python3.6/dist-packages/sklearn/model_selection/_search.py:281: UserWarning: The total space of parameters 4 is smaller than n_iter=100. Running 4 iterations. For exhaustive searches, use GridSearchCV.\n",
            "  % (grid_size, self.n_iter, grid_size), UserWarning)\n",
            "[Parallel(n_jobs=-1)]: Using backend LokyBackend with 2 concurrent workers.\n",
            "[Parallel(n_jobs=-1)]: Done   8 out of   8 | elapsed:  5.4min finished\n"
          ],
          "name": "stderr"
        },
        {
          "output_type": "stream",
          "text": [
            "Best parameters found:  {'n_estimators': 200, 'learning_rate': 0.05}\n"
          ],
          "name": "stdout"
        }
      ]
    },
    {
      "cell_type": "code",
      "metadata": {
        "colab": {
          "base_uri": "https://localhost:8080/",
          "height": 285
        },
        "id": "7PHA5EFdYbJp",
        "outputId": "b4324934-1cb1-42b7-bef9-0e493558e670"
      },
      "source": [
        "# Use the best parameter to calculate roc_auc\n",
        "xgb_clf = XGBClassifier(n_estimators=200, \n",
        "                        learning_rate=0.05,\n",
        "                        )\n",
        "xgb_clf.fit(X_train, y_train)\n",
        "\n",
        "metrics.plot_roc_curve(xgb_clf, X_test, y_test)  \n",
        "plt.show() "
      ],
      "execution_count": 30,
      "outputs": [
        {
          "output_type": "display_data",
          "data": {
            "image/png": "[encoded data removed]",
            "text/plain": [
              "<Figure size 432x288 with 1 Axes>"
            ]
          },
          "metadata": {
            "tags": [],
            "needs_background": "light"
          }
        }
      ]
    },
    {
      "cell_type": "markdown",
      "metadata": {
        "id": "4W8lMxFL2bNO"
      },
      "source": [
        "## 4.4 LightGBM"
      ]
    },
    {
      "cell_type": "code",
      "metadata": {
        "colab": {
          "base_uri": "https://localhost:8080/"
        },
        "id": "GCa-dQ56fuRY",
        "outputId": "ad98aefd-46c7-4f81-c7a3-0f3b385288e1"
      },
      "source": [
        "# Fit the model\n",
        "lgb_clf = LGBMClassifier(n_estimators = 200, \n",
        "                         max_depth=10,\n",
        "                         learning_rate = 0.1\n",
        "                         )\n",
        "lgb_clf.fit(X_train, y_train)"
      ],
      "execution_count": 31,
      "outputs": [
        {
          "output_type": "execute_result",
          "data": {
            "text/plain": [
              "LGBMClassifier(boosting_type='gbdt', class_weight=None, colsample_bytree=1.0,\n",
              "               importance_type='split', learning_rate=0.1, max_depth=10,\n",
              "               min_child_samples=20, min_child_weight=0.001, min_split_gain=0.0,\n",
              "               n_estimators=200, n_jobs=-1, num_leaves=31, objective=None,\n",
              "               random_state=None, reg_alpha=0.0, reg_lambda=0.0, silent=True,\n",
              "               subsample=1.0, subsample_for_bin=200000, subsample_freq=0)"
            ]
          },
          "metadata": {
            "tags": []
          },
          "execution_count": 31
        }
      ]
    },
    {
      "cell_type": "code",
      "metadata": {
        "id": "5gOPI-xf1YgT"
      },
      "source": [
        "# Replace the threshold\r\n",
        "y_pred_lgb = lgb_clf.predict_proba(X_test)\r\n",
        "y_pred_lgb = np.where(y_pred_lgb[:,1]> 0.016, 1,0)"
      ],
      "execution_count": 32,
      "outputs": []
    },
    {
      "cell_type": "code",
      "metadata": {
        "colab": {
          "base_uri": "https://localhost:8080/"
        },
        "id": "v3Ug8x5ejGNn",
        "outputId": "0564ee1e-038b-427b-92f6-5640474908af"
      },
      "source": [
        "# Other metrics\r\n",
        "print(\"accuracy: \",metrics.accuracy_score(y_true = y_test, y_pred = y_pred_lgb))\r\n",
        "print(\"precision: \",metrics.precision_score(y_true = y_test, y_pred = y_pred_lgb))\r\n",
        "print(\"recall: \",metrics.recall_score(y_true = y_test, y_pred = y_pred_lgb))\r\n",
        "print(\"confusion matrix: \",metrics.confusion_matrix(y_test, y_pred_lgb))"
      ],
      "execution_count": 33,
      "outputs": [
        {
          "output_type": "stream",
          "text": [
            "accuracy:  0.707743859403712\n",
            "precision:  0.03471375066880685\n",
            "recall:  0.653242045912203\n",
            "confusion matrix:  [[109687  45103]\n",
            " [   861   1622]]\n"
          ],
          "name": "stdout"
        }
      ]
    },
    {
      "cell_type": "code",
      "metadata": {
        "colab": {
          "base_uri": "https://localhost:8080/",
          "height": 285
        },
        "id": "85Tmrx2sgM3a",
        "outputId": "6d31d181-3aa6-4a3c-a880-a3f2cea0538d"
      },
      "source": [
        "# Plot roc_auc\n",
        "lr_probs = lgb_clf.predict_proba(X_test)\n",
        "\n",
        "metrics.plot_roc_curve(lgb_clf, X_test, y_test)  \n",
        "plt.show()  "
      ],
      "execution_count": 34,
      "outputs": [
        {
          "output_type": "display_data",
          "data": {
            "image/png": "[encoded data removed]",
            "text/plain": [
              "<Figure size 432x288 with 1 Axes>"
            ]
          },
          "metadata": {
            "tags": [],
            "needs_background": "light"
          }
        }
      ]
    },
    {
      "cell_type": "code",
      "metadata": {
        "colab": {
          "base_uri": "https://localhost:8080/"
        },
        "id": "s-D_IG-kTJWI",
        "outputId": "cfe2f42e-78eb-4665-f604-d4d861908648"
      },
      "source": [
        "# Grid search\r\n",
        "lgb_clf = LGBMClassifier()\r\n",
        "\r\n",
        "lgb_param_grid = {'learning_rate': np.arange(0.05, 0.15, 0.05),\r\n",
        "                  'n_estimators': np.arange(200, 600, 200),\r\n",
        "                  'max_depth': [5,10]\r\n",
        "                  }\r\n",
        "\r\n",
        "random_lgb = RandomizedSearchCV(estimator=lgb_clf, \r\n",
        "                                    param_distributions=lgb_param_grid,\r\n",
        "                                    n_iter=100, \r\n",
        "                                    scoring='roc_auc', \r\n",
        "                                    cv=2, \r\n",
        "                                    verbose=1,\r\n",
        "                                    n_jobs=-1\r\n",
        "                                    )\r\n",
        "random_lgb.fit(X_train, y_train)\r\n",
        "print(\"Best parameters found: \",random_lgb.best_params_)"
      ],
      "execution_count": 35,
      "outputs": [
        {
          "output_type": "stream",
          "text": [
            "/usr/local/lib/python3.6/dist-packages/sklearn/model_selection/_search.py:281: UserWarning: The total space of parameters 8 is smaller than n_iter=100. Running 8 iterations. For exhaustive searches, use GridSearchCV.\n",
            "  % (grid_size, self.n_iter, grid_size), UserWarning)\n",
            "[Parallel(n_jobs=-1)]: Using backend LokyBackend with 2 concurrent workers.\n"
          ],
          "name": "stderr"
        },
        {
          "output_type": "stream",
          "text": [
            "Fitting 2 folds for each of 8 candidates, totalling 16 fits\n"
          ],
          "name": "stdout"
        },
        {
          "output_type": "stream",
          "text": [
            "[Parallel(n_jobs=-1)]: Done  16 out of  16 | elapsed:  2.5min finished\n"
          ],
          "name": "stderr"
        },
        {
          "output_type": "stream",
          "text": [
            "Best parameters found:  {'n_estimators': 200, 'max_depth': 10, 'learning_rate': 0.05}\n"
          ],
          "name": "stdout"
        }
      ]
    },
    {
      "cell_type": "code",
      "metadata": {
        "colab": {
          "base_uri": "https://localhost:8080/",
          "height": 285
        },
        "id": "HXJj4HKra-zP",
        "outputId": "465aa688-488f-4aa6-d369-2da8a7aac879"
      },
      "source": [
        "# Use the best parameter to caculate roc_auc\r\n",
        "lgb_clf = LGBMClassifier(n_estimators = 200, \r\n",
        "                         max_depth=10,\r\n",
        "                         learning_rate = 0.05\r\n",
        "                         )\r\n",
        "lgb_clf.fit(X_train, y_train)\r\n",
        "\r\n",
        "# Plot roc_auc\r\n",
        "metrics.plot_roc_curve(lgb_clf, X_test, y_test)  \r\n",
        "plt.show()  "
      ],
      "execution_count": 36,
      "outputs": [
        {
          "output_type": "display_data",
          "data": {
            "image/png": "[encoded data removed]",
            "text/plain": [
              "<Figure size 432x288 with 1 Axes>"
            ]
          },
          "metadata": {
            "tags": [],
            "needs_background": "light"
          }
        }
      ]
    },
    {
      "cell_type": "code",
      "metadata": {
        "colab": {
          "base_uri": "https://localhost:8080/",
          "height": 318
        },
        "id": "kKL__QyZhpzl",
        "outputId": "3fb2d49b-05bc-42ca-ce77-7b06576fe1d4"
      },
      "source": [
        "plot_importance(lgb_clf)"
      ],
      "execution_count": 37,
      "outputs": [
        {
          "output_type": "execute_result",
          "data": {
            "text/plain": [
              "<matplotlib.axes._subplots.AxesSubplot at 0x7f60e1ff5240>"
            ]
          },
          "metadata": {
            "tags": []
          },
          "execution_count": 37
        },
        {
          "output_type": "display_data",
          "data": {
            "image/png": "[encoded data removed]",
            "text/plain": [
              "<Figure size 432x288 with 1 Axes>"
            ]
          },
          "metadata": {
            "tags": [],
            "needs_background": "light"
          }
        }
      ]
    },
    {
      "cell_type": "markdown",
      "metadata": {
        "id": "FRBXgHOvlE2D"
      },
      "source": [
        "In this feature combination, XGBoost and LightGBM both achieved 0.74 for the roc_auc, outperforming Logistic regression."
      ]
    }
  ]
}
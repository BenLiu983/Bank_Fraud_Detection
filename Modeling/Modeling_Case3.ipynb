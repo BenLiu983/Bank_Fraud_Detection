{
  "nbformat": 4,
  "nbformat_minor": 0,
  "metadata": {
    "colab": {
      "name": "Bank_Project_Ben_modeling3_scale.ipynb",
      "provenance": [],
      "collapsed_sections": [
        "YEViIHMgs0L_",
        "YTKtIcUQi1Lc"
      ]
    },
    "kernelspec": {
      "display_name": "Python 3",
      "name": "python3"
    }
  },
  "cells": [
    {
      "cell_type": "markdown",
      "metadata": {
        "id": "hcy7u7msC7_P"
      },
      "source": [
        "# Fraud detection using credit card transcation data"
      ]
    },
    {
      "cell_type": "markdown",
      "metadata": {
        "id": "5PF6i3VYYtGv"
      },
      "source": [
        "## 1. Load the data\n",
        "\n"
      ]
    },
    {
      "cell_type": "code",
      "metadata": {
        "id": "QcR1N7GUDKom"
      },
      "source": [
        "import pandas as pd\n",
        "import numpy as np\n",
        "import seaborn as sns\n",
        "from sklearn.neighbors import KNeighborsClassifier\n",
        "from sklearn.ensemble import RandomForestClassifier\n",
        "from sklearn.linear_model import LogisticRegression\n",
        "from sklearn.ensemble import BaggingClassifier\n",
        "from sklearn.tree import DecisionTreeClassifier\n",
        "from sklearn.ensemble import GradientBoostingClassifier\n",
        "from sklearn.model_selection import cross_validate\n",
        "from sklearn.model_selection import cross_val_score\n",
        "from sklearn.model_selection import RandomizedSearchCV\n",
        "from sklearn.metrics import roc_curve, roc_auc_score\n",
        "from sklearn.preprocessing import MinMaxScaler\n",
        "from xgboost import XGBClassifier\n",
        "from lightgbm import LGBMClassifier\n",
        "from lightgbm import plot_importance\n",
        "from sklearn.svm import SVC\n",
        "from sklearn.model_selection import train_test_split\n",
        "from sklearn import metrics\n",
        "import matplotlib.pyplot as plt\n",
        "sns.set(rc={'figure.figsize':(10,6)})"
      ],
      "execution_count": 1,
      "outputs": []
    },
    {
      "cell_type": "code",
      "metadata": {
        "id": "hImq9AU8DA05"
      },
      "source": [
        "df = pd.read_csv('/content/drive/MyDrive/Colab Notebooks/creditcard.csv')"
      ],
      "execution_count": 2,
      "outputs": []
    },
    {
      "cell_type": "markdown",
      "metadata": {
        "id": "YEViIHMgs0L_"
      },
      "source": [
        "## 2 EDA (preivous file)"
      ]
    },
    {
      "cell_type": "markdown",
      "metadata": {
        "id": "YTKtIcUQi1Lc"
      },
      "source": [
        "## 3. Feature Engineering (Case 3)\r\n",
        "\r\n"
      ]
    },
    {
      "cell_type": "code",
      "metadata": {
        "colab": {
          "base_uri": "https://localhost:8080/",
          "height": 224
        },
        "id": "OGN2h4A1z5TF",
        "outputId": "99e5c53a-773f-47b0-ecf5-3b881598aab8"
      },
      "source": [
        "## 3.1 posEntryMode\r\n",
        "df['posEM_new'] = np.where(df['posEntryMode'] == '', '999',df['posEntryMode'])\r\n",
        "\r\n",
        "## 3.2 transactionAmount and creditLimit\r\n",
        "df['amountOver'] = np.where(df['transactionAmount'] > df['creditLimit'], 1, 0)\r\n",
        "\r\n",
        "## 3.3 cardCVV and enteredCVV\r\n",
        "df['cvvNotSame'] =  np.where(df['cardCVV'] != df['enteredCVV'], 1, 0)\r\n",
        "\r\n",
        "## 3.4 DateTime\r\n",
        "df['transactionDateTime'] = pd.to_datetime(df['transactionDateTime'])\r\n",
        "df['hour'] = df['transactionDateTime'].dt.hour\r\n",
        "\r\n",
        "##3.5 Create a new dataframe\r\n",
        "df1 = df[['isFraud','cvvNotSame','amountOver', 'posEM_new', 'hour', 'transactionAmount', 'availableMoney', 'cardPresent', 'transactionType']]\r\n",
        "df1 = pd.get_dummies(columns=['posEM_new'], data = df1)\r\n",
        "df1 = pd.get_dummies(columns=['transactionType'], data = df1)\r\n",
        "df_final = df1.dropna()\r\n",
        "df_final.head()"
      ],
      "execution_count": 3,
      "outputs": [
        {
          "output_type": "execute_result",
          "data": {
            "text/html": [
              "<div>\n",
              "<style scoped>\n",
              "    .dataframe tbody tr th:only-of-type {\n",
              "        vertical-align: middle;\n",
              "    }\n",
              "\n",
              "    .dataframe tbody tr th {\n",
              "        vertical-align: top;\n",
              "    }\n",
              "\n",
              "    .dataframe thead th {\n",
              "        text-align: right;\n",
              "    }\n",
              "</style>\n",
              "<table border=\"1\" class=\"dataframe\">\n",
              "  <thead>\n",
              "    <tr style=\"text-align: right;\">\n",
              "      <th></th>\n",
              "      <th>isFraud</th>\n",
              "      <th>cvvNotSame</th>\n",
              "      <th>amountOver</th>\n",
              "      <th>hour</th>\n",
              "      <th>transactionAmount</th>\n",
              "      <th>availableMoney</th>\n",
              "      <th>cardPresent</th>\n",
              "      <th>posEM_new_2.0</th>\n",
              "      <th>posEM_new_5.0</th>\n",
              "      <th>posEM_new_80.0</th>\n",
              "      <th>posEM_new_9.0</th>\n",
              "      <th>posEM_new_90.0</th>\n",
              "      <th>posEM_new_nan</th>\n",
              "      <th>transactionType_ADDRESS_VERIFICATION</th>\n",
              "      <th>transactionType_PURCHASE</th>\n",
              "      <th>transactionType_REVERSAL</th>\n",
              "    </tr>\n",
              "  </thead>\n",
              "  <tbody>\n",
              "    <tr>\n",
              "      <th>0</th>\n",
              "      <td>False</td>\n",
              "      <td>0</td>\n",
              "      <td>0</td>\n",
              "      <td>14</td>\n",
              "      <td>98.55</td>\n",
              "      <td>5000.0</td>\n",
              "      <td>False</td>\n",
              "      <td>1</td>\n",
              "      <td>0</td>\n",
              "      <td>0</td>\n",
              "      <td>0</td>\n",
              "      <td>0</td>\n",
              "      <td>0</td>\n",
              "      <td>0</td>\n",
              "      <td>1</td>\n",
              "      <td>0</td>\n",
              "    </tr>\n",
              "    <tr>\n",
              "      <th>1</th>\n",
              "      <td>False</td>\n",
              "      <td>0</td>\n",
              "      <td>0</td>\n",
              "      <td>5</td>\n",
              "      <td>74.51</td>\n",
              "      <td>5000.0</td>\n",
              "      <td>True</td>\n",
              "      <td>0</td>\n",
              "      <td>0</td>\n",
              "      <td>0</td>\n",
              "      <td>1</td>\n",
              "      <td>0</td>\n",
              "      <td>0</td>\n",
              "      <td>0</td>\n",
              "      <td>1</td>\n",
              "      <td>0</td>\n",
              "    </tr>\n",
              "    <tr>\n",
              "      <th>2</th>\n",
              "      <td>False</td>\n",
              "      <td>0</td>\n",
              "      <td>0</td>\n",
              "      <td>9</td>\n",
              "      <td>7.47</td>\n",
              "      <td>5000.0</td>\n",
              "      <td>False</td>\n",
              "      <td>0</td>\n",
              "      <td>0</td>\n",
              "      <td>0</td>\n",
              "      <td>1</td>\n",
              "      <td>0</td>\n",
              "      <td>0</td>\n",
              "      <td>0</td>\n",
              "      <td>1</td>\n",
              "      <td>0</td>\n",
              "    </tr>\n",
              "    <tr>\n",
              "      <th>3</th>\n",
              "      <td>False</td>\n",
              "      <td>0</td>\n",
              "      <td>0</td>\n",
              "      <td>2</td>\n",
              "      <td>7.47</td>\n",
              "      <td>5000.0</td>\n",
              "      <td>False</td>\n",
              "      <td>0</td>\n",
              "      <td>0</td>\n",
              "      <td>0</td>\n",
              "      <td>1</td>\n",
              "      <td>0</td>\n",
              "      <td>0</td>\n",
              "      <td>0</td>\n",
              "      <td>1</td>\n",
              "      <td>0</td>\n",
              "    </tr>\n",
              "    <tr>\n",
              "      <th>4</th>\n",
              "      <td>False</td>\n",
              "      <td>0</td>\n",
              "      <td>0</td>\n",
              "      <td>21</td>\n",
              "      <td>71.18</td>\n",
              "      <td>5000.0</td>\n",
              "      <td>True</td>\n",
              "      <td>1</td>\n",
              "      <td>0</td>\n",
              "      <td>0</td>\n",
              "      <td>0</td>\n",
              "      <td>0</td>\n",
              "      <td>0</td>\n",
              "      <td>0</td>\n",
              "      <td>1</td>\n",
              "      <td>0</td>\n",
              "    </tr>\n",
              "  </tbody>\n",
              "</table>\n",
              "</div>"
            ],
            "text/plain": [
              "   isFraud  cvvNotSame  ...  transactionType_PURCHASE  transactionType_REVERSAL\n",
              "0    False           0  ...                         1                         0\n",
              "1    False           0  ...                         1                         0\n",
              "2    False           0  ...                         1                         0\n",
              "3    False           0  ...                         1                         0\n",
              "4    False           0  ...                         1                         0\n",
              "\n",
              "[5 rows x 16 columns]"
            ]
          },
          "metadata": {
            "tags": []
          },
          "execution_count": 3
        }
      ]
    },
    {
      "cell_type": "markdown",
      "metadata": {
        "id": "X4cX_5tAxwWY"
      },
      "source": [
        "## 4 Modeling"
      ]
    },
    {
      "cell_type": "markdown",
      "metadata": {
        "id": "dJDpKajGE6tX"
      },
      "source": [
        "For this fraud detection task, I will use ROC_AUC as the primary metric."
      ]
    },
    {
      "cell_type": "markdown",
      "metadata": {
        "id": "8-TppK4YyeYD"
      },
      "source": [
        "## 4.1 Train-Test split"
      ]
    },
    {
      "cell_type": "code",
      "metadata": {
        "id": "WgeP55czUXQk"
      },
      "source": [
        "X_train, X_test, y_train, y_test = train_test_split(df_final.drop('isFraud', axis = 1),\n",
        "                                                    df_final['isFraud'],\n",
        "                                                    stratify = df_final['isFraud'],\n",
        "                                                    test_size = 0.2,\n",
        "                                                    random_state = 123)"
      ],
      "execution_count": 4,
      "outputs": []
    },
    {
      "cell_type": "code",
      "metadata": {
        "colab": {
          "base_uri": "https://localhost:8080/"
        },
        "id": "jSgmnlhpU-JW",
        "outputId": "80360527-fb3c-45d5-d4cb-499e16170cee"
      },
      "source": [
        "print(X_train.shape)\r\n",
        "print(X_test.shape)"
      ],
      "execution_count": 5,
      "outputs": [
        {
          "output_type": "stream",
          "text": [
            "(629090, 15)\n",
            "(157273, 15)\n"
          ],
          "name": "stdout"
        }
      ]
    },
    {
      "cell_type": "code",
      "metadata": {
        "colab": {
          "base_uri": "https://localhost:8080/"
        },
        "id": "uxqw40SzVFtm",
        "outputId": "e507d309-b7e0-43dd-95b2-9e24d9cd1efc"
      },
      "source": [
        "print(y_train.mean())\r\n",
        "print(y_test.mean())"
      ],
      "execution_count": 6,
      "outputs": [
        {
          "output_type": "stream",
          "text": [
            "0.015791063281883354\n",
            "0.015787833893929664\n"
          ],
          "name": "stdout"
        }
      ]
    },
    {
      "cell_type": "markdown",
      "metadata": {
        "id": "oi55EhEXx0BN"
      },
      "source": [
        "## 4.2 Model1 - Logistics regression"
      ]
    },
    {
      "cell_type": "code",
      "metadata": {
        "colab": {
          "base_uri": "https://localhost:8080/"
        },
        "id": "jCPmPNJXVVs2",
        "outputId": "37a66bc5-df5b-47d5-c819-7215eef1a419"
      },
      "source": [
        "clf_lr = LogisticRegression(max_iter=500)\n",
        "clf_lr.fit(X_train, y_train)"
      ],
      "execution_count": 7,
      "outputs": [
        {
          "output_type": "execute_result",
          "data": {
            "text/plain": [
              "LogisticRegression(C=1.0, class_weight=None, dual=False, fit_intercept=True,\n",
              "                   intercept_scaling=1, l1_ratio=None, max_iter=500,\n",
              "                   multi_class='auto', n_jobs=None, penalty='l2',\n",
              "                   random_state=None, solver='lbfgs', tol=0.0001, verbose=0,\n",
              "                   warm_start=False)"
            ]
          },
          "metadata": {
            "tags": []
          },
          "execution_count": 7
        }
      ]
    },
    {
      "cell_type": "code",
      "metadata": {
        "colab": {
          "base_uri": "https://localhost:8080/"
        },
        "id": "CTBnZyX4jGHA",
        "outputId": "cc720326-a8e1-47ee-aaba-f97bcfcb452c"
      },
      "source": [
        "# 5-fold cross validation\r\n",
        "cross_val_score(clf_lr, X_train, y_train, scoring = \"roc_auc\", cv = 5)"
      ],
      "execution_count": 8,
      "outputs": [
        {
          "output_type": "execute_result",
          "data": {
            "text/plain": [
              "array([0.70442734, 0.69757369, 0.68259224, 0.70986962, 0.72341228])"
            ]
          },
          "metadata": {
            "tags": []
          },
          "execution_count": 8
        }
      ]
    },
    {
      "cell_type": "code",
      "metadata": {
        "colab": {
          "base_uri": "https://localhost:8080/"
        },
        "id": "1nWs3mRrY7MH",
        "outputId": "8db7dc1c-e0b5-4489-a961-012488231712"
      },
      "source": [
        "# Other metrics\r\n",
        "y_pred_lr = clf_lr.predict(X_test)\r\n",
        "print(\"accuracy: \",metrics.accuracy_score(y_true = y_test, y_pred = y_pred_lr))\r\n",
        "print(\"precision: \",metrics.precision_score(y_true = y_test, y_pred = y_pred_lr))\r\n",
        "print(\"recall: \",metrics.recall_score(y_true = y_test, y_pred = y_pred_lr))\r\n",
        "print(\"confusion matrix: \",metrics.confusion_matrix(y_test, y_pred_lr))"
      ],
      "execution_count": 9,
      "outputs": [
        {
          "output_type": "stream",
          "text": [
            "accuracy:  0.9842058077355935\n",
            "precision:  0.0\n",
            "recall:  0.0\n",
            "confusion matrix:  [[154789      1]\n",
            " [  2483      0]]\n"
          ],
          "name": "stdout"
        }
      ]
    },
    {
      "cell_type": "code",
      "metadata": {
        "colab": {
          "base_uri": "https://localhost:8080/"
        },
        "id": "5eJGjIsiZqcb",
        "outputId": "57ad0a8b-7245-4131-a0c3-6ff03dd5f74f"
      },
      "source": [
        "y_pred_p = clf_lr.predict_proba(X_test)\r\n",
        "y_pred_p[0:10]"
      ],
      "execution_count": 10,
      "outputs": [
        {
          "output_type": "execute_result",
          "data": {
            "text/plain": [
              "array([[0.99145119, 0.00854881],\n",
              "       [0.98965944, 0.01034056],\n",
              "       [0.99397077, 0.00602923],\n",
              "       [0.98345956, 0.01654044],\n",
              "       [0.99581172, 0.00418828],\n",
              "       [0.99703376, 0.00296624],\n",
              "       [0.99397353, 0.00602647],\n",
              "       [0.9909292 , 0.0090708 ],\n",
              "       [0.99258295, 0.00741705],\n",
              "       [0.98970201, 0.01029799]])"
            ]
          },
          "metadata": {
            "tags": []
          },
          "execution_count": 10
        }
      ]
    },
    {
      "cell_type": "code",
      "metadata": {
        "colab": {
          "base_uri": "https://localhost:8080/"
        },
        "id": "AoAVOFXdaSAA",
        "outputId": "cd2d28fc-b1a3-4f5b-9cd9-a7bf8fd499b1"
      },
      "source": [
        "# Replace the threshold with the percentage of the fraud transactions in the dataset\r\n",
        "y_pred_lr = np.where(y_pred_p[:,1]> 0.016, 1,0)\r\n",
        "print(\"accuracy: \",metrics.accuracy_score(y_true = y_test, y_pred = y_pred_lr))\r\n",
        "print(\"precision: \",metrics.precision_score(y_true = y_test, y_pred = y_pred_lr))\r\n",
        "print(\"recall: \",metrics.recall_score(y_true = y_test, y_pred = y_pred_lr))\r\n",
        "print(\"confusion matrix: \",metrics.confusion_matrix(y_test, y_pred_lr))"
      ],
      "execution_count": 11,
      "outputs": [
        {
          "output_type": "stream",
          "text": [
            "accuracy:  0.6171116466272024\n",
            "precision:  0.02845521815122756\n",
            "recall:  0.7015706806282722\n",
            "confusion matrix:  [[95313 59477]\n",
            " [  741  1742]]\n"
          ],
          "name": "stdout"
        }
      ]
    },
    {
      "cell_type": "code",
      "metadata": {
        "colab": {
          "base_uri": "https://localhost:8080/",
          "height": 302
        },
        "id": "LIusAL7NbBYG",
        "outputId": "611a0dc6-4c0a-4de1-ce45-27b266adef7b"
      },
      "source": [
        "# Plot roc_auc\n",
        "lr_probs = clf_lr.predict_proba(X_test)\n",
        " \n",
        "# Keep probabilities for the positive outcome only\n",
        "lr_probs = lr_probs[:, 1]\n",
        " \n",
        "# Calculate scores area under curve\n",
        "lr_auc = roc_auc_score(y_test,lr_probs)\n",
        " \n",
        "# summarize scores\n",
        "print('Logistic: ROC AUC=%.3f' % (lr_auc))\n",
        " \n",
        "# calculate the roc curve\n",
        "fpr, tpr, thresholds = roc_curve(y_test,lr_probs)\n",
        " \n",
        "# plot the roc curve for the model\n",
        "plt.plot([0, 1], [0, 1], 'k--',label='Random Predictor')  # draw diag\n",
        "plt.plot(fpr, tpr, marker='.', color='darkorange',label='Logistic') # draw ROC\n",
        "# axis labels\n",
        "plt.xlabel('False Positive Rate')\n",
        "plt.ylabel('True Positive Rate')\n",
        "# show the legend\n",
        "plt.legend()\n",
        "# show the plot\n",
        "plt.show()"
      ],
      "execution_count": 12,
      "outputs": [
        {
          "output_type": "stream",
          "text": [
            "Logistic: ROC AUC=0.721\n"
          ],
          "name": "stdout"
        },
        {
          "output_type": "display_data",
          "data": {
            "image/png": "[encoded data removed]",
            "text/plain": [
              "<Figure size 432x288 with 1 Axes>"
            ]
          },
          "metadata": {
            "tags": [],
            "needs_background": "light"
          }
        }
      ]
    },
    {
      "cell_type": "markdown",
      "metadata": {
        "id": "hmXsGHVYN4Bg"
      },
      "source": [
        "I will use 0.721 as the base."
      ]
    },
    {
      "cell_type": "markdown",
      "metadata": {
        "id": "Q_zNhLNHd2hY"
      },
      "source": [
        "## 4.2.1  Model1 - Logistics regression (scaling)"
      ]
    },
    {
      "cell_type": "code",
      "metadata": {
        "colab": {
          "base_uri": "https://localhost:8080/",
          "height": 224
        },
        "id": "9sUiDAeBWe4q",
        "outputId": "5a87c992-3c5f-4250-e556-a1194e6ab5ee"
      },
      "source": [
        "# Scale the dataframe\r\n",
        "min_max_scaler = MinMaxScaler()\r\n",
        "df_final_scaled = min_max_scaler.fit_transform(df_final.values)\r\n",
        "df_final2 = pd.DataFrame(df_final_scaled)\r\n",
        "df_final2.columns = df_final.columns\r\n",
        "df_final2.head()"
      ],
      "execution_count": 13,
      "outputs": [
        {
          "output_type": "execute_result",
          "data": {
            "text/html": [
              "<div>\n",
              "<style scoped>\n",
              "    .dataframe tbody tr th:only-of-type {\n",
              "        vertical-align: middle;\n",
              "    }\n",
              "\n",
              "    .dataframe tbody tr th {\n",
              "        vertical-align: top;\n",
              "    }\n",
              "\n",
              "    .dataframe thead th {\n",
              "        text-align: right;\n",
              "    }\n",
              "</style>\n",
              "<table border=\"1\" class=\"dataframe\">\n",
              "  <thead>\n",
              "    <tr style=\"text-align: right;\">\n",
              "      <th></th>\n",
              "      <th>isFraud</th>\n",
              "      <th>cvvNotSame</th>\n",
              "      <th>amountOver</th>\n",
              "      <th>hour</th>\n",
              "      <th>transactionAmount</th>\n",
              "      <th>availableMoney</th>\n",
              "      <th>cardPresent</th>\n",
              "      <th>posEM_new_2.0</th>\n",
              "      <th>posEM_new_5.0</th>\n",
              "      <th>posEM_new_80.0</th>\n",
              "      <th>posEM_new_9.0</th>\n",
              "      <th>posEM_new_90.0</th>\n",
              "      <th>posEM_new_nan</th>\n",
              "      <th>transactionType_ADDRESS_VERIFICATION</th>\n",
              "      <th>transactionType_PURCHASE</th>\n",
              "      <th>transactionType_REVERSAL</th>\n",
              "    </tr>\n",
              "  </thead>\n",
              "  <tbody>\n",
              "    <tr>\n",
              "      <th>0</th>\n",
              "      <td>0.0</td>\n",
              "      <td>0.0</td>\n",
              "      <td>0.0</td>\n",
              "      <td>0.608696</td>\n",
              "      <td>0.048992</td>\n",
              "      <td>0.117744</td>\n",
              "      <td>0.0</td>\n",
              "      <td>1.0</td>\n",
              "      <td>0.0</td>\n",
              "      <td>0.0</td>\n",
              "      <td>0.0</td>\n",
              "      <td>0.0</td>\n",
              "      <td>0.0</td>\n",
              "      <td>0.0</td>\n",
              "      <td>1.0</td>\n",
              "      <td>0.0</td>\n",
              "    </tr>\n",
              "    <tr>\n",
              "      <th>1</th>\n",
              "      <td>0.0</td>\n",
              "      <td>0.0</td>\n",
              "      <td>0.0</td>\n",
              "      <td>0.217391</td>\n",
              "      <td>0.037041</td>\n",
              "      <td>0.117744</td>\n",
              "      <td>1.0</td>\n",
              "      <td>0.0</td>\n",
              "      <td>0.0</td>\n",
              "      <td>0.0</td>\n",
              "      <td>1.0</td>\n",
              "      <td>0.0</td>\n",
              "      <td>0.0</td>\n",
              "      <td>0.0</td>\n",
              "      <td>1.0</td>\n",
              "      <td>0.0</td>\n",
              "    </tr>\n",
              "    <tr>\n",
              "      <th>2</th>\n",
              "      <td>0.0</td>\n",
              "      <td>0.0</td>\n",
              "      <td>0.0</td>\n",
              "      <td>0.391304</td>\n",
              "      <td>0.003714</td>\n",
              "      <td>0.117744</td>\n",
              "      <td>0.0</td>\n",
              "      <td>0.0</td>\n",
              "      <td>0.0</td>\n",
              "      <td>0.0</td>\n",
              "      <td>1.0</td>\n",
              "      <td>0.0</td>\n",
              "      <td>0.0</td>\n",
              "      <td>0.0</td>\n",
              "      <td>1.0</td>\n",
              "      <td>0.0</td>\n",
              "    </tr>\n",
              "    <tr>\n",
              "      <th>3</th>\n",
              "      <td>0.0</td>\n",
              "      <td>0.0</td>\n",
              "      <td>0.0</td>\n",
              "      <td>0.086957</td>\n",
              "      <td>0.003714</td>\n",
              "      <td>0.117744</td>\n",
              "      <td>0.0</td>\n",
              "      <td>0.0</td>\n",
              "      <td>0.0</td>\n",
              "      <td>0.0</td>\n",
              "      <td>1.0</td>\n",
              "      <td>0.0</td>\n",
              "      <td>0.0</td>\n",
              "      <td>0.0</td>\n",
              "      <td>1.0</td>\n",
              "      <td>0.0</td>\n",
              "    </tr>\n",
              "    <tr>\n",
              "      <th>4</th>\n",
              "      <td>0.0</td>\n",
              "      <td>0.0</td>\n",
              "      <td>0.0</td>\n",
              "      <td>0.913043</td>\n",
              "      <td>0.035386</td>\n",
              "      <td>0.117744</td>\n",
              "      <td>1.0</td>\n",
              "      <td>1.0</td>\n",
              "      <td>0.0</td>\n",
              "      <td>0.0</td>\n",
              "      <td>0.0</td>\n",
              "      <td>0.0</td>\n",
              "      <td>0.0</td>\n",
              "      <td>0.0</td>\n",
              "      <td>1.0</td>\n",
              "      <td>0.0</td>\n",
              "    </tr>\n",
              "  </tbody>\n",
              "</table>\n",
              "</div>"
            ],
            "text/plain": [
              "   isFraud  cvvNotSame  ...  transactionType_PURCHASE  transactionType_REVERSAL\n",
              "0      0.0         0.0  ...                       1.0                       0.0\n",
              "1      0.0         0.0  ...                       1.0                       0.0\n",
              "2      0.0         0.0  ...                       1.0                       0.0\n",
              "3      0.0         0.0  ...                       1.0                       0.0\n",
              "4      0.0         0.0  ...                       1.0                       0.0\n",
              "\n",
              "[5 rows x 16 columns]"
            ]
          },
          "metadata": {
            "tags": []
          },
          "execution_count": 13
        }
      ]
    },
    {
      "cell_type": "code",
      "metadata": {
        "id": "vKa191T0dvwp"
      },
      "source": [
        "# train-test split\r\n",
        "X_train, X_test, y_train, y_test = train_test_split(df_final2.drop('isFraud', axis = 1),\r\n",
        "                                                    df_final2['isFraud'],\r\n",
        "                                                    stratify = df_final2['isFraud'],\r\n",
        "                                                    test_size = 0.2,\r\n",
        "                                                    random_state = 123)"
      ],
      "execution_count": 14,
      "outputs": []
    },
    {
      "cell_type": "code",
      "metadata": {
        "colab": {
          "base_uri": "https://localhost:8080/"
        },
        "id": "uMDtyMz1giWC",
        "outputId": "124d559b-460a-4754-9516-df8dadcd7331"
      },
      "source": [
        "# Apply the logistic model\r\n",
        "clf_lr = LogisticRegression(max_iter=500)\r\n",
        "clf_lr.fit(X_train, y_train)"
      ],
      "execution_count": 15,
      "outputs": [
        {
          "output_type": "execute_result",
          "data": {
            "text/plain": [
              "LogisticRegression(C=1.0, class_weight=None, dual=False, fit_intercept=True,\n",
              "                   intercept_scaling=1, l1_ratio=None, max_iter=500,\n",
              "                   multi_class='auto', n_jobs=None, penalty='l2',\n",
              "                   random_state=None, solver='lbfgs', tol=0.0001, verbose=0,\n",
              "                   warm_start=False)"
            ]
          },
          "metadata": {
            "tags": []
          },
          "execution_count": 15
        }
      ]
    },
    {
      "cell_type": "code",
      "metadata": {
        "id": "2mqMxyXEgiHy"
      },
      "source": [
        "# Replace the threshold\r\n",
        "y_pred_p = clf_lr.predict_proba(X_test)\r\n",
        "y_pred_lr = np.where(y_pred_p[:,1]> 0.016, 1,0)"
      ],
      "execution_count": 16,
      "outputs": []
    },
    {
      "cell_type": "code",
      "metadata": {
        "colab": {
          "base_uri": "https://localhost:8080/"
        },
        "id": "OaHBZcM7iiyS",
        "outputId": "162b0a66-94bf-4f49-ea7e-5e2b1a73b587"
      },
      "source": [
        "# Other metrics\r\n",
        "print(\"accuracy: \",metrics.accuracy_score(y_true = y_test, y_pred = y_pred_lr))\r\n",
        "print(\"precision: \",metrics.precision_score(y_true = y_test, y_pred = y_pred_lr))\r\n",
        "print(\"recall: \",metrics.recall_score(y_true = y_test, y_pred = y_pred_lr))\r\n",
        "print(\"confusion matrix: \",metrics.confusion_matrix(y_test, y_pred_lr))"
      ],
      "execution_count": 17,
      "outputs": [
        {
          "output_type": "stream",
          "text": [
            "accuracy:  0.6447260496080065\n",
            "precision:  0.030479440008442084\n",
            "recall:  0.697946033024567\n",
            "confusion matrix:  [[99665 55125]\n",
            " [  750  1733]]\n"
          ],
          "name": "stdout"
        }
      ]
    },
    {
      "cell_type": "code",
      "metadata": {
        "colab": {
          "base_uri": "https://localhost:8080/",
          "height": 302
        },
        "id": "k7vEkWXtg4D3",
        "outputId": "9b07803c-2f5d-44cb-91bd-cba7bf1c0108"
      },
      "source": [
        "# Plot roc_auc\r\n",
        "lr_probs = clf_lr.predict_proba(X_test)\r\n",
        " \r\n",
        "# keep probabilities for the positive outcome only\r\n",
        "lr_probs = lr_probs[:, 1]\r\n",
        "\r\n",
        "# calculate scores  Area Under Cruve\r\n",
        "lr_auc = roc_auc_score(y_test,lr_probs)\r\n",
        " \r\n",
        "# summarize scores\r\n",
        "print('Logistic: ROC AUC=%.3f' % (lr_auc))\r\n",
        " \r\n",
        "# calculate the roc curve\r\n",
        "fpr, tpr, thresholds = roc_curve(y_test,lr_probs)\r\n",
        " \r\n",
        "# plot the roc curve for the model\r\n",
        "plt.plot([0, 1], [0, 1], 'k--',label='Random Predictor')  # draw diag\r\n",
        "plt.plot(fpr, tpr, marker='.', color='darkorange',label='Logistic') # draw ROC\r\n",
        "# axis labels\r\n",
        "plt.xlabel('False Positive Rate')\r\n",
        "plt.ylabel('True Positive Rate')\r\n",
        "# show the legend\r\n",
        "plt.legend()\r\n",
        "# show the plot\r\n",
        "plt.show()"
      ],
      "execution_count": 18,
      "outputs": [
        {
          "output_type": "stream",
          "text": [
            "Logistic: ROC AUC=0.724\n"
          ],
          "name": "stdout"
        },
        {
          "output_type": "display_data",
          "data": {
            "image/png": "[encoded data removed]",
            "text/plain": [
              "<Figure size 432x288 with 1 Axes>"
            ]
          },
          "metadata": {
            "tags": [],
            "needs_background": "light"
          }
        }
      ]
    },
    {
      "cell_type": "markdown",
      "metadata": {
        "id": "k-gk4DqGhLxx"
      },
      "source": [
        "Compare the 2 roc_auc results before and after scaling the dataframe, it can be concluded that scaling the dataframe increases the value of the metric. Therefore, I will use the scaling dataframe in the following modeling experiments."
      ]
    },
    {
      "cell_type": "markdown",
      "metadata": {
        "id": "-RDAk5HVzPqh"
      },
      "source": [
        "# 4.3 XGBoost"
      ]
    },
    {
      "cell_type": "code",
      "metadata": {
        "colab": {
          "base_uri": "https://localhost:8080/"
        },
        "id": "G_8Wa35IeUD8",
        "outputId": "a3ab1424-fcca-4a86-8ff2-fe62373b7f00"
      },
      "source": [
        "# Fit the model\n",
        "xgb_clf = XGBClassifier(n_estimators=300, \n",
        "                        learning_rate=0.05\n",
        "                        )\n",
        "xgb_clf.fit(X_train, y_train)"
      ],
      "execution_count": 19,
      "outputs": [
        {
          "output_type": "execute_result",
          "data": {
            "text/plain": [
              "XGBClassifier(base_score=0.5, booster='gbtree', colsample_bylevel=1,\n",
              "              colsample_bynode=1, colsample_bytree=1, gamma=0,\n",
              "              learning_rate=0.05, max_delta_step=0, max_depth=3,\n",
              "              min_child_weight=1, missing=None, n_estimators=300, n_jobs=1,\n",
              "              nthread=None, objective='binary:logistic', random_state=0,\n",
              "              reg_alpha=0, reg_lambda=1, scale_pos_weight=1, seed=None,\n",
              "              silent=None, subsample=1, verbosity=1)"
            ]
          },
          "metadata": {
            "tags": []
          },
          "execution_count": 19
        }
      ]
    },
    {
      "cell_type": "code",
      "metadata": {
        "id": "kVYT3vdofela"
      },
      "source": [
        "# Replace the threshold\n",
        "y_pred_xgb = xgb_clf.predict_proba(X_test)\n",
        "y_pred_xgb = np.where(y_pred_xgb[:,1]> 0.016, 1,0)"
      ],
      "execution_count": 20,
      "outputs": []
    },
    {
      "cell_type": "code",
      "metadata": {
        "colab": {
          "base_uri": "https://localhost:8080/"
        },
        "id": "RcGh3NY1isDf",
        "outputId": "879b5483-1b4c-4ad4-ccd4-2603d78b22aa"
      },
      "source": [
        "# Other metrics\r\n",
        "print(\"accuracy: \",metrics.accuracy_score(y_true = y_test, y_pred = y_pred_xgb))\r\n",
        "print(\"precision: \",metrics.precision_score(y_true = y_test, y_pred = y_pred_xgb))\r\n",
        "print(\"recall: \",metrics.recall_score(y_true = y_test, y_pred = y_pred_xgb))\r\n",
        "print(\"confusion matrix: \",metrics.confusion_matrix(y_test, y_pred_xgb))"
      ],
      "execution_count": 21,
      "outputs": [
        {
          "output_type": "stream",
          "text": [
            "accuracy:  0.7335652019100545\n",
            "precision:  0.03732394366197183\n",
            "recall:  0.6403544099879178\n",
            "confusion matrix:  [[113780  41010]\n",
            " [   893   1590]]\n"
          ],
          "name": "stdout"
        }
      ]
    },
    {
      "cell_type": "code",
      "metadata": {
        "colab": {
          "base_uri": "https://localhost:8080/",
          "height": 302
        },
        "id": "2nTq2eBNerPK",
        "outputId": "d6958b4e-77de-49a9-c959-d53434684837"
      },
      "source": [
        "# Plot roc_auc\n",
        "lr_probs = xgb_clf.predict_proba(X_test)\n",
        " \n",
        "# keep probabilities for the positive outcome only\n",
        "lr_probs = lr_probs[:, 1]\n",
        "\n",
        "# calculate scores area under the Curve\n",
        "lr_auc = roc_auc_score(y_test,lr_probs)\n",
        " \n",
        "# summarize scores\n",
        "print('Logistic: ROC AUC=%.3f' % (lr_auc))\n",
        " \n",
        "# calculate roc curves\n",
        "fpr, tpr, thresholds = roc_curve(y_test,lr_probs)\n",
        " \n",
        "# plot the roc curve for the model\n",
        "plt.plot([0, 1], [0, 1], 'k--',label='Random Predictor')  # draw diag\n",
        "plt.plot(fpr, tpr, marker='.', color='darkorange',label='Logistic') # draw ROC\n",
        "# axis labels\n",
        "plt.xlabel('False Positive Rate')\n",
        "plt.ylabel('True Positive Rate')\n",
        "# show the legend\n",
        "plt.legend()\n",
        "# show the plot\n",
        "plt.show()"
      ],
      "execution_count": 22,
      "outputs": [
        {
          "output_type": "stream",
          "text": [
            "Logistic: ROC AUC=0.737\n"
          ],
          "name": "stdout"
        },
        {
          "output_type": "display_data",
          "data": {
            "image/png": "[encoded data removed]",
            "text/plain": [
              "<Figure size 432x288 with 1 Axes>"
            ]
          },
          "metadata": {
            "tags": [],
            "needs_background": "light"
          }
        }
      ]
    },
    {
      "cell_type": "code",
      "metadata": {
        "colab": {
          "base_uri": "https://localhost:8080/"
        },
        "id": "DKle3IG2UGzT",
        "outputId": "e60dcf56-110b-4750-a1c2-f19b72994d1c"
      },
      "source": [
        "# Grid search\r\n",
        "xgb_clf = XGBClassifier()\r\n",
        "\r\n",
        "xgb_param_grid = {'learning_rate': np.arange(0.05, 0.15, 0.05),\r\n",
        "                  'n_estimators': np.arange(200, 400, 100)\r\n",
        "                  }\r\n",
        "\r\n",
        "random_xgb = RandomizedSearchCV(estimator=xgb_clf, \r\n",
        "                                    param_distributions=xgb_param_grid,\r\n",
        "                                    n_iter=100, \r\n",
        "                                    scoring='roc_auc', \r\n",
        "                                    cv=2,\r\n",
        "                                    verbose=1,\r\n",
        "                                    n_jobs=-1\r\n",
        "                                    )\r\n",
        "random_xgb.fit(X_train, y_train)\r\n",
        "print(\"Best parameters found: \",random_xgb.best_params_)"
      ],
      "execution_count": 23,
      "outputs": [
        {
          "output_type": "stream",
          "text": [
            "Fitting 2 folds for each of 4 candidates, totalling 8 fits\n"
          ],
          "name": "stdout"
        },
        {
          "output_type": "stream",
          "text": [
            "/usr/local/lib/python3.6/dist-packages/sklearn/model_selection/_search.py:281: UserWarning: The total space of parameters 4 is smaller than n_iter=100. Running 4 iterations. For exhaustive searches, use GridSearchCV.\n",
            "  % (grid_size, self.n_iter, grid_size), UserWarning)\n",
            "[Parallel(n_jobs=-1)]: Using backend LokyBackend with 2 concurrent workers.\n",
            "[Parallel(n_jobs=-1)]: Done   8 out of   8 | elapsed:  6.0min finished\n"
          ],
          "name": "stderr"
        },
        {
          "output_type": "stream",
          "text": [
            "Best parameters found:  {'n_estimators': 200, 'learning_rate': 0.05}\n"
          ],
          "name": "stdout"
        }
      ]
    },
    {
      "cell_type": "code",
      "metadata": {
        "colab": {
          "base_uri": "https://localhost:8080/",
          "height": 302
        },
        "id": "7PHA5EFdYbJp",
        "outputId": "cfa2321f-540d-4c2a-e6b5-8bc87e216869"
      },
      "source": [
        "# Use the best parameter to calculate roc_auc\n",
        "xgb_clf = XGBClassifier(n_estimators=200, \n",
        "                        learning_rate=0.05\n",
        "                        )\n",
        "xgb_clf.fit(X_train, y_train)\n",
        "\n",
        "lr_probs = xgb_clf.predict_proba(X_test)\n",
        " \n",
        "# keep probabilities for the positive outcome only\n",
        "lr_probs = lr_probs[:, 1]\n",
        " \n",
        "# calculate scores area Under Cruve\n",
        "lr_auc = roc_auc_score(y_test,lr_probs)\n",
        " \n",
        "# summarize scores\n",
        "print('Logistic: ROC AUC=%.3f' % (lr_auc))\n",
        " \n",
        "# calculate roc curves\n",
        "fpr, tpr, thresholds = roc_curve(y_test,lr_probs)\n",
        " \n",
        "# plot the roc curve for the model\n",
        "plt.plot([0, 1], [0, 1], 'k--',label='Random Predictor')  # draw diag\n",
        "plt.plot(fpr, tpr, marker='.', color='darkorange',label='Logistic') # draw ROC\n",
        "# axis labels\n",
        "plt.xlabel('False Positive Rate')\n",
        "plt.ylabel('True Positive Rate')\n",
        "# show the legend\n",
        "plt.legend()\n",
        "# show the plot\n",
        "plt.show()"
      ],
      "execution_count": 24,
      "outputs": [
        {
          "output_type": "stream",
          "text": [
            "Logistic: ROC AUC=0.737\n"
          ],
          "name": "stdout"
        },
        {
          "output_type": "display_data",
          "data": {
            "image/png": "[encoded data removed]",
            "text/plain": [
              "<Figure size 432x288 with 1 Axes>"
            ]
          },
          "metadata": {
            "tags": [],
            "needs_background": "light"
          }
        }
      ]
    },
    {
      "cell_type": "markdown",
      "metadata": {
        "id": "4W8lMxFL2bNO"
      },
      "source": [
        "## 4.4 LightGBM"
      ]
    },
    {
      "cell_type": "code",
      "metadata": {
        "colab": {
          "base_uri": "https://localhost:8080/"
        },
        "id": "GCa-dQ56fuRY",
        "outputId": "a5dfc6ef-c724-44a2-fd0b-71d38fb4b625"
      },
      "source": [
        "# Fit the model\n",
        "lgb_clf = LGBMClassifier(n_estimators = 200, \n",
        "                         max_depth=10,\n",
        "                         learning_rate = 0.1\n",
        "                         )\n",
        "lgb_clf.fit(X_train, y_train)"
      ],
      "execution_count": 25,
      "outputs": [
        {
          "output_type": "execute_result",
          "data": {
            "text/plain": [
              "LGBMClassifier(boosting_type='gbdt', class_weight=None, colsample_bytree=1.0,\n",
              "               importance_type='split', learning_rate=0.1, max_depth=10,\n",
              "               min_child_samples=20, min_child_weight=0.001, min_split_gain=0.0,\n",
              "               n_estimators=200, n_jobs=-1, num_leaves=31, objective=None,\n",
              "               random_state=None, reg_alpha=0.0, reg_lambda=0.0, silent=True,\n",
              "               subsample=1.0, subsample_for_bin=200000, subsample_freq=0)"
            ]
          },
          "metadata": {
            "tags": []
          },
          "execution_count": 25
        }
      ]
    },
    {
      "cell_type": "code",
      "metadata": {
        "id": "5gOPI-xf1YgT"
      },
      "source": [
        "# Replace the threshold\r\n",
        "y_pred_lgb = lgb_clf.predict_proba(X_test)\r\n",
        "y_pred_lgb = np.where(y_pred_lgb[:,1]> 0.016, 1,0)"
      ],
      "execution_count": 26,
      "outputs": []
    },
    {
      "cell_type": "code",
      "metadata": {
        "colab": {
          "base_uri": "https://localhost:8080/"
        },
        "id": "v3Ug8x5ejGNn",
        "outputId": "450aaf03-d703-4c4b-9844-855e47804079"
      },
      "source": [
        "# Other metrics\r\n",
        "print(\"accuracy: \",metrics.accuracy_score(y_true = y_test, y_pred = y_pred_lgb))\r\n",
        "print(\"precision: \",metrics.precision_score(y_true = y_test, y_pred = y_pred_lgb))\r\n",
        "print(\"recall: \",metrics.recall_score(y_true = y_test, y_pred = y_pred_lgb))\r\n",
        "print(\"confusion matrix: \",metrics.confusion_matrix(y_test, y_pred_lgb))"
      ],
      "execution_count": 27,
      "outputs": [
        {
          "output_type": "stream",
          "text": [
            "accuracy:  0.7102617741125304\n",
            "precision:  0.03493016126594849\n",
            "recall:  0.6516310914216673\n",
            "confusion matrix:  [[110087  44703]\n",
            " [   865   1618]]\n"
          ],
          "name": "stdout"
        }
      ]
    },
    {
      "cell_type": "code",
      "metadata": {
        "colab": {
          "base_uri": "https://localhost:8080/",
          "height": 302
        },
        "id": "85Tmrx2sgM3a",
        "outputId": "2c01827b-3c11-425f-f8b7-e4a065a1e4db"
      },
      "source": [
        "# Plot roc_auc\n",
        "lr_probs = lgb_clf.predict_proba(X_test)\n",
        " \n",
        "# keep probabilities for the positive outcome only\n",
        "lr_probs = lr_probs[:, 1]\n",
        " \n",
        "# calculate scores area under curve\n",
        "lr_auc = roc_auc_score(y_test,lr_probs)\n",
        " \n",
        "# summarize scores\n",
        "print('Logistic: ROC AUC=%.3f' % (lr_auc))\n",
        " \n",
        "# calculate roc curves\n",
        "fpr, tpr, thresholds = roc_curve(y_test,lr_probs)\n",
        " \n",
        "# plot the roc curve for the model\n",
        "plt.plot([0, 1], [0, 1], 'k--',label='Random Predictor')  # draw diag\n",
        "plt.plot(fpr, tpr, marker='.', color='darkorange',label='Logistic') # draw ROC\n",
        "# axis labels\n",
        "plt.xlabel('False Positive Rate')\n",
        "plt.ylabel('True Positive Rate')\n",
        "# show the legend\n",
        "plt.legend()\n",
        "# show the plot\n",
        "plt.show()"
      ],
      "execution_count": 28,
      "outputs": [
        {
          "output_type": "stream",
          "text": [
            "Logistic: ROC AUC=0.733\n"
          ],
          "name": "stdout"
        },
        {
          "output_type": "display_data",
          "data": {
            "image/png": "[encoded data removed]",
            "text/plain": [
              "<Figure size 432x288 with 1 Axes>"
            ]
          },
          "metadata": {
            "tags": [],
            "needs_background": "light"
          }
        }
      ]
    },
    {
      "cell_type": "code",
      "metadata": {
        "colab": {
          "base_uri": "https://localhost:8080/"
        },
        "id": "s-D_IG-kTJWI",
        "outputId": "fbabf8a2-520e-4dc3-e67a-4729db013f62"
      },
      "source": [
        "# Grid search\r\n",
        "lgb_clf = LGBMClassifier()\r\n",
        "\r\n",
        "lgb_param_grid = {'learning_rate': np.arange(0.05, 0.15, 0.05),\r\n",
        "                  'n_estimators': np.arange(200, 600, 200),\r\n",
        "                  'max_depth': [5,10]\r\n",
        "                  }\r\n",
        "\r\n",
        "random_lgb = RandomizedSearchCV(estimator=lgb_clf, \r\n",
        "                                    param_distributions=lgb_param_grid,\r\n",
        "                                    n_iter=100, \r\n",
        "                                    scoring='roc_auc', \r\n",
        "                                    cv=2, \r\n",
        "                                    verbose=1,\r\n",
        "                                    n_jobs=-1\r\n",
        "                                    )\r\n",
        "random_lgb.fit(X_train, y_train)\r\n",
        "print(\"Best parameters found: \",random_lgb.best_params_)"
      ],
      "execution_count": 29,
      "outputs": [
        {
          "output_type": "stream",
          "text": [
            "/usr/local/lib/python3.6/dist-packages/sklearn/model_selection/_search.py:281: UserWarning: The total space of parameters 8 is smaller than n_iter=100. Running 8 iterations. For exhaustive searches, use GridSearchCV.\n",
            "  % (grid_size, self.n_iter, grid_size), UserWarning)\n",
            "[Parallel(n_jobs=-1)]: Using backend LokyBackend with 2 concurrent workers.\n"
          ],
          "name": "stderr"
        },
        {
          "output_type": "stream",
          "text": [
            "Fitting 2 folds for each of 8 candidates, totalling 16 fits\n"
          ],
          "name": "stdout"
        },
        {
          "output_type": "stream",
          "text": [
            "[Parallel(n_jobs=-1)]: Done  16 out of  16 | elapsed:  2.5min finished\n"
          ],
          "name": "stderr"
        },
        {
          "output_type": "stream",
          "text": [
            "Best parameters found:  {'n_estimators': 200, 'max_depth': 10, 'learning_rate': 0.05}\n"
          ],
          "name": "stdout"
        }
      ]
    },
    {
      "cell_type": "code",
      "metadata": {
        "colab": {
          "base_uri": "https://localhost:8080/",
          "height": 302
        },
        "id": "HXJj4HKra-zP",
        "outputId": "09676404-63f3-41e5-9ed5-1a73ab155a20"
      },
      "source": [
        "# Use the best parameter to caculate roc_auc\r\n",
        "lgb_clf = LGBMClassifier(n_estimators = 200, \r\n",
        "                         max_depth=10,\r\n",
        "                         learning_rate = 0.05\r\n",
        "                         )\r\n",
        "lgb_clf.fit(X_train, y_train)\r\n",
        "\r\n",
        "lr_probs = lgb_clf.predict_proba(X_test)\r\n",
        " \r\n",
        "# keep probabilities for the positive outcome only\r\n",
        "lr_probs = lr_probs[:, 1]\r\n",
        " \r\n",
        "# calculate scores area under curve\r\n",
        "lr_auc = roc_auc_score(y_test,lr_probs)\r\n",
        " \r\n",
        "# summarize scores\r\n",
        "print('Logistic: ROC AUC=%.3f' % (lr_auc))\r\n",
        " \r\n",
        "# calculate roc curves\r\n",
        "fpr, tpr, thresholds = roc_curve(y_test,lr_probs)\r\n",
        " \r\n",
        "# plot the roc curve for the model\r\n",
        "plt.plot([0, 1], [0, 1], 'k--',label='Random Predictor')  # draw diag\r\n",
        "plt.plot(fpr, tpr, marker='.', color='darkorange',label='Logistic') # draw ROC\r\n",
        "# axis labels\r\n",
        "plt.xlabel('False Positive Rate')\r\n",
        "plt.ylabel('True Positive Rate')\r\n",
        "# show the legend\r\n",
        "plt.legend()\r\n",
        "# show the plot\r\n",
        "plt.show()"
      ],
      "execution_count": 30,
      "outputs": [
        {
          "output_type": "stream",
          "text": [
            "Logistic: ROC AUC=0.736\n"
          ],
          "name": "stdout"
        },
        {
          "output_type": "display_data",
          "data": {
            "image/png": "[encoded data removed]",
            "text/plain": [
              "<Figure size 432x288 with 1 Axes>"
            ]
          },
          "metadata": {
            "tags": [],
            "needs_background": "light"
          }
        }
      ]
    },
    {
      "cell_type": "code",
      "metadata": {
        "colab": {
          "base_uri": "https://localhost:8080/",
          "height": 535
        },
        "id": "kKL__QyZhpzl",
        "outputId": "ce326339-a3f1-4aec-bb99-5204207fdc11"
      },
      "source": [
        "sns.set(rc={'figure.figsize':(12,8)})\r\n",
        "plot_importance(lgb_clf)"
      ],
      "execution_count": 31,
      "outputs": [
        {
          "output_type": "execute_result",
          "data": {
            "text/plain": [
              "<matplotlib.axes._subplots.AxesSubplot at 0x7f48347e6ba8>"
            ]
          },
          "metadata": {
            "tags": []
          },
          "execution_count": 31
        },
        {
          "output_type": "display_data",
          "data": {
            "image/png": "[encoded data removed]",
            "text/plain": [
              "<Figure size 864x576 with 1 Axes>"
            ]
          },
          "metadata": {
            "tags": []
          }
        }
      ]
    },
    {
      "cell_type": "markdown",
      "metadata": {
        "id": "FRBXgHOvlE2D"
      },
      "source": [
        "In this feature combination, XGBoost achieves 0.737 for the roc_auc, outperforming logistics regression and LightGBM."
      ]
    }
  ]
}
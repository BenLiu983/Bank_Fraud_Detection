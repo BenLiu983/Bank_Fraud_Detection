{
  "nbformat": 4,
  "nbformat_minor": 0,
  "metadata": {
    "colab": {
      "name": "Modeling_Case3.ipynb",
      "provenance": [],
      "collapsed_sections": [
        "YEViIHMgs0L_"
      ]
    },
    "kernelspec": {
      "display_name": "Python 3",
      "name": "python3"
    }
  },
  "cells": [
    {
      "cell_type": "markdown",
      "metadata": {
        "id": "hcy7u7msC7_P"
      },
      "source": [
        "# Fraud detection using credit card transaction data"
      ]
    },
    {
      "cell_type": "markdown",
      "metadata": {
        "id": "5PF6i3VYYtGv"
      },
      "source": [
        "## 1. Load the data\n",
        "\n"
      ]
    },
    {
      "cell_type": "code",
      "metadata": {
        "id": "QcR1N7GUDKom"
      },
      "source": [
        "import pandas as pd\n",
        "import numpy as np\n",
        "import seaborn as sns\n",
        "from sklearn.neighbors import KNeighborsClassifier\n",
        "from sklearn.ensemble import RandomForestClassifier\n",
        "from sklearn.linear_model import LogisticRegression\n",
        "from sklearn.ensemble import BaggingClassifier\n",
        "from sklearn.tree import DecisionTreeClassifier\n",
        "from sklearn.ensemble import GradientBoostingClassifier\n",
        "from sklearn.model_selection import cross_validate\n",
        "from sklearn.model_selection import cross_val_score\n",
        "from sklearn.model_selection import RandomizedSearchCV\n",
        "from sklearn.metrics import roc_curve, roc_auc_score\n",
        "from sklearn.preprocessing import MinMaxScaler\n",
        "from xgboost import XGBClassifier\n",
        "from lightgbm import LGBMClassifier\n",
        "from lightgbm import plot_importance\n",
        "from sklearn.svm import SVC\n",
        "from sklearn.model_selection import train_test_split\n",
        "from sklearn import metrics\n",
        "import matplotlib.pyplot as plt\n",
        "sns.set(rc={'figure.figsize':(10,6)})"
      ],
      "execution_count": null,
      "outputs": []
    },
    {
      "cell_type": "code",
      "metadata": {
        "id": "hImq9AU8DA05"
      },
      "source": [
        "df = pd.read_csv('/content/drive/MyDrive/Colab Notebooks/creditcard.csv')"
      ],
      "execution_count": null,
      "outputs": []
    },
    {
      "cell_type": "markdown",
      "metadata": {
        "id": "YEViIHMgs0L_"
      },
      "source": [
        "## 2 EDA (preivous file)"
      ]
    },
    {
      "cell_type": "markdown",
      "metadata": {
        "id": "YTKtIcUQi1Lc"
      },
      "source": [
        "## 3. Feature Engineering (Case 3)\r\n",
        "\r\n"
      ]
    },
    {
      "cell_type": "code",
      "metadata": {
        "colab": {
          "base_uri": "https://localhost:8080/",
          "height": 224
        },
        "id": "OGN2h4A1z5TF",
        "outputId": "ab1b48a4-2d94-4ec1-eb84-4c6b3edc73f0"
      },
      "source": [
        "# 3.1 posEntryMode\r\n",
        "df['posEM_new'] = np.where(df['posEntryMode'] == '', '999',df['posEntryMode'])\r\n",
        "\r\n",
        "# 3.2 transactionAmount and creditLimit\r\n",
        "df['amountOver'] = np.where(df['transactionAmount'] > df['creditLimit'], 1, 0)\r\n",
        "\r\n",
        "# 3.3 cardCVV and enteredCVV\r\n",
        "df['cvvNotSame'] =  np.where(df['cardCVV'] != df['enteredCVV'], 1, 0)\r\n",
        "\r\n",
        "# 3.4 DateTime\r\n",
        "df['transactionDateTime'] = pd.to_datetime(df['transactionDateTime'])\r\n",
        "df['hour'] = df['transactionDateTime'].dt.hour\r\n",
        "\r\n",
        "#3.5 Create a new dataframe\r\n",
        "df1 = df[['isFraud','cvvNotSame','amountOver', 'posEM_new', 'hour', 'transactionAmount', 'availableMoney', 'cardPresent', 'transactionType']]\r\n",
        "df1 = pd.get_dummies(columns=['posEM_new'], data = df1)\r\n",
        "df1 = pd.get_dummies(columns=['transactionType'], data = df1)\r\n",
        "df_final = df1.dropna()\r\n",
        "df_final.head()"
      ],
      "execution_count": null,
      "outputs": [
        {
          "output_type": "execute_result",
          "data": {
            "text/html": [
              "<div>\n",
              "<style scoped>\n",
              "    .dataframe tbody tr th:only-of-type {\n",
              "        vertical-align: middle;\n",
              "    }\n",
              "\n",
              "    .dataframe tbody tr th {\n",
              "        vertical-align: top;\n",
              "    }\n",
              "\n",
              "    .dataframe thead th {\n",
              "        text-align: right;\n",
              "    }\n",
              "</style>\n",
              "<table border=\"1\" class=\"dataframe\">\n",
              "  <thead>\n",
              "    <tr style=\"text-align: right;\">\n",
              "      <th></th>\n",
              "      <th>isFraud</th>\n",
              "      <th>cvvNotSame</th>\n",
              "      <th>amountOver</th>\n",
              "      <th>hour</th>\n",
              "      <th>transactionAmount</th>\n",
              "      <th>availableMoney</th>\n",
              "      <th>cardPresent</th>\n",
              "      <th>posEM_new_2.0</th>\n",
              "      <th>posEM_new_5.0</th>\n",
              "      <th>posEM_new_80.0</th>\n",
              "      <th>posEM_new_9.0</th>\n",
              "      <th>posEM_new_90.0</th>\n",
              "      <th>posEM_new_nan</th>\n",
              "      <th>transactionType_ADDRESS_VERIFICATION</th>\n",
              "      <th>transactionType_PURCHASE</th>\n",
              "      <th>transactionType_REVERSAL</th>\n",
              "    </tr>\n",
              "  </thead>\n",
              "  <tbody>\n",
              "    <tr>\n",
              "      <th>0</th>\n",
              "      <td>False</td>\n",
              "      <td>0</td>\n",
              "      <td>0</td>\n",
              "      <td>14</td>\n",
              "      <td>98.55</td>\n",
              "      <td>5000.0</td>\n",
              "      <td>False</td>\n",
              "      <td>1</td>\n",
              "      <td>0</td>\n",
              "      <td>0</td>\n",
              "      <td>0</td>\n",
              "      <td>0</td>\n",
              "      <td>0</td>\n",
              "      <td>0</td>\n",
              "      <td>1</td>\n",
              "      <td>0</td>\n",
              "    </tr>\n",
              "    <tr>\n",
              "      <th>1</th>\n",
              "      <td>False</td>\n",
              "      <td>0</td>\n",
              "      <td>0</td>\n",
              "      <td>5</td>\n",
              "      <td>74.51</td>\n",
              "      <td>5000.0</td>\n",
              "      <td>True</td>\n",
              "      <td>0</td>\n",
              "      <td>0</td>\n",
              "      <td>0</td>\n",
              "      <td>1</td>\n",
              "      <td>0</td>\n",
              "      <td>0</td>\n",
              "      <td>0</td>\n",
              "      <td>1</td>\n",
              "      <td>0</td>\n",
              "    </tr>\n",
              "    <tr>\n",
              "      <th>2</th>\n",
              "      <td>False</td>\n",
              "      <td>0</td>\n",
              "      <td>0</td>\n",
              "      <td>9</td>\n",
              "      <td>7.47</td>\n",
              "      <td>5000.0</td>\n",
              "      <td>False</td>\n",
              "      <td>0</td>\n",
              "      <td>0</td>\n",
              "      <td>0</td>\n",
              "      <td>1</td>\n",
              "      <td>0</td>\n",
              "      <td>0</td>\n",
              "      <td>0</td>\n",
              "      <td>1</td>\n",
              "      <td>0</td>\n",
              "    </tr>\n",
              "    <tr>\n",
              "      <th>3</th>\n",
              "      <td>False</td>\n",
              "      <td>0</td>\n",
              "      <td>0</td>\n",
              "      <td>2</td>\n",
              "      <td>7.47</td>\n",
              "      <td>5000.0</td>\n",
              "      <td>False</td>\n",
              "      <td>0</td>\n",
              "      <td>0</td>\n",
              "      <td>0</td>\n",
              "      <td>1</td>\n",
              "      <td>0</td>\n",
              "      <td>0</td>\n",
              "      <td>0</td>\n",
              "      <td>1</td>\n",
              "      <td>0</td>\n",
              "    </tr>\n",
              "    <tr>\n",
              "      <th>4</th>\n",
              "      <td>False</td>\n",
              "      <td>0</td>\n",
              "      <td>0</td>\n",
              "      <td>21</td>\n",
              "      <td>71.18</td>\n",
              "      <td>5000.0</td>\n",
              "      <td>True</td>\n",
              "      <td>1</td>\n",
              "      <td>0</td>\n",
              "      <td>0</td>\n",
              "      <td>0</td>\n",
              "      <td>0</td>\n",
              "      <td>0</td>\n",
              "      <td>0</td>\n",
              "      <td>1</td>\n",
              "      <td>0</td>\n",
              "    </tr>\n",
              "  </tbody>\n",
              "</table>\n",
              "</div>"
            ],
            "text/plain": [
              "   isFraud  cvvNotSame  ...  transactionType_PURCHASE  transactionType_REVERSAL\n",
              "0    False           0  ...                         1                         0\n",
              "1    False           0  ...                         1                         0\n",
              "2    False           0  ...                         1                         0\n",
              "3    False           0  ...                         1                         0\n",
              "4    False           0  ...                         1                         0\n",
              "\n",
              "[5 rows x 16 columns]"
            ]
          },
          "metadata": {
            "tags": []
          },
          "execution_count": 3
        }
      ]
    },
    {
      "cell_type": "markdown",
      "metadata": {
        "id": "X4cX_5tAxwWY"
      },
      "source": [
        "## 4 Modeling"
      ]
    },
    {
      "cell_type": "markdown",
      "metadata": {
        "id": "dJDpKajGE6tX"
      },
      "source": [
        "For this fraud detection task, I will use ROC_AUC as the primary metric."
      ]
    },
    {
      "cell_type": "markdown",
      "metadata": {
        "id": "8-TppK4YyeYD"
      },
      "source": [
        "## 4.1 Train-Test split"
      ]
    },
    {
      "cell_type": "code",
      "metadata": {
        "id": "WgeP55czUXQk"
      },
      "source": [
        "X_train, X_test, y_train, y_test = train_test_split(df_final.drop('isFraud', axis = 1),\n",
        "                                                    df_final['isFraud'],\n",
        "                                                    stratify = df_final['isFraud'],\n",
        "                                                    test_size = 0.2,\n",
        "                                                    random_state = 123)"
      ],
      "execution_count": null,
      "outputs": []
    },
    {
      "cell_type": "code",
      "metadata": {
        "colab": {
          "base_uri": "https://localhost:8080/"
        },
        "id": "jSgmnlhpU-JW",
        "outputId": "8c944324-3549-493c-c63d-ce7bcf43cb99"
      },
      "source": [
        "print(X_train.shape)\r\n",
        "print(X_test.shape)"
      ],
      "execution_count": null,
      "outputs": [
        {
          "output_type": "stream",
          "text": [
            "(629090, 15)\n",
            "(157273, 15)\n"
          ],
          "name": "stdout"
        }
      ]
    },
    {
      "cell_type": "code",
      "metadata": {
        "colab": {
          "base_uri": "https://localhost:8080/"
        },
        "id": "uxqw40SzVFtm",
        "outputId": "2be79f61-1495-4bb0-f8e9-4321580842ec"
      },
      "source": [
        "print(y_train.mean())\r\n",
        "print(y_test.mean())"
      ],
      "execution_count": null,
      "outputs": [
        {
          "output_type": "stream",
          "text": [
            "0.015791063281883354\n",
            "0.015787833893929664\n"
          ],
          "name": "stdout"
        }
      ]
    },
    {
      "cell_type": "markdown",
      "metadata": {
        "id": "oi55EhEXx0BN"
      },
      "source": [
        "## 4.2 Model1 - Logistic regression"
      ]
    },
    {
      "cell_type": "code",
      "metadata": {
        "colab": {
          "base_uri": "https://localhost:8080/"
        },
        "id": "jCPmPNJXVVs2",
        "outputId": "f81b995b-55ba-4e49-bf56-4b72490058a7"
      },
      "source": [
        "# Fit the model\n",
        "clf_lr = LogisticRegression(max_iter=500)\n",
        "clf_lr.fit(X_train, y_train)"
      ],
      "execution_count": null,
      "outputs": [
        {
          "output_type": "execute_result",
          "data": {
            "text/plain": [
              "LogisticRegression(C=1.0, class_weight=None, dual=False, fit_intercept=True,\n",
              "                   intercept_scaling=1, l1_ratio=None, max_iter=500,\n",
              "                   multi_class='auto', n_jobs=None, penalty='l2',\n",
              "                   random_state=None, solver='lbfgs', tol=0.0001, verbose=0,\n",
              "                   warm_start=False)"
            ]
          },
          "metadata": {
            "tags": []
          },
          "execution_count": 7
        }
      ]
    },
    {
      "cell_type": "code",
      "metadata": {
        "colab": {
          "base_uri": "https://localhost:8080/"
        },
        "id": "CTBnZyX4jGHA",
        "outputId": "370fe3bc-bd79-404e-8f72-4f7b2c386a41"
      },
      "source": [
        "# 5-fold cross validation\r\n",
        "cross_val_score(clf_lr, X_train, y_train, scoring = \"roc_auc\", cv = 5)"
      ],
      "execution_count": null,
      "outputs": [
        {
          "output_type": "execute_result",
          "data": {
            "text/plain": [
              "array([0.70442734, 0.69757369, 0.68259224, 0.70986962, 0.72341228])"
            ]
          },
          "metadata": {
            "tags": []
          },
          "execution_count": 8
        }
      ]
    },
    {
      "cell_type": "code",
      "metadata": {
        "colab": {
          "base_uri": "https://localhost:8080/"
        },
        "id": "1nWs3mRrY7MH",
        "outputId": "3bfe0613-82c8-4280-f8cc-cb15df178619"
      },
      "source": [
        "# Other metrics\r\n",
        "y_pred_lr = clf_lr.predict(X_test)\r\n",
        "print(\"accuracy: \",metrics.accuracy_score(y_true = y_test, y_pred = y_pred_lr))\r\n",
        "print(\"precision: \",metrics.precision_score(y_true = y_test, y_pred = y_pred_lr))\r\n",
        "print(\"recall: \",metrics.recall_score(y_true = y_test, y_pred = y_pred_lr))\r\n",
        "print(\"confusion matrix: \",metrics.confusion_matrix(y_test, y_pred_lr))"
      ],
      "execution_count": null,
      "outputs": [
        {
          "output_type": "stream",
          "text": [
            "accuracy:  0.9842058077355935\n",
            "precision:  0.0\n",
            "recall:  0.0\n",
            "confusion matrix:  [[154789      1]\n",
            " [  2483      0]]\n"
          ],
          "name": "stdout"
        }
      ]
    },
    {
      "cell_type": "code",
      "metadata": {
        "colab": {
          "base_uri": "https://localhost:8080/"
        },
        "id": "5eJGjIsiZqcb",
        "outputId": "280d35db-cf0e-4cf9-b596-36d8df868655"
      },
      "source": [
        "y_pred_p = clf_lr.predict_proba(X_test)\r\n",
        "y_pred_p[0:10]"
      ],
      "execution_count": null,
      "outputs": [
        {
          "output_type": "execute_result",
          "data": {
            "text/plain": [
              "array([[0.99145119, 0.00854881],\n",
              "       [0.98965944, 0.01034056],\n",
              "       [0.99397077, 0.00602923],\n",
              "       [0.98345956, 0.01654044],\n",
              "       [0.99581172, 0.00418828],\n",
              "       [0.99703376, 0.00296624],\n",
              "       [0.99397353, 0.00602647],\n",
              "       [0.9909292 , 0.0090708 ],\n",
              "       [0.99258295, 0.00741705],\n",
              "       [0.98970201, 0.01029799]])"
            ]
          },
          "metadata": {
            "tags": []
          },
          "execution_count": 10
        }
      ]
    },
    {
      "cell_type": "code",
      "metadata": {
        "colab": {
          "base_uri": "https://localhost:8080/"
        },
        "id": "AoAVOFXdaSAA",
        "outputId": "78d02caf-27f2-45a5-e143-44c0abc2a6df"
      },
      "source": [
        "# Replace the threshold with the percentage of the fraud transactions in the dataset\r\n",
        "y_pred_lr = np.where(y_pred_p[:,1]> 0.016, 1,0)\r\n",
        "print(\"accuracy: \",metrics.accuracy_score(y_true = y_test, y_pred = y_pred_lr))\r\n",
        "print(\"precision: \",metrics.precision_score(y_true = y_test, y_pred = y_pred_lr))\r\n",
        "print(\"recall: \",metrics.recall_score(y_true = y_test, y_pred = y_pred_lr))\r\n",
        "print(\"confusion matrix: \",metrics.confusion_matrix(y_test, y_pred_lr))"
      ],
      "execution_count": null,
      "outputs": [
        {
          "output_type": "stream",
          "text": [
            "accuracy:  0.6171116466272024\n",
            "precision:  0.02845521815122756\n",
            "recall:  0.7015706806282722\n",
            "confusion matrix:  [[95313 59477]\n",
            " [  741  1742]]\n"
          ],
          "name": "stdout"
        }
      ]
    },
    {
      "cell_type": "code",
      "metadata": {
        "colab": {
          "base_uri": "https://localhost:8080/",
          "height": 285
        },
        "id": "LIusAL7NbBYG",
        "outputId": "0c10f9f4-fc93-4e7d-f1a5-d400a39cf454"
      },
      "source": [
        "# Plot roc_auc\n",
        "metrics.plot_roc_curve(clf_lr, X_test, y_test)  \n",
        "plt.show()  "
      ],
      "execution_count": null,
      "outputs": [
        {
          "output_type": "display_data",
          "data": {
            "image/png": "[encoded data removed]",
            "text/plain": [
              "<Figure size 432x288 with 1 Axes>"
            ]
          },
          "metadata": {
            "tags": [],
            "needs_background": "light"
          }
        }
      ]
    },
    {
      "cell_type": "markdown",
      "metadata": {
        "id": "hmXsGHVYN4Bg"
      },
      "source": [
        "I will use 0.72 as the base."
      ]
    },
    {
      "cell_type": "markdown",
      "metadata": {
        "id": "Q_zNhLNHd2hY"
      },
      "source": [
        "## 4.2.1  Model1 - Logistic regression (scaling)"
      ]
    },
    {
      "cell_type": "code",
      "metadata": {
        "colab": {
          "base_uri": "https://localhost:8080/",
          "height": 224
        },
        "id": "9sUiDAeBWe4q",
        "outputId": "1f12e4f5-9b51-4c56-ee2d-e53cb433accd"
      },
      "source": [
        "# Scale the dataframe\r\n",
        "min_max_scaler = MinMaxScaler()\r\n",
        "df_final_scaled = min_max_scaler.fit_transform(df_final.values)\r\n",
        "df_final2 = pd.DataFrame(df_final_scaled)\r\n",
        "df_final2.columns = df_final.columns\r\n",
        "df_final2.head()"
      ],
      "execution_count": null,
      "outputs": [
        {
          "output_type": "execute_result",
          "data": {
            "text/html": [
              "<div>\n",
              "<style scoped>\n",
              "    .dataframe tbody tr th:only-of-type {\n",
              "        vertical-align: middle;\n",
              "    }\n",
              "\n",
              "    .dataframe tbody tr th {\n",
              "        vertical-align: top;\n",
              "    }\n",
              "\n",
              "    .dataframe thead th {\n",
              "        text-align: right;\n",
              "    }\n",
              "</style>\n",
              "<table border=\"1\" class=\"dataframe\">\n",
              "  <thead>\n",
              "    <tr style=\"text-align: right;\">\n",
              "      <th></th>\n",
              "      <th>isFraud</th>\n",
              "      <th>cvvNotSame</th>\n",
              "      <th>amountOver</th>\n",
              "      <th>hour</th>\n",
              "      <th>transactionAmount</th>\n",
              "      <th>availableMoney</th>\n",
              "      <th>cardPresent</th>\n",
              "      <th>posEM_new_2.0</th>\n",
              "      <th>posEM_new_5.0</th>\n",
              "      <th>posEM_new_80.0</th>\n",
              "      <th>posEM_new_9.0</th>\n",
              "      <th>posEM_new_90.0</th>\n",
              "      <th>posEM_new_nan</th>\n",
              "      <th>transactionType_ADDRESS_VERIFICATION</th>\n",
              "      <th>transactionType_PURCHASE</th>\n",
              "      <th>transactionType_REVERSAL</th>\n",
              "    </tr>\n",
              "  </thead>\n",
              "  <tbody>\n",
              "    <tr>\n",
              "      <th>0</th>\n",
              "      <td>0.0</td>\n",
              "      <td>0.0</td>\n",
              "      <td>0.0</td>\n",
              "      <td>0.608696</td>\n",
              "      <td>0.048992</td>\n",
              "      <td>0.117744</td>\n",
              "      <td>0.0</td>\n",
              "      <td>1.0</td>\n",
              "      <td>0.0</td>\n",
              "      <td>0.0</td>\n",
              "      <td>0.0</td>\n",
              "      <td>0.0</td>\n",
              "      <td>0.0</td>\n",
              "      <td>0.0</td>\n",
              "      <td>1.0</td>\n",
              "      <td>0.0</td>\n",
              "    </tr>\n",
              "    <tr>\n",
              "      <th>1</th>\n",
              "      <td>0.0</td>\n",
              "      <td>0.0</td>\n",
              "      <td>0.0</td>\n",
              "      <td>0.217391</td>\n",
              "      <td>0.037041</td>\n",
              "      <td>0.117744</td>\n",
              "      <td>1.0</td>\n",
              "      <td>0.0</td>\n",
              "      <td>0.0</td>\n",
              "      <td>0.0</td>\n",
              "      <td>1.0</td>\n",
              "      <td>0.0</td>\n",
              "      <td>0.0</td>\n",
              "      <td>0.0</td>\n",
              "      <td>1.0</td>\n",
              "      <td>0.0</td>\n",
              "    </tr>\n",
              "    <tr>\n",
              "      <th>2</th>\n",
              "      <td>0.0</td>\n",
              "      <td>0.0</td>\n",
              "      <td>0.0</td>\n",
              "      <td>0.391304</td>\n",
              "      <td>0.003714</td>\n",
              "      <td>0.117744</td>\n",
              "      <td>0.0</td>\n",
              "      <td>0.0</td>\n",
              "      <td>0.0</td>\n",
              "      <td>0.0</td>\n",
              "      <td>1.0</td>\n",
              "      <td>0.0</td>\n",
              "      <td>0.0</td>\n",
              "      <td>0.0</td>\n",
              "      <td>1.0</td>\n",
              "      <td>0.0</td>\n",
              "    </tr>\n",
              "    <tr>\n",
              "      <th>3</th>\n",
              "      <td>0.0</td>\n",
              "      <td>0.0</td>\n",
              "      <td>0.0</td>\n",
              "      <td>0.086957</td>\n",
              "      <td>0.003714</td>\n",
              "      <td>0.117744</td>\n",
              "      <td>0.0</td>\n",
              "      <td>0.0</td>\n",
              "      <td>0.0</td>\n",
              "      <td>0.0</td>\n",
              "      <td>1.0</td>\n",
              "      <td>0.0</td>\n",
              "      <td>0.0</td>\n",
              "      <td>0.0</td>\n",
              "      <td>1.0</td>\n",
              "      <td>0.0</td>\n",
              "    </tr>\n",
              "    <tr>\n",
              "      <th>4</th>\n",
              "      <td>0.0</td>\n",
              "      <td>0.0</td>\n",
              "      <td>0.0</td>\n",
              "      <td>0.913043</td>\n",
              "      <td>0.035386</td>\n",
              "      <td>0.117744</td>\n",
              "      <td>1.0</td>\n",
              "      <td>1.0</td>\n",
              "      <td>0.0</td>\n",
              "      <td>0.0</td>\n",
              "      <td>0.0</td>\n",
              "      <td>0.0</td>\n",
              "      <td>0.0</td>\n",
              "      <td>0.0</td>\n",
              "      <td>1.0</td>\n",
              "      <td>0.0</td>\n",
              "    </tr>\n",
              "  </tbody>\n",
              "</table>\n",
              "</div>"
            ],
            "text/plain": [
              "   isFraud  cvvNotSame  ...  transactionType_PURCHASE  transactionType_REVERSAL\n",
              "0      0.0         0.0  ...                       1.0                       0.0\n",
              "1      0.0         0.0  ...                       1.0                       0.0\n",
              "2      0.0         0.0  ...                       1.0                       0.0\n",
              "3      0.0         0.0  ...                       1.0                       0.0\n",
              "4      0.0         0.0  ...                       1.0                       0.0\n",
              "\n",
              "[5 rows x 16 columns]"
            ]
          },
          "metadata": {
            "tags": []
          },
          "execution_count": 13
        }
      ]
    },
    {
      "cell_type": "code",
      "metadata": {
        "id": "vKa191T0dvwp"
      },
      "source": [
        "# train-test split\r\n",
        "X_train, X_test, y_train, y_test = train_test_split(df_final2.drop('isFraud', axis = 1),\r\n",
        "                                                    df_final2['isFraud'],\r\n",
        "                                                    stratify = df_final2['isFraud'],\r\n",
        "                                                    test_size = 0.2,\r\n",
        "                                                    random_state = 123)"
      ],
      "execution_count": null,
      "outputs": []
    },
    {
      "cell_type": "code",
      "metadata": {
        "colab": {
          "base_uri": "https://localhost:8080/"
        },
        "id": "uMDtyMz1giWC",
        "outputId": "0bff676c-d85f-4cd1-9d67-1603fdae818d"
      },
      "source": [
        "# Apply the logistic model\r\n",
        "clf_lr = LogisticRegression(max_iter=500)\r\n",
        "clf_lr.fit(X_train, y_train)"
      ],
      "execution_count": null,
      "outputs": [
        {
          "output_type": "execute_result",
          "data": {
            "text/plain": [
              "LogisticRegression(C=1.0, class_weight=None, dual=False, fit_intercept=True,\n",
              "                   intercept_scaling=1, l1_ratio=None, max_iter=500,\n",
              "                   multi_class='auto', n_jobs=None, penalty='l2',\n",
              "                   random_state=None, solver='lbfgs', tol=0.0001, verbose=0,\n",
              "                   warm_start=False)"
            ]
          },
          "metadata": {
            "tags": []
          },
          "execution_count": 15
        }
      ]
    },
    {
      "cell_type": "code",
      "metadata": {
        "id": "2mqMxyXEgiHy"
      },
      "source": [
        "# Replace the threshold\r\n",
        "y_pred_p = clf_lr.predict_proba(X_test)\r\n",
        "y_pred_lr = np.where(y_pred_p[:,1]> 0.016, 1,0)"
      ],
      "execution_count": null,
      "outputs": []
    },
    {
      "cell_type": "code",
      "metadata": {
        "colab": {
          "base_uri": "https://localhost:8080/"
        },
        "id": "OaHBZcM7iiyS",
        "outputId": "ac0a1d27-5219-4316-b23e-fa6696e7b804"
      },
      "source": [
        "# Other metrics\r\n",
        "print(\"accuracy: \",metrics.accuracy_score(y_true = y_test, y_pred = y_pred_lr))\r\n",
        "print(\"precision: \",metrics.precision_score(y_true = y_test, y_pred = y_pred_lr))\r\n",
        "print(\"recall: \",metrics.recall_score(y_true = y_test, y_pred = y_pred_lr))\r\n",
        "print(\"confusion matrix: \",metrics.confusion_matrix(y_test, y_pred_lr))"
      ],
      "execution_count": null,
      "outputs": [
        {
          "output_type": "stream",
          "text": [
            "accuracy:  0.6447260496080065\n",
            "precision:  0.030479440008442084\n",
            "recall:  0.697946033024567\n",
            "confusion matrix:  [[99665 55125]\n",
            " [  750  1733]]\n"
          ],
          "name": "stdout"
        }
      ]
    },
    {
      "cell_type": "code",
      "metadata": {
        "colab": {
          "base_uri": "https://localhost:8080/",
          "height": 285
        },
        "id": "k7vEkWXtg4D3",
        "outputId": "e3f84c1e-1664-46d3-bc92-7fb5f8516110"
      },
      "source": [
        "# Plot roc_auc\r\n",
        "metrics.plot_roc_curve(clf_lr, X_test, y_test)  \r\n",
        "plt.show()  "
      ],
      "execution_count": null,
      "outputs": [
        {
          "output_type": "display_data",
          "data": {
            "image/png": "[encoded data removed]",
            "text/plain": [
              "<Figure size 432x288 with 1 Axes>"
            ]
          },
          "metadata": {
            "tags": [],
            "needs_background": "light"
          }
        }
      ]
    },
    {
      "cell_type": "markdown",
      "metadata": {
        "id": "k-gk4DqGhLxx"
      },
      "source": [
        "Compare 2 roc_auc results before and after scaling the dataframe, it seems like there is not much difference. However, I will use the scaling dataframe in the following modeling experiments."
      ]
    },
    {
      "cell_type": "markdown",
      "metadata": {
        "id": "-RDAk5HVzPqh"
      },
      "source": [
        "# 4.3 XGBoost"
      ]
    },
    {
      "cell_type": "code",
      "metadata": {
        "colab": {
          "base_uri": "https://localhost:8080/"
        },
        "id": "G_8Wa35IeUD8",
        "outputId": "dfba6975-76cb-41ef-904a-9e59a9ff783c"
      },
      "source": [
        "# Fit the model\n",
        "xgb_clf = XGBClassifier(n_estimators=300, \n",
        "                        learning_rate=0.05\n",
        "                        )\n",
        "xgb_clf.fit(X_train, y_train)"
      ],
      "execution_count": null,
      "outputs": [
        {
          "output_type": "execute_result",
          "data": {
            "text/plain": [
              "XGBClassifier(base_score=0.5, booster='gbtree', colsample_bylevel=1,\n",
              "              colsample_bynode=1, colsample_bytree=1, gamma=0,\n",
              "              learning_rate=0.05, max_delta_step=0, max_depth=3,\n",
              "              min_child_weight=1, missing=None, n_estimators=300, n_jobs=1,\n",
              "              nthread=None, objective='binary:logistic', random_state=0,\n",
              "              reg_alpha=0, reg_lambda=1, scale_pos_weight=1, seed=None,\n",
              "              silent=None, subsample=1, verbosity=1)"
            ]
          },
          "metadata": {
            "tags": []
          },
          "execution_count": 19
        }
      ]
    },
    {
      "cell_type": "code",
      "metadata": {
        "id": "kVYT3vdofela"
      },
      "source": [
        "# Replace the threshold\n",
        "y_pred_xgb = xgb_clf.predict_proba(X_test)\n",
        "y_pred_xgb = np.where(y_pred_xgb[:,1]> 0.016, 1,0)"
      ],
      "execution_count": null,
      "outputs": []
    },
    {
      "cell_type": "code",
      "metadata": {
        "colab": {
          "base_uri": "https://localhost:8080/"
        },
        "id": "RcGh3NY1isDf",
        "outputId": "43d38ab2-5992-4194-b90b-381834d09f1c"
      },
      "source": [
        "# Other metrics\r\n",
        "print(\"accuracy: \",metrics.accuracy_score(y_true = y_test, y_pred = y_pred_xgb))\r\n",
        "print(\"precision: \",metrics.precision_score(y_true = y_test, y_pred = y_pred_xgb))\r\n",
        "print(\"recall: \",metrics.recall_score(y_true = y_test, y_pred = y_pred_xgb))\r\n",
        "print(\"confusion matrix: \",metrics.confusion_matrix(y_test, y_pred_xgb))"
      ],
      "execution_count": null,
      "outputs": [
        {
          "output_type": "stream",
          "text": [
            "accuracy:  0.7335652019100545\n",
            "precision:  0.03732394366197183\n",
            "recall:  0.6403544099879178\n",
            "confusion matrix:  [[113780  41010]\n",
            " [   893   1590]]\n"
          ],
          "name": "stdout"
        }
      ]
    },
    {
      "cell_type": "code",
      "metadata": {
        "colab": {
          "base_uri": "https://localhost:8080/",
          "height": 285
        },
        "id": "2nTq2eBNerPK",
        "outputId": "e1ffec0b-c303-4a6b-8849-aa6ba084b88f"
      },
      "source": [
        "# Plot roc_auc\n",
        "metrics.plot_roc_curve(xgb_clf, X_test, y_test)  \n",
        "plt.show()  "
      ],
      "execution_count": null,
      "outputs": [
        {
          "output_type": "display_data",
          "data": {
            "image/png": "[encoded data removed]",
            "text/plain": [
              "<Figure size 432x288 with 1 Axes>"
            ]
          },
          "metadata": {
            "tags": [],
            "needs_background": "light"
          }
        }
      ]
    },
    {
      "cell_type": "code",
      "metadata": {
        "colab": {
          "base_uri": "https://localhost:8080/"
        },
        "id": "DKle3IG2UGzT",
        "outputId": "2ea071d7-04da-4218-db53-6a369541910e"
      },
      "source": [
        "# Grid search\r\n",
        "xgb_clf = XGBClassifier()\r\n",
        "\r\n",
        "xgb_param_grid = {'learning_rate': np.arange(0.05, 0.15, 0.05),\r\n",
        "                  'n_estimators': np.arange(200, 400, 100)\r\n",
        "                  }\r\n",
        "\r\n",
        "random_xgb = RandomizedSearchCV(estimator=xgb_clf, \r\n",
        "                                    param_distributions=xgb_param_grid,\r\n",
        "                                    n_iter=100, \r\n",
        "                                    scoring='roc_auc', \r\n",
        "                                    cv=2,\r\n",
        "                                    verbose=1,\r\n",
        "                                    n_jobs=-1\r\n",
        "                                    )\r\n",
        "random_xgb.fit(X_train, y_train)\r\n",
        "print(\"Best parameters found: \",random_xgb.best_params_)"
      ],
      "execution_count": null,
      "outputs": [
        {
          "output_type": "stream",
          "text": [
            "Fitting 2 folds for each of 4 candidates, totalling 8 fits\n"
          ],
          "name": "stdout"
        },
        {
          "output_type": "stream",
          "text": [
            "/usr/local/lib/python3.6/dist-packages/sklearn/model_selection/_search.py:281: UserWarning: The total space of parameters 4 is smaller than n_iter=100. Running 4 iterations. For exhaustive searches, use GridSearchCV.\n",
            "  % (grid_size, self.n_iter, grid_size), UserWarning)\n",
            "[Parallel(n_jobs=-1)]: Using backend LokyBackend with 2 concurrent workers.\n",
            "[Parallel(n_jobs=-1)]: Done   8 out of   8 | elapsed:  6.0min finished\n"
          ],
          "name": "stderr"
        },
        {
          "output_type": "stream",
          "text": [
            "Best parameters found:  {'n_estimators': 200, 'learning_rate': 0.05}\n"
          ],
          "name": "stdout"
        }
      ]
    },
    {
      "cell_type": "code",
      "metadata": {
        "colab": {
          "base_uri": "https://localhost:8080/",
          "height": 285
        },
        "id": "7PHA5EFdYbJp",
        "outputId": "50b9dbd7-4ab8-448c-9f7a-dc0555e75563"
      },
      "source": [
        "# Use the best parameter to calculate roc_auc\n",
        "xgb_clf = XGBClassifier(n_estimators=200, \n",
        "                        learning_rate=0.05\n",
        "                        )\n",
        "xgb_clf.fit(X_train, y_train)\n",
        "\n",
        "metrics.plot_roc_curve(xgb_clf, X_test, y_test)  \n",
        "plt.show()  "
      ],
      "execution_count": null,
      "outputs": [
        {
          "output_type": "display_data",
          "data": {
            "image/png": "[encoded data removed]",
            "text/plain": [
              "<Figure size 432x288 with 1 Axes>"
            ]
          },
          "metadata": {
            "tags": [],
            "needs_background": "light"
          }
        }
      ]
    },
    {
      "cell_type": "markdown",
      "metadata": {
        "id": "4W8lMxFL2bNO"
      },
      "source": [
        "## 4.4 LightGBM"
      ]
    },
    {
      "cell_type": "code",
      "metadata": {
        "colab": {
          "base_uri": "https://localhost:8080/"
        },
        "id": "GCa-dQ56fuRY",
        "outputId": "72dc6684-44b1-403f-d7de-2659c4de80f5"
      },
      "source": [
        "# Fit the model\n",
        "lgb_clf = LGBMClassifier(n_estimators = 200, \n",
        "                         max_depth=10,\n",
        "                         learning_rate = 0.1\n",
        "                         )\n",
        "lgb_clf.fit(X_train, y_train)"
      ],
      "execution_count": null,
      "outputs": [
        {
          "output_type": "execute_result",
          "data": {
            "text/plain": [
              "LGBMClassifier(boosting_type='gbdt', class_weight=None, colsample_bytree=1.0,\n",
              "               importance_type='split', learning_rate=0.1, max_depth=10,\n",
              "               min_child_samples=20, min_child_weight=0.001, min_split_gain=0.0,\n",
              "               n_estimators=200, n_jobs=-1, num_leaves=31, objective=None,\n",
              "               random_state=None, reg_alpha=0.0, reg_lambda=0.0, silent=True,\n",
              "               subsample=1.0, subsample_for_bin=200000, subsample_freq=0)"
            ]
          },
          "metadata": {
            "tags": []
          },
          "execution_count": 25
        }
      ]
    },
    {
      "cell_type": "code",
      "metadata": {
        "id": "5gOPI-xf1YgT"
      },
      "source": [
        "# Replace the threshold\r\n",
        "y_pred_lgb = lgb_clf.predict_proba(X_test)\r\n",
        "y_pred_lgb = np.where(y_pred_lgb[:,1]> 0.016, 1,0)"
      ],
      "execution_count": null,
      "outputs": []
    },
    {
      "cell_type": "code",
      "metadata": {
        "colab": {
          "base_uri": "https://localhost:8080/"
        },
        "id": "v3Ug8x5ejGNn",
        "outputId": "d4d76f4f-cf56-486f-9f03-e6ea9a7b7d82"
      },
      "source": [
        "# Other metrics\r\n",
        "print(\"accuracy: \",metrics.accuracy_score(y_true = y_test, y_pred = y_pred_lgb))\r\n",
        "print(\"precision: \",metrics.precision_score(y_true = y_test, y_pred = y_pred_lgb))\r\n",
        "print(\"recall: \",metrics.recall_score(y_true = y_test, y_pred = y_pred_lgb))\r\n",
        "print(\"confusion matrix: \",metrics.confusion_matrix(y_test, y_pred_lgb))"
      ],
      "execution_count": null,
      "outputs": [
        {
          "output_type": "stream",
          "text": [
            "accuracy:  0.7102617741125304\n",
            "precision:  0.03493016126594849\n",
            "recall:  0.6516310914216673\n",
            "confusion matrix:  [[110087  44703]\n",
            " [   865   1618]]\n"
          ],
          "name": "stdout"
        }
      ]
    },
    {
      "cell_type": "code",
      "metadata": {
        "colab": {
          "base_uri": "https://localhost:8080/",
          "height": 285
        },
        "id": "85Tmrx2sgM3a",
        "outputId": "9728fc04-0b46-4ea3-ca25-986c44f58091"
      },
      "source": [
        "# Plot roc_auc\n",
        "metrics.plot_roc_curve(lgb_clf, X_test, y_test)  \n",
        "plt.show()  "
      ],
      "execution_count": null,
      "outputs": [
        {
          "output_type": "display_data",
          "data": {
            "image/png": "[encoded data removed]",
            "text/plain": [
              "<Figure size 432x288 with 1 Axes>"
            ]
          },
          "metadata": {
            "tags": [],
            "needs_background": "light"
          }
        }
      ]
    },
    {
      "cell_type": "code",
      "metadata": {
        "colab": {
          "base_uri": "https://localhost:8080/"
        },
        "id": "s-D_IG-kTJWI",
        "outputId": "fe1a6329-5464-4035-d9b5-37d8b1d971e1"
      },
      "source": [
        "# Grid search\r\n",
        "lgb_clf = LGBMClassifier()\r\n",
        "\r\n",
        "lgb_param_grid = {'learning_rate': np.arange(0.05, 0.15, 0.05),\r\n",
        "                  'n_estimators': np.arange(200, 600, 200),\r\n",
        "                  'max_depth': [5,10]\r\n",
        "                  }\r\n",
        "\r\n",
        "random_lgb = RandomizedSearchCV(estimator=lgb_clf, \r\n",
        "                                    param_distributions=lgb_param_grid,\r\n",
        "                                    n_iter=100, \r\n",
        "                                    scoring='roc_auc', \r\n",
        "                                    cv=2, \r\n",
        "                                    verbose=1,\r\n",
        "                                    n_jobs=-1\r\n",
        "                                    )\r\n",
        "random_lgb.fit(X_train, y_train)\r\n",
        "print(\"Best parameters found: \",random_lgb.best_params_)"
      ],
      "execution_count": null,
      "outputs": [
        {
          "output_type": "stream",
          "text": [
            "/usr/local/lib/python3.6/dist-packages/sklearn/model_selection/_search.py:281: UserWarning: The total space of parameters 8 is smaller than n_iter=100. Running 8 iterations. For exhaustive searches, use GridSearchCV.\n",
            "  % (grid_size, self.n_iter, grid_size), UserWarning)\n",
            "[Parallel(n_jobs=-1)]: Using backend LokyBackend with 2 concurrent workers.\n"
          ],
          "name": "stderr"
        },
        {
          "output_type": "stream",
          "text": [
            "Fitting 2 folds for each of 8 candidates, totalling 16 fits\n"
          ],
          "name": "stdout"
        },
        {
          "output_type": "stream",
          "text": [
            "[Parallel(n_jobs=-1)]: Done  16 out of  16 | elapsed:  2.6min finished\n"
          ],
          "name": "stderr"
        },
        {
          "output_type": "stream",
          "text": [
            "Best parameters found:  {'n_estimators': 200, 'max_depth': 10, 'learning_rate': 0.05}\n"
          ],
          "name": "stdout"
        }
      ]
    },
    {
      "cell_type": "code",
      "metadata": {
        "colab": {
          "base_uri": "https://localhost:8080/",
          "height": 285
        },
        "id": "HXJj4HKra-zP",
        "outputId": "483db970-8b8b-4e84-aaa1-25474b945662"
      },
      "source": [
        "# Use the best parameter to caculate roc_auc\r\n",
        "lgb_clf = LGBMClassifier(n_estimators = 200, \r\n",
        "                         max_depth=10,\r\n",
        "                         learning_rate = 0.05\r\n",
        "                         )\r\n",
        "lgb_clf.fit(X_train, y_train)\r\n",
        "\r\n",
        "metrics.plot_roc_curve(lgb_clf, X_test, y_test)  \r\n",
        "plt.show()  "
      ],
      "execution_count": null,
      "outputs": [
        {
          "output_type": "display_data",
          "data": {
            "image/png": "[encoded data removed]",
            "text/plain": [
              "<Figure size 432x288 with 1 Axes>"
            ]
          },
          "metadata": {
            "tags": [],
            "needs_background": "light"
          }
        }
      ]
    },
    {
      "cell_type": "code",
      "metadata": {
        "colab": {
          "base_uri": "https://localhost:8080/",
          "height": 535
        },
        "id": "kKL__QyZhpzl",
        "outputId": "1a03a065-77ec-427b-bc29-784975ff8ede"
      },
      "source": [
        "sns.set(rc={'figure.figsize':(12,8)})\r\n",
        "plot_importance(lgb_clf)"
      ],
      "execution_count": null,
      "outputs": [
        {
          "output_type": "execute_result",
          "data": {
            "text/plain": [
              "<matplotlib.axes._subplots.AxesSubplot at 0x7fc517b7ac88>"
            ]
          },
          "metadata": {
            "tags": []
          },
          "execution_count": 31
        },
        {
          "output_type": "display_data",
          "data": {
            "image/png": "[encoded data removed]",
            "text/plain": [
              "<Figure size 864x576 with 1 Axes>"
            ]
          },
          "metadata": {
            "tags": []
          }
        }
      ]
    },
    {
      "cell_type": "markdown",
      "metadata": {
        "id": "FRBXgHOvlE2D"
      },
      "source": [
        "For this feature combination, XGBoost and LightGBM both achieved 0.74 for the roc_auc, outperforming Logistic regression. Additionally, LightGBM was computationally faster than XGBoost."
      ]
    }
  ]
}
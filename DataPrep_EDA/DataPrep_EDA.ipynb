{
  "nbformat": 4,
  "nbformat_minor": 0,
  "metadata": {
    "colab": {
      "name": "Bank_Project_Ben_DataPrep.ipynb",
      "provenance": [],
      "collapsed_sections": []
    },
    "kernelspec": {
      "display_name": "Python 3",
      "name": "python3"
    }
  },
  "cells": [
    {
      "cell_type": "markdown",
      "metadata": {
        "id": "hcy7u7msC7_P"
      },
      "source": [
        "# Fraud detection using credit card transcation data"
      ]
    },
    {
      "cell_type": "markdown",
      "metadata": {
        "id": "5PF6i3VYYtGv"
      },
      "source": [
        "## 1. Load the data\n",
        "\n"
      ]
    },
    {
      "cell_type": "code",
      "metadata": {
        "id": "QcR1N7GUDKom"
      },
      "source": [
        "import pandas as pd\n",
        "import numpy as np\n",
        "import seaborn as sns\n",
        "import matplotlib.pyplot as plt\n",
        "import json\n",
        "sns.set(rc={'figure.figsize':(10,6)})"
      ],
      "execution_count": 1,
      "outputs": []
    },
    {
      "cell_type": "code",
      "metadata": {
        "colab": {
          "base_uri": "https://localhost:8080/"
        },
        "id": "2gFlvhRJDQdR",
        "outputId": "803e01fd-1758-438f-908b-bbc16c0d054d"
      },
      "source": [
        "# Top 10 rows\n",
        "with open('/content/drive/MyDrive/data/transactions.txt') as f:\n",
        "    i=1\n",
        "    for x in f:\n",
        "      i+=1      \n",
        "      print(x.rstrip())\n",
        "      if (i > 10):\n",
        "        break"
      ],
      "execution_count": 2,
      "outputs": [
        {
          "output_type": "stream",
          "text": [
            "{\"accountNumber\": \"737265056\", \"customerId\": \"737265056\", \"creditLimit\": 5000.0, \"availableMoney\": 5000.0, \"transactionDateTime\": \"2016-08-13T14:27:32\", \"transactionAmount\": 98.55, \"merchantName\": \"Uber\", \"acqCountry\": \"US\", \"merchantCountryCode\": \"US\", \"posEntryMode\": \"02\", \"posConditionCode\": \"01\", \"merchantCategoryCode\": \"rideshare\", \"currentExpDate\": \"06/2023\", \"accountOpenDate\": \"2015-03-14\", \"dateOfLastAddressChange\": \"2015-03-14\", \"cardCVV\": \"414\", \"enteredCVV\": \"414\", \"cardLast4Digits\": \"1803\", \"transactionType\": \"PURCHASE\", \"echoBuffer\": \"\", \"currentBalance\": 0.0, \"merchantCity\": \"\", \"merchantState\": \"\", \"merchantZip\": \"\", \"cardPresent\": false, \"posOnPremises\": \"\", \"recurringAuthInd\": \"\", \"expirationDateKeyInMatch\": false, \"isFraud\": false}\n",
            "{\"accountNumber\": \"737265056\", \"customerId\": \"737265056\", \"creditLimit\": 5000.0, \"availableMoney\": 5000.0, \"transactionDateTime\": \"2016-10-11T05:05:54\", \"transactionAmount\": 74.51, \"merchantName\": \"AMC #191138\", \"acqCountry\": \"US\", \"merchantCountryCode\": \"US\", \"posEntryMode\": \"09\", \"posConditionCode\": \"01\", \"merchantCategoryCode\": \"entertainment\", \"cardPresent\": true, \"currentExpDate\": \"02/2024\", \"accountOpenDate\": \"2015-03-14\", \"dateOfLastAddressChange\": \"2015-03-14\", \"cardCVV\": \"486\", \"enteredCVV\": \"486\", \"cardLast4Digits\": \"767\", \"transactionType\": \"PURCHASE\", \"echoBuffer\": \"\", \"currentBalance\": 0.0, \"merchantCity\": \"\", \"merchantState\": \"\", \"merchantZip\": \"\", \"posOnPremises\": \"\", \"recurringAuthInd\": \"\", \"expirationDateKeyInMatch\": false, \"isFraud\": false}\n",
            "{\"accountNumber\": \"737265056\", \"customerId\": \"737265056\", \"creditLimit\": 5000.0, \"availableMoney\": 5000.0, \"transactionDateTime\": \"2016-11-08T09:18:39\", \"transactionAmount\": 7.47, \"merchantName\": \"Play Store\", \"acqCountry\": \"US\", \"merchantCountryCode\": \"US\", \"posEntryMode\": \"09\", \"posConditionCode\": \"01\", \"merchantCategoryCode\": \"mobileapps\", \"currentExpDate\": \"08/2025\", \"accountOpenDate\": \"2015-03-14\", \"dateOfLastAddressChange\": \"2015-03-14\", \"cardCVV\": \"486\", \"enteredCVV\": \"486\", \"cardLast4Digits\": \"767\", \"transactionType\": \"PURCHASE\", \"echoBuffer\": \"\", \"currentBalance\": 0.0, \"merchantCity\": \"\", \"merchantState\": \"\", \"merchantZip\": \"\", \"cardPresent\": false, \"posOnPremises\": \"\", \"recurringAuthInd\": \"\", \"expirationDateKeyInMatch\": false, \"isFraud\": false}\n",
            "{\"accountNumber\": \"737265056\", \"customerId\": \"737265056\", \"creditLimit\": 5000.0, \"availableMoney\": 5000.0, \"transactionDateTime\": \"2016-12-10T02:14:50\", \"transactionAmount\": 7.47, \"merchantName\": \"Play Store\", \"acqCountry\": \"US\", \"merchantCountryCode\": \"US\", \"posEntryMode\": \"09\", \"posConditionCode\": \"01\", \"merchantCategoryCode\": \"mobileapps\", \"currentExpDate\": \"08/2025\", \"accountOpenDate\": \"2015-03-14\", \"dateOfLastAddressChange\": \"2015-03-14\", \"cardCVV\": \"486\", \"enteredCVV\": \"486\", \"cardLast4Digits\": \"767\", \"transactionType\": \"PURCHASE\", \"echoBuffer\": \"\", \"currentBalance\": 0.0, \"merchantCity\": \"\", \"merchantState\": \"\", \"merchantZip\": \"\", \"cardPresent\": false, \"posOnPremises\": \"\", \"recurringAuthInd\": \"\", \"expirationDateKeyInMatch\": false, \"isFraud\": false}\n",
            "{\"accountNumber\": \"830329091\", \"customerId\": \"830329091\", \"creditLimit\": 5000.0, \"availableMoney\": 5000.0, \"transactionDateTime\": \"2016-03-24T21:04:46\", \"transactionAmount\": 71.18, \"merchantName\": \"Tim Hortons #947751\", \"acqCountry\": \"US\", \"merchantCountryCode\": \"US\", \"posEntryMode\": \"02\", \"posConditionCode\": \"01\", \"merchantCategoryCode\": \"fastfood\", \"cardPresent\": true, \"currentExpDate\": \"10/2029\", \"accountOpenDate\": \"2015-08-06\", \"dateOfLastAddressChange\": \"2015-08-06\", \"cardCVV\": \"885\", \"enteredCVV\": \"885\", \"cardLast4Digits\": \"3143\", \"transactionType\": \"PURCHASE\", \"echoBuffer\": \"\", \"currentBalance\": 0.0, \"merchantCity\": \"\", \"merchantState\": \"\", \"merchantZip\": \"\", \"posOnPremises\": \"\", \"recurringAuthInd\": \"\", \"expirationDateKeyInMatch\": false, \"isFraud\": false}\n",
            "{\"accountNumber\": \"830329091\", \"customerId\": \"830329091\", \"creditLimit\": 5000.0, \"availableMoney\": 5000.0, \"transactionDateTime\": \"2016-04-19T16:24:27\", \"transactionAmount\": 30.76, \"merchantName\": \"In-N-Out #422833\", \"acqCountry\": \"US\", \"merchantCountryCode\": \"US\", \"posEntryMode\": \"02\", \"posConditionCode\": \"01\", \"merchantCategoryCode\": \"fastfood\", \"cardPresent\": true, \"currentExpDate\": \"01/2020\", \"accountOpenDate\": \"2015-08-06\", \"dateOfLastAddressChange\": \"2015-08-06\", \"cardCVV\": \"885\", \"enteredCVV\": \"885\", \"cardLast4Digits\": \"3143\", \"transactionType\": \"PURCHASE\", \"echoBuffer\": \"\", \"currentBalance\": 0.0, \"merchantCity\": \"\", \"merchantState\": \"\", \"merchantZip\": \"\", \"posOnPremises\": \"\", \"recurringAuthInd\": \"\", \"expirationDateKeyInMatch\": false, \"isFraud\": false}\n",
            "{\"accountNumber\": \"830329091\", \"customerId\": \"830329091\", \"creditLimit\": 5000.0, \"availableMoney\": 5000.0, \"transactionDateTime\": \"2016-05-21T14:50:35\", \"transactionAmount\": 57.28, \"merchantName\": \"Krispy Kreme #685312\", \"acqCountry\": \"US\", \"merchantCountryCode\": \"US\", \"posEntryMode\": \"02\", \"posConditionCode\": \"01\", \"merchantCategoryCode\": \"fastfood\", \"cardPresent\": true, \"currentExpDate\": \"05/2020\", \"accountOpenDate\": \"2015-08-06\", \"dateOfLastAddressChange\": \"2015-08-06\", \"cardCVV\": \"885\", \"enteredCVV\": \"885\", \"cardLast4Digits\": \"3143\", \"transactionType\": \"PURCHASE\", \"echoBuffer\": \"\", \"currentBalance\": 0.0, \"merchantCity\": \"\", \"merchantState\": \"\", \"merchantZip\": \"\", \"posOnPremises\": \"\", \"recurringAuthInd\": \"\", \"expirationDateKeyInMatch\": false, \"isFraud\": false}\n",
            "{\"accountNumber\": \"830329091\", \"customerId\": \"830329091\", \"creditLimit\": 5000.0, \"availableMoney\": 5000.0, \"transactionDateTime\": \"2016-06-03T00:31:21\", \"transactionAmount\": 9.37, \"merchantName\": \"Shake Shack #968081\", \"acqCountry\": \"US\", \"merchantCountryCode\": \"US\", \"posEntryMode\": \"05\", \"posConditionCode\": \"01\", \"merchantCategoryCode\": \"fastfood\", \"cardPresent\": true, \"currentExpDate\": \"01/2021\", \"accountOpenDate\": \"2015-08-06\", \"dateOfLastAddressChange\": \"2015-08-06\", \"cardCVV\": \"885\", \"enteredCVV\": \"885\", \"cardLast4Digits\": \"3143\", \"transactionType\": \"PURCHASE\", \"echoBuffer\": \"\", \"currentBalance\": 0.0, \"merchantCity\": \"\", \"merchantState\": \"\", \"merchantZip\": \"\", \"posOnPremises\": \"\", \"recurringAuthInd\": \"\", \"expirationDateKeyInMatch\": false, \"isFraud\": false}\n",
            "{\"accountNumber\": \"830329091\", \"customerId\": \"830329091\", \"creditLimit\": 5000.0, \"availableMoney\": 4990.63, \"currentBalance\": 9.37, \"transactionDateTime\": \"2016-06-10T01:21:46\", \"transactionAmount\": 523.67, \"merchantName\": \"Burger King #486122\", \"merchantCountryCode\": \"US\", \"posEntryMode\": \"02\", \"posConditionCode\": \"01\", \"merchantCategoryCode\": \"fastfood\", \"cardPresent\": true, \"currentExpDate\": \"08/2032\", \"accountOpenDate\": \"2015-08-06\", \"dateOfLastAddressChange\": \"2015-08-06\", \"cardCVV\": \"885\", \"enteredCVV\": \"885\", \"cardLast4Digits\": \"3143\", \"transactionType\": \"PURCHASE\", \"echoBuffer\": \"\", \"merchantCity\": \"\", \"merchantState\": \"\", \"merchantZip\": \"\", \"acqCountry\": \"\", \"posOnPremises\": \"\", \"recurringAuthInd\": \"\", \"expirationDateKeyInMatch\": false, \"isFraud\": false}\n",
            "{\"accountNumber\": \"830329091\", \"customerId\": \"830329091\", \"creditLimit\": 5000.0, \"availableMoney\": 5000.0, \"transactionDateTime\": \"2016-07-11T10:47:16\", \"transactionAmount\": 164.37, \"merchantName\": \"Five Guys #510989\", \"acqCountry\": \"US\", \"merchantCountryCode\": \"US\", \"posEntryMode\": \"05\", \"posConditionCode\": \"08\", \"merchantCategoryCode\": \"fastfood\", \"cardPresent\": true, \"currentExpDate\": \"04/2020\", \"accountOpenDate\": \"2015-08-06\", \"dateOfLastAddressChange\": \"2015-08-06\", \"cardCVV\": \"885\", \"enteredCVV\": \"885\", \"cardLast4Digits\": \"3143\", \"transactionType\": \"PURCHASE\", \"echoBuffer\": \"\", \"currentBalance\": 0.0, \"merchantCity\": \"\", \"merchantState\": \"\", \"merchantZip\": \"\", \"posOnPremises\": \"\", \"recurringAuthInd\": \"\", \"expirationDateKeyInMatch\": false, \"isFraud\": false}\n"
          ],
          "name": "stdout"
        }
      ]
    },
    {
      "cell_type": "code",
      "metadata": {
        "id": "hImq9AU8DA05"
      },
      "source": [
        "# Load data and transfrom it to a dataframe\n",
        "data = []\n",
        "with open('/content/drive/MyDrive/Vic_ML_20201104/data/transactions.txt') as f:\n",
        "    for x in f:\n",
        "        data.append(json.loads(x))\n",
        "\n",
        "df = pd.DataFrame(data)\n",
        "\n",
        "del data"
      ],
      "execution_count": 3,
      "outputs": []
    },
    {
      "cell_type": "code",
      "metadata": {
        "id": "zvptD3oxGnk9"
      },
      "source": [
        "df.to_csv('creditcard.csv') "
      ],
      "execution_count": 4,
      "outputs": []
    },
    {
      "cell_type": "code",
      "metadata": {
        "colab": {
          "base_uri": "https://localhost:8080/",
          "height": 241
        },
        "id": "oY4NSxLVDL2a",
        "outputId": "ffb882d3-6cb8-433e-d692-4bb814f23feb"
      },
      "source": [
        "df.head()"
      ],
      "execution_count": 5,
      "outputs": [
        {
          "output_type": "execute_result",
          "data": {
            "text/html": [
              "<div>\n",
              "<style scoped>\n",
              "    .dataframe tbody tr th:only-of-type {\n",
              "        vertical-align: middle;\n",
              "    }\n",
              "\n",
              "    .dataframe tbody tr th {\n",
              "        vertical-align: top;\n",
              "    }\n",
              "\n",
              "    .dataframe thead th {\n",
              "        text-align: right;\n",
              "    }\n",
              "</style>\n",
              "<table border=\"1\" class=\"dataframe\">\n",
              "  <thead>\n",
              "    <tr style=\"text-align: right;\">\n",
              "      <th></th>\n",
              "      <th>accountNumber</th>\n",
              "      <th>customerId</th>\n",
              "      <th>creditLimit</th>\n",
              "      <th>availableMoney</th>\n",
              "      <th>transactionDateTime</th>\n",
              "      <th>transactionAmount</th>\n",
              "      <th>merchantName</th>\n",
              "      <th>acqCountry</th>\n",
              "      <th>merchantCountryCode</th>\n",
              "      <th>posEntryMode</th>\n",
              "      <th>posConditionCode</th>\n",
              "      <th>merchantCategoryCode</th>\n",
              "      <th>currentExpDate</th>\n",
              "      <th>accountOpenDate</th>\n",
              "      <th>dateOfLastAddressChange</th>\n",
              "      <th>cardCVV</th>\n",
              "      <th>enteredCVV</th>\n",
              "      <th>cardLast4Digits</th>\n",
              "      <th>transactionType</th>\n",
              "      <th>echoBuffer</th>\n",
              "      <th>currentBalance</th>\n",
              "      <th>merchantCity</th>\n",
              "      <th>merchantState</th>\n",
              "      <th>merchantZip</th>\n",
              "      <th>cardPresent</th>\n",
              "      <th>posOnPremises</th>\n",
              "      <th>recurringAuthInd</th>\n",
              "      <th>expirationDateKeyInMatch</th>\n",
              "      <th>isFraud</th>\n",
              "    </tr>\n",
              "  </thead>\n",
              "  <tbody>\n",
              "    <tr>\n",
              "      <th>0</th>\n",
              "      <td>737265056</td>\n",
              "      <td>737265056</td>\n",
              "      <td>5000.0</td>\n",
              "      <td>5000.0</td>\n",
              "      <td>2016-08-13T14:27:32</td>\n",
              "      <td>98.55</td>\n",
              "      <td>Uber</td>\n",
              "      <td>US</td>\n",
              "      <td>US</td>\n",
              "      <td>02</td>\n",
              "      <td>01</td>\n",
              "      <td>rideshare</td>\n",
              "      <td>06/2023</td>\n",
              "      <td>2015-03-14</td>\n",
              "      <td>2015-03-14</td>\n",
              "      <td>414</td>\n",
              "      <td>414</td>\n",
              "      <td>1803</td>\n",
              "      <td>PURCHASE</td>\n",
              "      <td></td>\n",
              "      <td>0.0</td>\n",
              "      <td></td>\n",
              "      <td></td>\n",
              "      <td></td>\n",
              "      <td>False</td>\n",
              "      <td></td>\n",
              "      <td></td>\n",
              "      <td>False</td>\n",
              "      <td>False</td>\n",
              "    </tr>\n",
              "    <tr>\n",
              "      <th>1</th>\n",
              "      <td>737265056</td>\n",
              "      <td>737265056</td>\n",
              "      <td>5000.0</td>\n",
              "      <td>5000.0</td>\n",
              "      <td>2016-10-11T05:05:54</td>\n",
              "      <td>74.51</td>\n",
              "      <td>AMC #191138</td>\n",
              "      <td>US</td>\n",
              "      <td>US</td>\n",
              "      <td>09</td>\n",
              "      <td>01</td>\n",
              "      <td>entertainment</td>\n",
              "      <td>02/2024</td>\n",
              "      <td>2015-03-14</td>\n",
              "      <td>2015-03-14</td>\n",
              "      <td>486</td>\n",
              "      <td>486</td>\n",
              "      <td>767</td>\n",
              "      <td>PURCHASE</td>\n",
              "      <td></td>\n",
              "      <td>0.0</td>\n",
              "      <td></td>\n",
              "      <td></td>\n",
              "      <td></td>\n",
              "      <td>True</td>\n",
              "      <td></td>\n",
              "      <td></td>\n",
              "      <td>False</td>\n",
              "      <td>False</td>\n",
              "    </tr>\n",
              "    <tr>\n",
              "      <th>2</th>\n",
              "      <td>737265056</td>\n",
              "      <td>737265056</td>\n",
              "      <td>5000.0</td>\n",
              "      <td>5000.0</td>\n",
              "      <td>2016-11-08T09:18:39</td>\n",
              "      <td>7.47</td>\n",
              "      <td>Play Store</td>\n",
              "      <td>US</td>\n",
              "      <td>US</td>\n",
              "      <td>09</td>\n",
              "      <td>01</td>\n",
              "      <td>mobileapps</td>\n",
              "      <td>08/2025</td>\n",
              "      <td>2015-03-14</td>\n",
              "      <td>2015-03-14</td>\n",
              "      <td>486</td>\n",
              "      <td>486</td>\n",
              "      <td>767</td>\n",
              "      <td>PURCHASE</td>\n",
              "      <td></td>\n",
              "      <td>0.0</td>\n",
              "      <td></td>\n",
              "      <td></td>\n",
              "      <td></td>\n",
              "      <td>False</td>\n",
              "      <td></td>\n",
              "      <td></td>\n",
              "      <td>False</td>\n",
              "      <td>False</td>\n",
              "    </tr>\n",
              "    <tr>\n",
              "      <th>3</th>\n",
              "      <td>737265056</td>\n",
              "      <td>737265056</td>\n",
              "      <td>5000.0</td>\n",
              "      <td>5000.0</td>\n",
              "      <td>2016-12-10T02:14:50</td>\n",
              "      <td>7.47</td>\n",
              "      <td>Play Store</td>\n",
              "      <td>US</td>\n",
              "      <td>US</td>\n",
              "      <td>09</td>\n",
              "      <td>01</td>\n",
              "      <td>mobileapps</td>\n",
              "      <td>08/2025</td>\n",
              "      <td>2015-03-14</td>\n",
              "      <td>2015-03-14</td>\n",
              "      <td>486</td>\n",
              "      <td>486</td>\n",
              "      <td>767</td>\n",
              "      <td>PURCHASE</td>\n",
              "      <td></td>\n",
              "      <td>0.0</td>\n",
              "      <td></td>\n",
              "      <td></td>\n",
              "      <td></td>\n",
              "      <td>False</td>\n",
              "      <td></td>\n",
              "      <td></td>\n",
              "      <td>False</td>\n",
              "      <td>False</td>\n",
              "    </tr>\n",
              "    <tr>\n",
              "      <th>4</th>\n",
              "      <td>830329091</td>\n",
              "      <td>830329091</td>\n",
              "      <td>5000.0</td>\n",
              "      <td>5000.0</td>\n",
              "      <td>2016-03-24T21:04:46</td>\n",
              "      <td>71.18</td>\n",
              "      <td>Tim Hortons #947751</td>\n",
              "      <td>US</td>\n",
              "      <td>US</td>\n",
              "      <td>02</td>\n",
              "      <td>01</td>\n",
              "      <td>fastfood</td>\n",
              "      <td>10/2029</td>\n",
              "      <td>2015-08-06</td>\n",
              "      <td>2015-08-06</td>\n",
              "      <td>885</td>\n",
              "      <td>885</td>\n",
              "      <td>3143</td>\n",
              "      <td>PURCHASE</td>\n",
              "      <td></td>\n",
              "      <td>0.0</td>\n",
              "      <td></td>\n",
              "      <td></td>\n",
              "      <td></td>\n",
              "      <td>True</td>\n",
              "      <td></td>\n",
              "      <td></td>\n",
              "      <td>False</td>\n",
              "      <td>False</td>\n",
              "    </tr>\n",
              "  </tbody>\n",
              "</table>\n",
              "</div>"
            ],
            "text/plain": [
              "  accountNumber customerId  ...  expirationDateKeyInMatch  isFraud\n",
              "0     737265056  737265056  ...                     False    False\n",
              "1     737265056  737265056  ...                     False    False\n",
              "2     737265056  737265056  ...                     False    False\n",
              "3     737265056  737265056  ...                     False    False\n",
              "4     830329091  830329091  ...                     False    False\n",
              "\n",
              "[5 rows x 29 columns]"
            ]
          },
          "metadata": {
            "tags": []
          },
          "execution_count": 5
        }
      ]
    },
    {
      "cell_type": "code",
      "metadata": {
        "colab": {
          "base_uri": "https://localhost:8080/"
        },
        "id": "RNiHZaB5GnJy",
        "outputId": "f53fe498-f14b-4b01-e13d-a7ded76ddc9d"
      },
      "source": [
        "df.shape"
      ],
      "execution_count": 6,
      "outputs": [
        {
          "output_type": "execute_result",
          "data": {
            "text/plain": [
              "(786363, 29)"
            ]
          },
          "metadata": {
            "tags": []
          },
          "execution_count": 6
        }
      ]
    },
    {
      "cell_type": "code",
      "metadata": {
        "colab": {
          "base_uri": "https://localhost:8080/",
          "height": 410
        },
        "id": "RTdpTiMfHdVn",
        "outputId": "4818d2e5-296d-4b01-b242-ce45dd0eeeeb"
      },
      "source": [
        "df.describe(include='all')"
      ],
      "execution_count": 7,
      "outputs": [
        {
          "output_type": "execute_result",
          "data": {
            "text/html": [
              "<div>\n",
              "<style scoped>\n",
              "    .dataframe tbody tr th:only-of-type {\n",
              "        vertical-align: middle;\n",
              "    }\n",
              "\n",
              "    .dataframe tbody tr th {\n",
              "        vertical-align: top;\n",
              "    }\n",
              "\n",
              "    .dataframe thead th {\n",
              "        text-align: right;\n",
              "    }\n",
              "</style>\n",
              "<table border=\"1\" class=\"dataframe\">\n",
              "  <thead>\n",
              "    <tr style=\"text-align: right;\">\n",
              "      <th></th>\n",
              "      <th>accountNumber</th>\n",
              "      <th>customerId</th>\n",
              "      <th>creditLimit</th>\n",
              "      <th>availableMoney</th>\n",
              "      <th>transactionDateTime</th>\n",
              "      <th>transactionAmount</th>\n",
              "      <th>merchantName</th>\n",
              "      <th>acqCountry</th>\n",
              "      <th>merchantCountryCode</th>\n",
              "      <th>posEntryMode</th>\n",
              "      <th>posConditionCode</th>\n",
              "      <th>merchantCategoryCode</th>\n",
              "      <th>currentExpDate</th>\n",
              "      <th>accountOpenDate</th>\n",
              "      <th>dateOfLastAddressChange</th>\n",
              "      <th>cardCVV</th>\n",
              "      <th>enteredCVV</th>\n",
              "      <th>cardLast4Digits</th>\n",
              "      <th>transactionType</th>\n",
              "      <th>echoBuffer</th>\n",
              "      <th>currentBalance</th>\n",
              "      <th>merchantCity</th>\n",
              "      <th>merchantState</th>\n",
              "      <th>merchantZip</th>\n",
              "      <th>cardPresent</th>\n",
              "      <th>posOnPremises</th>\n",
              "      <th>recurringAuthInd</th>\n",
              "      <th>expirationDateKeyInMatch</th>\n",
              "      <th>isFraud</th>\n",
              "    </tr>\n",
              "  </thead>\n",
              "  <tbody>\n",
              "    <tr>\n",
              "      <th>count</th>\n",
              "      <td>786363</td>\n",
              "      <td>786363</td>\n",
              "      <td>786363.000000</td>\n",
              "      <td>786363.000000</td>\n",
              "      <td>786363</td>\n",
              "      <td>786363.000000</td>\n",
              "      <td>786363</td>\n",
              "      <td>786363</td>\n",
              "      <td>786363</td>\n",
              "      <td>786363</td>\n",
              "      <td>786363</td>\n",
              "      <td>786363</td>\n",
              "      <td>786363</td>\n",
              "      <td>786363</td>\n",
              "      <td>786363</td>\n",
              "      <td>786363</td>\n",
              "      <td>786363</td>\n",
              "      <td>786363</td>\n",
              "      <td>786363</td>\n",
              "      <td>786363</td>\n",
              "      <td>786363.000000</td>\n",
              "      <td>786363</td>\n",
              "      <td>786363</td>\n",
              "      <td>786363</td>\n",
              "      <td>786363</td>\n",
              "      <td>786363</td>\n",
              "      <td>786363</td>\n",
              "      <td>786363</td>\n",
              "      <td>786363</td>\n",
              "    </tr>\n",
              "    <tr>\n",
              "      <th>unique</th>\n",
              "      <td>5000</td>\n",
              "      <td>5000</td>\n",
              "      <td>NaN</td>\n",
              "      <td>NaN</td>\n",
              "      <td>776637</td>\n",
              "      <td>NaN</td>\n",
              "      <td>2490</td>\n",
              "      <td>5</td>\n",
              "      <td>5</td>\n",
              "      <td>6</td>\n",
              "      <td>4</td>\n",
              "      <td>19</td>\n",
              "      <td>165</td>\n",
              "      <td>1820</td>\n",
              "      <td>2184</td>\n",
              "      <td>899</td>\n",
              "      <td>976</td>\n",
              "      <td>5246</td>\n",
              "      <td>4</td>\n",
              "      <td>1</td>\n",
              "      <td>NaN</td>\n",
              "      <td>1</td>\n",
              "      <td>1</td>\n",
              "      <td>1</td>\n",
              "      <td>2</td>\n",
              "      <td>1</td>\n",
              "      <td>1</td>\n",
              "      <td>2</td>\n",
              "      <td>2</td>\n",
              "    </tr>\n",
              "    <tr>\n",
              "      <th>top</th>\n",
              "      <td>380680241</td>\n",
              "      <td>380680241</td>\n",
              "      <td>NaN</td>\n",
              "      <td>NaN</td>\n",
              "      <td>2016-12-25T14:04:15</td>\n",
              "      <td>NaN</td>\n",
              "      <td>Uber</td>\n",
              "      <td>US</td>\n",
              "      <td>US</td>\n",
              "      <td>05</td>\n",
              "      <td>01</td>\n",
              "      <td>online_retail</td>\n",
              "      <td>03/2029</td>\n",
              "      <td>2014-06-21</td>\n",
              "      <td>2016-03-15</td>\n",
              "      <td>869</td>\n",
              "      <td>869</td>\n",
              "      <td>593</td>\n",
              "      <td>PURCHASE</td>\n",
              "      <td></td>\n",
              "      <td>NaN</td>\n",
              "      <td></td>\n",
              "      <td></td>\n",
              "      <td></td>\n",
              "      <td>False</td>\n",
              "      <td></td>\n",
              "      <td></td>\n",
              "      <td>False</td>\n",
              "      <td>False</td>\n",
              "    </tr>\n",
              "    <tr>\n",
              "      <th>freq</th>\n",
              "      <td>32850</td>\n",
              "      <td>32850</td>\n",
              "      <td>NaN</td>\n",
              "      <td>NaN</td>\n",
              "      <td>4</td>\n",
              "      <td>NaN</td>\n",
              "      <td>25613</td>\n",
              "      <td>774709</td>\n",
              "      <td>778511</td>\n",
              "      <td>315035</td>\n",
              "      <td>628787</td>\n",
              "      <td>202156</td>\n",
              "      <td>5103</td>\n",
              "      <td>33623</td>\n",
              "      <td>3819</td>\n",
              "      <td>33749</td>\n",
              "      <td>33424</td>\n",
              "      <td>32946</td>\n",
              "      <td>745193</td>\n",
              "      <td>786363</td>\n",
              "      <td>NaN</td>\n",
              "      <td>786363</td>\n",
              "      <td>786363</td>\n",
              "      <td>786363</td>\n",
              "      <td>433495</td>\n",
              "      <td>786363</td>\n",
              "      <td>786363</td>\n",
              "      <td>785320</td>\n",
              "      <td>773946</td>\n",
              "    </tr>\n",
              "    <tr>\n",
              "      <th>mean</th>\n",
              "      <td>NaN</td>\n",
              "      <td>NaN</td>\n",
              "      <td>10759.464459</td>\n",
              "      <td>6250.725369</td>\n",
              "      <td>NaN</td>\n",
              "      <td>136.985791</td>\n",
              "      <td>NaN</td>\n",
              "      <td>NaN</td>\n",
              "      <td>NaN</td>\n",
              "      <td>NaN</td>\n",
              "      <td>NaN</td>\n",
              "      <td>NaN</td>\n",
              "      <td>NaN</td>\n",
              "      <td>NaN</td>\n",
              "      <td>NaN</td>\n",
              "      <td>NaN</td>\n",
              "      <td>NaN</td>\n",
              "      <td>NaN</td>\n",
              "      <td>NaN</td>\n",
              "      <td>NaN</td>\n",
              "      <td>4508.739089</td>\n",
              "      <td>NaN</td>\n",
              "      <td>NaN</td>\n",
              "      <td>NaN</td>\n",
              "      <td>NaN</td>\n",
              "      <td>NaN</td>\n",
              "      <td>NaN</td>\n",
              "      <td>NaN</td>\n",
              "      <td>NaN</td>\n",
              "    </tr>\n",
              "    <tr>\n",
              "      <th>std</th>\n",
              "      <td>NaN</td>\n",
              "      <td>NaN</td>\n",
              "      <td>11636.174890</td>\n",
              "      <td>8880.783989</td>\n",
              "      <td>NaN</td>\n",
              "      <td>147.725569</td>\n",
              "      <td>NaN</td>\n",
              "      <td>NaN</td>\n",
              "      <td>NaN</td>\n",
              "      <td>NaN</td>\n",
              "      <td>NaN</td>\n",
              "      <td>NaN</td>\n",
              "      <td>NaN</td>\n",
              "      <td>NaN</td>\n",
              "      <td>NaN</td>\n",
              "      <td>NaN</td>\n",
              "      <td>NaN</td>\n",
              "      <td>NaN</td>\n",
              "      <td>NaN</td>\n",
              "      <td>NaN</td>\n",
              "      <td>6457.442068</td>\n",
              "      <td>NaN</td>\n",
              "      <td>NaN</td>\n",
              "      <td>NaN</td>\n",
              "      <td>NaN</td>\n",
              "      <td>NaN</td>\n",
              "      <td>NaN</td>\n",
              "      <td>NaN</td>\n",
              "      <td>NaN</td>\n",
              "    </tr>\n",
              "    <tr>\n",
              "      <th>min</th>\n",
              "      <td>NaN</td>\n",
              "      <td>NaN</td>\n",
              "      <td>250.000000</td>\n",
              "      <td>-1005.630000</td>\n",
              "      <td>NaN</td>\n",
              "      <td>0.000000</td>\n",
              "      <td>NaN</td>\n",
              "      <td>NaN</td>\n",
              "      <td>NaN</td>\n",
              "      <td>NaN</td>\n",
              "      <td>NaN</td>\n",
              "      <td>NaN</td>\n",
              "      <td>NaN</td>\n",
              "      <td>NaN</td>\n",
              "      <td>NaN</td>\n",
              "      <td>NaN</td>\n",
              "      <td>NaN</td>\n",
              "      <td>NaN</td>\n",
              "      <td>NaN</td>\n",
              "      <td>NaN</td>\n",
              "      <td>0.000000</td>\n",
              "      <td>NaN</td>\n",
              "      <td>NaN</td>\n",
              "      <td>NaN</td>\n",
              "      <td>NaN</td>\n",
              "      <td>NaN</td>\n",
              "      <td>NaN</td>\n",
              "      <td>NaN</td>\n",
              "      <td>NaN</td>\n",
              "    </tr>\n",
              "    <tr>\n",
              "      <th>25%</th>\n",
              "      <td>NaN</td>\n",
              "      <td>NaN</td>\n",
              "      <td>5000.000000</td>\n",
              "      <td>1077.420000</td>\n",
              "      <td>NaN</td>\n",
              "      <td>33.650000</td>\n",
              "      <td>NaN</td>\n",
              "      <td>NaN</td>\n",
              "      <td>NaN</td>\n",
              "      <td>NaN</td>\n",
              "      <td>NaN</td>\n",
              "      <td>NaN</td>\n",
              "      <td>NaN</td>\n",
              "      <td>NaN</td>\n",
              "      <td>NaN</td>\n",
              "      <td>NaN</td>\n",
              "      <td>NaN</td>\n",
              "      <td>NaN</td>\n",
              "      <td>NaN</td>\n",
              "      <td>NaN</td>\n",
              "      <td>689.910000</td>\n",
              "      <td>NaN</td>\n",
              "      <td>NaN</td>\n",
              "      <td>NaN</td>\n",
              "      <td>NaN</td>\n",
              "      <td>NaN</td>\n",
              "      <td>NaN</td>\n",
              "      <td>NaN</td>\n",
              "      <td>NaN</td>\n",
              "    </tr>\n",
              "    <tr>\n",
              "      <th>50%</th>\n",
              "      <td>NaN</td>\n",
              "      <td>NaN</td>\n",
              "      <td>7500.000000</td>\n",
              "      <td>3184.860000</td>\n",
              "      <td>NaN</td>\n",
              "      <td>87.900000</td>\n",
              "      <td>NaN</td>\n",
              "      <td>NaN</td>\n",
              "      <td>NaN</td>\n",
              "      <td>NaN</td>\n",
              "      <td>NaN</td>\n",
              "      <td>NaN</td>\n",
              "      <td>NaN</td>\n",
              "      <td>NaN</td>\n",
              "      <td>NaN</td>\n",
              "      <td>NaN</td>\n",
              "      <td>NaN</td>\n",
              "      <td>NaN</td>\n",
              "      <td>NaN</td>\n",
              "      <td>NaN</td>\n",
              "      <td>2451.760000</td>\n",
              "      <td>NaN</td>\n",
              "      <td>NaN</td>\n",
              "      <td>NaN</td>\n",
              "      <td>NaN</td>\n",
              "      <td>NaN</td>\n",
              "      <td>NaN</td>\n",
              "      <td>NaN</td>\n",
              "      <td>NaN</td>\n",
              "    </tr>\n",
              "    <tr>\n",
              "      <th>75%</th>\n",
              "      <td>NaN</td>\n",
              "      <td>NaN</td>\n",
              "      <td>15000.000000</td>\n",
              "      <td>7500.000000</td>\n",
              "      <td>NaN</td>\n",
              "      <td>191.480000</td>\n",
              "      <td>NaN</td>\n",
              "      <td>NaN</td>\n",
              "      <td>NaN</td>\n",
              "      <td>NaN</td>\n",
              "      <td>NaN</td>\n",
              "      <td>NaN</td>\n",
              "      <td>NaN</td>\n",
              "      <td>NaN</td>\n",
              "      <td>NaN</td>\n",
              "      <td>NaN</td>\n",
              "      <td>NaN</td>\n",
              "      <td>NaN</td>\n",
              "      <td>NaN</td>\n",
              "      <td>NaN</td>\n",
              "      <td>5291.095000</td>\n",
              "      <td>NaN</td>\n",
              "      <td>NaN</td>\n",
              "      <td>NaN</td>\n",
              "      <td>NaN</td>\n",
              "      <td>NaN</td>\n",
              "      <td>NaN</td>\n",
              "      <td>NaN</td>\n",
              "      <td>NaN</td>\n",
              "    </tr>\n",
              "    <tr>\n",
              "      <th>max</th>\n",
              "      <td>NaN</td>\n",
              "      <td>NaN</td>\n",
              "      <td>50000.000000</td>\n",
              "      <td>50000.000000</td>\n",
              "      <td>NaN</td>\n",
              "      <td>2011.540000</td>\n",
              "      <td>NaN</td>\n",
              "      <td>NaN</td>\n",
              "      <td>NaN</td>\n",
              "      <td>NaN</td>\n",
              "      <td>NaN</td>\n",
              "      <td>NaN</td>\n",
              "      <td>NaN</td>\n",
              "      <td>NaN</td>\n",
              "      <td>NaN</td>\n",
              "      <td>NaN</td>\n",
              "      <td>NaN</td>\n",
              "      <td>NaN</td>\n",
              "      <td>NaN</td>\n",
              "      <td>NaN</td>\n",
              "      <td>47498.810000</td>\n",
              "      <td>NaN</td>\n",
              "      <td>NaN</td>\n",
              "      <td>NaN</td>\n",
              "      <td>NaN</td>\n",
              "      <td>NaN</td>\n",
              "      <td>NaN</td>\n",
              "      <td>NaN</td>\n",
              "      <td>NaN</td>\n",
              "    </tr>\n",
              "  </tbody>\n",
              "</table>\n",
              "</div>"
            ],
            "text/plain": [
              "       accountNumber customerId  ...  expirationDateKeyInMatch  isFraud\n",
              "count         786363     786363  ...                    786363   786363\n",
              "unique          5000       5000  ...                         2        2\n",
              "top        380680241  380680241  ...                     False    False\n",
              "freq           32850      32850  ...                    785320   773946\n",
              "mean             NaN        NaN  ...                       NaN      NaN\n",
              "std              NaN        NaN  ...                       NaN      NaN\n",
              "min              NaN        NaN  ...                       NaN      NaN\n",
              "25%              NaN        NaN  ...                       NaN      NaN\n",
              "50%              NaN        NaN  ...                       NaN      NaN\n",
              "75%              NaN        NaN  ...                       NaN      NaN\n",
              "max              NaN        NaN  ...                       NaN      NaN\n",
              "\n",
              "[11 rows x 29 columns]"
            ]
          },
          "metadata": {
            "tags": []
          },
          "execution_count": 7
        }
      ]
    },
    {
      "cell_type": "markdown",
      "metadata": {
        "id": "YTKtIcUQi1Lc"
      },
      "source": [
        "## 2. EDA (exploratory data analysis)\r\n"
      ]
    },
    {
      "cell_type": "markdown",
      "metadata": {
        "id": "ILKW3Eatkv6u"
      },
      "source": [
        "## 2.1 \"isFraud\" (Response variable)"
      ]
    },
    {
      "cell_type": "code",
      "metadata": {
        "colab": {
          "base_uri": "https://localhost:8080/"
        },
        "id": "FlI6EUXSGstZ",
        "outputId": "b6cea0a3-3a05-4328-a0a4-cd28fa0c9216"
      },
      "source": [
        "print(df['isFraud'].value_counts())\r\n",
        "print(df['isFraud'].mean())"
      ],
      "execution_count": 8,
      "outputs": [
        {
          "output_type": "stream",
          "text": [
            "False    773946\n",
            "True      12417\n",
            "Name: isFraud, dtype: int64\n",
            "0.01579041740264992\n"
          ],
          "name": "stdout"
        }
      ]
    },
    {
      "cell_type": "markdown",
      "metadata": {
        "id": "-DEnHi1cQWpX"
      },
      "source": [
        "Note: I will use 1.6% as the threshold for the classification model."
      ]
    },
    {
      "cell_type": "markdown",
      "metadata": {
        "id": "d23_58g_q7G-"
      },
      "source": [
        "## 2.2 Column \"posEntryMode\" "
      ]
    },
    {
      "cell_type": "code",
      "metadata": {
        "colab": {
          "base_uri": "https://localhost:8080/"
        },
        "id": "lOVLcTOYHI5r",
        "outputId": "2336bead-f8fb-44fe-81f6-e20b4190d907"
      },
      "source": [
        "df['posEntryMode'].value_counts()"
      ],
      "execution_count": 9,
      "outputs": [
        {
          "output_type": "execute_result",
          "data": {
            "text/plain": [
              "05    315035\n",
              "09    236481\n",
              "02    195934\n",
              "90     19576\n",
              "80     15283\n",
              "        4054\n",
              "Name: posEntryMode, dtype: int64"
            ]
          },
          "metadata": {
            "tags": []
          },
          "execution_count": 9
        }
      ]
    },
    {
      "cell_type": "code",
      "metadata": {
        "colab": {
          "base_uri": "https://localhost:8080/",
          "height": 302
        },
        "id": "bOI8SOBNK4fW",
        "outputId": "6f97605e-36ea-4fbe-f727-730c5f156e05"
      },
      "source": [
        "sns.countplot(data = df[df['isFraud']], x = 'posEntryMode')"
      ],
      "execution_count": 10,
      "outputs": [
        {
          "output_type": "execute_result",
          "data": {
            "text/plain": [
              "<matplotlib.axes._subplots.AxesSubplot at 0x7f8b898cfbe0>"
            ]
          },
          "metadata": {
            "tags": []
          },
          "execution_count": 10
        },
        {
          "output_type": "display_data",
          "data": {
            "image/png": "[encoded data removed]",
            "text/plain": [
              "<Figure size 432x288 with 1 Axes>"
            ]
          },
          "metadata": {
            "tags": [],
            "needs_background": "light"
          }
        }
      ]
    },
    {
      "cell_type": "code",
      "metadata": {
        "colab": {
          "base_uri": "https://localhost:8080/",
          "height": 302
        },
        "id": "uUg1k7U5LDJz",
        "outputId": "341c4412-76a2-47f4-92f3-ce26f6ec4aaf"
      },
      "source": [
        "sns.countplot(data = df[~df['isFraud']], x = 'posEntryMode')"
      ],
      "execution_count": 11,
      "outputs": [
        {
          "output_type": "execute_result",
          "data": {
            "text/plain": [
              "<matplotlib.axes._subplots.AxesSubplot at 0x7f8b8976c278>"
            ]
          },
          "metadata": {
            "tags": []
          },
          "execution_count": 11
        },
        {
          "output_type": "display_data",
          "data": {
            "image/png": "[encoded data removed]",
            "text/plain": [
              "<Figure size 432x288 with 1 Axes>"
            ]
          },
          "metadata": {
            "tags": [],
            "needs_background": "light"
          }
        }
      ]
    },
    {
      "cell_type": "markdown",
      "metadata": {
        "id": "9vz4ScVQkQbb"
      },
      "source": [
        "From the above 2 plots, it seems like \"posEntryMode\" has a influence on whether it is a fraud or not."
      ]
    },
    {
      "cell_type": "markdown",
      "metadata": {
        "id": "3N7Y6gt-lkLb"
      },
      "source": [
        "##2.3 Column \"currentBalance\""
      ]
    },
    {
      "cell_type": "code",
      "metadata": {
        "colab": {
          "base_uri": "https://localhost:8080/"
        },
        "id": "eYRjvA5qm_s2",
        "outputId": "b78d91f2-4492-41ed-ec44-23a0d98c6b2a"
      },
      "source": [
        "df['currentBalance'].value_counts()"
      ],
      "execution_count": 12,
      "outputs": [
        {
          "output_type": "execute_result",
          "data": {
            "text/plain": [
              "0.00        33678\n",
              "8.46           26\n",
              "5.67           19\n",
              "29.42          19\n",
              "59.68          18\n",
              "            ...  \n",
              "4167.11         1\n",
              "2550.33         1\n",
              "10824.85        1\n",
              "3981.23         1\n",
              "6830.15         1\n",
              "Name: currentBalance, Length: 487318, dtype: int64"
            ]
          },
          "metadata": {
            "tags": []
          },
          "execution_count": 12
        }
      ]
    },
    {
      "cell_type": "code",
      "metadata": {
        "colab": {
          "base_uri": "https://localhost:8080/",
          "height": 358
        },
        "id": "tvkOhmI4LHZ5",
        "outputId": "ae5f02a6-f324-4296-a664-711621b57383"
      },
      "source": [
        "sns.distplot(df[df['isFraud']]['currentBalance'])"
      ],
      "execution_count": 13,
      "outputs": [
        {
          "output_type": "stream",
          "text": [
            "/usr/local/lib/python3.6/dist-packages/seaborn/distributions.py:2551: FutureWarning: `distplot` is a deprecated function and will be removed in a future version. Please adapt your code to use either `displot` (a figure-level function with similar flexibility) or `histplot` (an axes-level function for histograms).\n",
            "  warnings.warn(msg, FutureWarning)\n"
          ],
          "name": "stderr"
        },
        {
          "output_type": "execute_result",
          "data": {
            "text/plain": [
              "<matplotlib.axes._subplots.AxesSubplot at 0x7f8b89602dd8>"
            ]
          },
          "metadata": {
            "tags": []
          },
          "execution_count": 13
        },
        {
          "output_type": "display_data",
          "data": {
            "image/png": "[encoded data removed]",
            "text/plain": [
              "<Figure size 432x288 with 1 Axes>"
            ]
          },
          "metadata": {
            "tags": [],
            "needs_background": "light"
          }
        }
      ]
    },
    {
      "cell_type": "code",
      "metadata": {
        "colab": {
          "base_uri": "https://localhost:8080/",
          "height": 356
        },
        "id": "LD9wrqSFM7h1",
        "outputId": "fc606c63-3b61-47ec-d392-023c092b7444"
      },
      "source": [
        "sns.distplot(df[~df['isFraud']]['currentBalance'])"
      ],
      "execution_count": 14,
      "outputs": [
        {
          "output_type": "stream",
          "text": [
            "/usr/local/lib/python3.6/dist-packages/seaborn/distributions.py:2551: FutureWarning: `distplot` is a deprecated function and will be removed in a future version. Please adapt your code to use either `displot` (a figure-level function with similar flexibility) or `histplot` (an axes-level function for histograms).\n",
            "  warnings.warn(msg, FutureWarning)\n"
          ],
          "name": "stderr"
        },
        {
          "output_type": "execute_result",
          "data": {
            "text/plain": [
              "<matplotlib.axes._subplots.AxesSubplot at 0x7f8b897ab358>"
            ]
          },
          "metadata": {
            "tags": []
          },
          "execution_count": 14
        },
        {
          "output_type": "display_data",
          "data": {
            "image/png": "[encoded data removed]",
            "text/plain": [
              "<Figure size 432x288 with 1 Axes>"
            ]
          },
          "metadata": {
            "tags": [],
            "needs_background": "light"
          }
        }
      ]
    },
    {
      "cell_type": "markdown",
      "metadata": {
        "id": "8wOkdbg0qC1I"
      },
      "source": [
        "Since 2 graphs are similar, there is probably weak relation between \"currentBalance\" and \"isFraud\"."
      ]
    },
    {
      "cell_type": "markdown",
      "metadata": {
        "id": "i5q_BwsfmHnH"
      },
      "source": [
        "## 2.4 Column \"transactionAmount\""
      ]
    },
    {
      "cell_type": "code",
      "metadata": {
        "colab": {
          "base_uri": "https://localhost:8080/"
        },
        "id": "CCIrdcslnwVw",
        "outputId": "9a8bb34a-d0fb-45a4-fb17-e5f8cc9d3df4"
      },
      "source": [
        "df['transactionAmount'].describe()"
      ],
      "execution_count": 15,
      "outputs": [
        {
          "output_type": "execute_result",
          "data": {
            "text/plain": [
              "count    786363.000000\n",
              "mean        136.985791\n",
              "std         147.725569\n",
              "min           0.000000\n",
              "25%          33.650000\n",
              "50%          87.900000\n",
              "75%         191.480000\n",
              "max        2011.540000\n",
              "Name: transactionAmount, dtype: float64"
            ]
          },
          "metadata": {
            "tags": []
          },
          "execution_count": 15
        }
      ]
    },
    {
      "cell_type": "code",
      "metadata": {
        "colab": {
          "base_uri": "https://localhost:8080/",
          "height": 356
        },
        "id": "2iP3ApvUoTg2",
        "outputId": "b78be4c7-2759-400e-cc9c-05bc713b46e6"
      },
      "source": [
        "sns.distplot(df[df['isFraud']]['transactionAmount'])"
      ],
      "execution_count": 16,
      "outputs": [
        {
          "output_type": "stream",
          "text": [
            "/usr/local/lib/python3.6/dist-packages/seaborn/distributions.py:2551: FutureWarning: `distplot` is a deprecated function and will be removed in a future version. Please adapt your code to use either `displot` (a figure-level function with similar flexibility) or `histplot` (an axes-level function for histograms).\n",
            "  warnings.warn(msg, FutureWarning)\n"
          ],
          "name": "stderr"
        },
        {
          "output_type": "execute_result",
          "data": {
            "text/plain": [
              "<matplotlib.axes._subplots.AxesSubplot at 0x7f8b89139748>"
            ]
          },
          "metadata": {
            "tags": []
          },
          "execution_count": 16
        },
        {
          "output_type": "display_data",
          "data": {
            "image/png": "[encoded data removed]",
            "text/plain": [
              "<Figure size 432x288 with 1 Axes>"
            ]
          },
          "metadata": {
            "tags": [],
            "needs_background": "light"
          }
        }
      ]
    },
    {
      "cell_type": "code",
      "metadata": {
        "colab": {
          "base_uri": "https://localhost:8080/",
          "height": 356
        },
        "id": "2FYAJhKaoYF3",
        "outputId": "78718307-5e95-44ea-a958-03a701ac7f0b"
      },
      "source": [
        "sns.distplot(df[~df['isFraud']]['transactionAmount'])"
      ],
      "execution_count": 17,
      "outputs": [
        {
          "output_type": "stream",
          "text": [
            "/usr/local/lib/python3.6/dist-packages/seaborn/distributions.py:2551: FutureWarning: `distplot` is a deprecated function and will be removed in a future version. Please adapt your code to use either `displot` (a figure-level function with similar flexibility) or `histplot` (an axes-level function for histograms).\n",
            "  warnings.warn(msg, FutureWarning)\n"
          ],
          "name": "stderr"
        },
        {
          "output_type": "execute_result",
          "data": {
            "text/plain": [
              "<matplotlib.axes._subplots.AxesSubplot at 0x7f8b88ee2fd0>"
            ]
          },
          "metadata": {
            "tags": []
          },
          "execution_count": 17
        },
        {
          "output_type": "display_data",
          "data": {
            "image/png": "[encoded data removed]",
            "text/plain": [
              "<Figure size 432x288 with 1 Axes>"
            ]
          },
          "metadata": {
            "tags": [],
            "needs_background": "light"
          }
        }
      ]
    },
    {
      "cell_type": "markdown",
      "metadata": {
        "id": "OoJapPCfoEYf"
      },
      "source": [
        "It seems like transationAmount has an impact on whether it is a fraud."
      ]
    },
    {
      "cell_type": "markdown",
      "metadata": {
        "id": "pUJ8vIY0qivZ"
      },
      "source": [
        "## 2.5 Column \"creditLimit\""
      ]
    },
    {
      "cell_type": "code",
      "metadata": {
        "colab": {
          "base_uri": "https://localhost:8080/"
        },
        "id": "bXcePEVKqiU1",
        "outputId": "21636975-86ae-4232-d304-5f6ff6be41f8"
      },
      "source": [
        "df['creditLimit'].describe()"
      ],
      "execution_count": 18,
      "outputs": [
        {
          "output_type": "execute_result",
          "data": {
            "text/plain": [
              "count    786363.000000\n",
              "mean      10759.464459\n",
              "std       11636.174890\n",
              "min         250.000000\n",
              "25%        5000.000000\n",
              "50%        7500.000000\n",
              "75%       15000.000000\n",
              "max       50000.000000\n",
              "Name: creditLimit, dtype: float64"
            ]
          },
          "metadata": {
            "tags": []
          },
          "execution_count": 18
        }
      ]
    },
    {
      "cell_type": "code",
      "metadata": {
        "colab": {
          "base_uri": "https://localhost:8080/",
          "height": 356
        },
        "id": "sHvaRzxprVSV",
        "outputId": "22a5508f-92e3-4ab2-d3ee-c80ff4f0e877"
      },
      "source": [
        "sns.distplot(df[df['isFraud']]['transactionAmount'])"
      ],
      "execution_count": 19,
      "outputs": [
        {
          "output_type": "stream",
          "text": [
            "/usr/local/lib/python3.6/dist-packages/seaborn/distributions.py:2551: FutureWarning: `distplot` is a deprecated function and will be removed in a future version. Please adapt your code to use either `displot` (a figure-level function with similar flexibility) or `histplot` (an axes-level function for histograms).\n",
            "  warnings.warn(msg, FutureWarning)\n"
          ],
          "name": "stderr"
        },
        {
          "output_type": "execute_result",
          "data": {
            "text/plain": [
              "<matplotlib.axes._subplots.AxesSubplot at 0x7f8b88bb5a58>"
            ]
          },
          "metadata": {
            "tags": []
          },
          "execution_count": 19
        },
        {
          "output_type": "display_data",
          "data": {
            "image/png": "[encoded data removed]",
            "text/plain": [
              "<Figure size 432x288 with 1 Axes>"
            ]
          },
          "metadata": {
            "tags": [],
            "needs_background": "light"
          }
        }
      ]
    },
    {
      "cell_type": "code",
      "metadata": {
        "colab": {
          "base_uri": "https://localhost:8080/",
          "height": 356
        },
        "id": "mQMfuhG5rVOc",
        "outputId": "dab35bdb-756c-4ad3-8cc2-03a207c85277"
      },
      "source": [
        "sns.distplot(df[~df['isFraud']]['transactionAmount'])"
      ],
      "execution_count": 20,
      "outputs": [
        {
          "output_type": "stream",
          "text": [
            "/usr/local/lib/python3.6/dist-packages/seaborn/distributions.py:2551: FutureWarning: `distplot` is a deprecated function and will be removed in a future version. Please adapt your code to use either `displot` (a figure-level function with similar flexibility) or `histplot` (an axes-level function for histograms).\n",
            "  warnings.warn(msg, FutureWarning)\n"
          ],
          "name": "stderr"
        },
        {
          "output_type": "execute_result",
          "data": {
            "text/plain": [
              "<matplotlib.axes._subplots.AxesSubplot at 0x7f8b88957588>"
            ]
          },
          "metadata": {
            "tags": []
          },
          "execution_count": 20
        },
        {
          "output_type": "display_data",
          "data": {
            "image/png": "[encoded data removed]",
            "text/plain": [
              "<Figure size 432x288 with 1 Axes>"
            ]
          },
          "metadata": {
            "tags": [],
            "needs_background": "light"
          }
        }
      ]
    },
    {
      "cell_type": "markdown",
      "metadata": {
        "id": "b2RskpMurgin"
      },
      "source": [
        "It is highly likely that \"creditLimit\" has an influence on the response variable."
      ]
    },
    {
      "cell_type": "markdown",
      "metadata": {
        "id": "w3DzEwh2qamO"
      },
      "source": [
        "## 2.6 Column \"cardPresent\""
      ]
    },
    {
      "cell_type": "code",
      "metadata": {
        "colab": {
          "base_uri": "https://localhost:8080/"
        },
        "id": "OmJSZpe8oN0h",
        "outputId": "c4345896-efed-41f1-ff35-db45a5160139"
      },
      "source": [
        "df['cardPresent'].value_counts()"
      ],
      "execution_count": 21,
      "outputs": [
        {
          "output_type": "execute_result",
          "data": {
            "text/plain": [
              "False    433495\n",
              "True     352868\n",
              "Name: cardPresent, dtype: int64"
            ]
          },
          "metadata": {
            "tags": []
          },
          "execution_count": 21
        }
      ]
    },
    {
      "cell_type": "code",
      "metadata": {
        "colab": {
          "base_uri": "https://localhost:8080/",
          "height": 302
        },
        "id": "37iVSD9gpF4-",
        "outputId": "17feee39-0156-4102-904e-7d5d156421b2"
      },
      "source": [
        "sns.countplot(data = df[df['isFraud']], x = 'cardPresent')"
      ],
      "execution_count": 22,
      "outputs": [
        {
          "output_type": "execute_result",
          "data": {
            "text/plain": [
              "<matplotlib.axes._subplots.AxesSubplot at 0x7f8b889229e8>"
            ]
          },
          "metadata": {
            "tags": []
          },
          "execution_count": 22
        },
        {
          "output_type": "display_data",
          "data": {
            "image/png": "[encoded data removed]",
            "text/plain": [
              "<Figure size 432x288 with 1 Axes>"
            ]
          },
          "metadata": {
            "tags": [],
            "needs_background": "light"
          }
        }
      ]
    },
    {
      "cell_type": "code",
      "metadata": {
        "colab": {
          "base_uri": "https://localhost:8080/",
          "height": 302
        },
        "id": "OuguFBlQpKUy",
        "outputId": "812a82e3-643f-40f8-9826-bf1fe0a3d5ab"
      },
      "source": [
        "sns.countplot(data = df[~df['isFraud']], x = 'cardPresent')"
      ],
      "execution_count": 23,
      "outputs": [
        {
          "output_type": "execute_result",
          "data": {
            "text/plain": [
              "<matplotlib.axes._subplots.AxesSubplot at 0x7f8b891549e8>"
            ]
          },
          "metadata": {
            "tags": []
          },
          "execution_count": 23
        },
        {
          "output_type": "display_data",
          "data": {
            "image/png": "[encoded data removed]",
            "text/plain": [
              "<Figure size 432x288 with 1 Axes>"
            ]
          },
          "metadata": {
            "tags": [],
            "needs_background": "light"
          }
        }
      ]
    },
    {
      "cell_type": "markdown",
      "metadata": {
        "id": "TuWOBnpopPtA"
      },
      "source": [
        "The \"cardPresent\" column has an impact on the response variable."
      ]
    }
  ]
}